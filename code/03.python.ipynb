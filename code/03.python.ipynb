{
 "cells": [
  {
   "cell_type": "markdown",
   "metadata": {},
   "source": [
    "##Challenges"
   ]
  },
  {
   "cell_type": "code",
   "execution_count": 1,
   "metadata": {
    "collapsed": false
   },
   "outputs": [
    {
     "ename": "ImportError",
     "evalue": "No module named TestFramework",
     "output_type": "error",
     "traceback": [
      "\u001b[0;31m---------------------------------------------------------------------------\u001b[0m",
      "\u001b[0;31mImportError\u001b[0m                               Traceback (most recent call last)",
      "\u001b[0;32m<ipython-input-1-7e3beb7c03c9>\u001b[0m in \u001b[0;36m<module>\u001b[0;34m()\u001b[0m\n\u001b[1;32m      2\u001b[0m \u001b[0;32mfrom\u001b[0m \u001b[0mbase64\u001b[0m \u001b[0;32mimport\u001b[0m \u001b[0mb64encode\u001b[0m\u001b[0;34m,\u001b[0m \u001b[0mb64decode\u001b[0m\u001b[0;34m\u001b[0m\u001b[0m\n\u001b[1;32m      3\u001b[0m \u001b[0msys\u001b[0m\u001b[0;34m.\u001b[0m\u001b[0mpath\u001b[0m\u001b[0;34m.\u001b[0m\u001b[0mappend\u001b[0m\u001b[0;34m(\u001b[0m\u001b[0mos\u001b[0m\u001b[0;34m.\u001b[0m\u001b[0mpath\u001b[0m\u001b[0;34m.\u001b[0m\u001b[0mjoin\u001b[0m\u001b[0;34m(\u001b[0m\u001b[0mos\u001b[0m\u001b[0;34m.\u001b[0m\u001b[0mpath\u001b[0m\u001b[0;34m.\u001b[0m\u001b[0mabspath\u001b[0m\u001b[0;34m(\u001b[0m\u001b[0mos\u001b[0m\u001b[0;34m.\u001b[0m\u001b[0mpath\u001b[0m\u001b[0;34m.\u001b[0m\u001b[0mcurdir\u001b[0m\u001b[0;34m)\u001b[0m\u001b[0;34m,\u001b[0m \u001b[0;34m'..'\u001b[0m\u001b[0;34m,\u001b[0m \u001b[0;34m'TestFramework'\u001b[0m\u001b[0;34m)\u001b[0m\u001b[0;34m)\u001b[0m\u001b[0;34m\u001b[0m\u001b[0m\n\u001b[0;32m----> 4\u001b[0;31m \u001b[0;32mimport\u001b[0m \u001b[0mTestFramework\u001b[0m\u001b[0;34m\u001b[0m\u001b[0m\n\u001b[0m\u001b[1;32m      5\u001b[0m \u001b[0;34m\u001b[0m\u001b[0m\n\u001b[1;32m      6\u001b[0m \u001b[0;32mdef\u001b[0m \u001b[0msolution\u001b[0m\u001b[0;34m(\u001b[0m\u001b[0menc\u001b[0m\u001b[0;34m)\u001b[0m\u001b[0;34m:\u001b[0m\u001b[0;34m\u001b[0m\u001b[0m\n",
      "\u001b[0;31mImportError\u001b[0m: No module named TestFramework"
     ]
    }
   ],
   "source": [
    "import sys, os\n",
    "from base64 import b64encode, b64decode\n",
    "sys.path.append(os.path.join(os.path.abspath(os.path.curdir), '..', 'TestFramework'))\n",
    "import TestFramework\n",
    "\n",
    "def solution(enc):\n",
    "    for n in b64decode(enc).split('\\n'):\n",
    "        print n"
   ]
  },
  {
   "cell_type": "markdown",
   "metadata": {},
   "source": [
    "###Filter Coffee"
   ]
  },
  {
   "cell_type": "markdown",
   "metadata": {},
   "source": [
    "You love coffee and want to know what beans you can afford to buy it.\n",
    "\n",
    "The first argument to your search function will be a number which represents your budget.\n",
    "\n",
    "The second argument will be an array of coffee bean prices.\n",
    "\n",
    "Your 'search' function should return the stores that sell coffee within your budget.\n",
    "\n",
    "The search function should return a string of prices for the coffees beans you can afford. The prices in this string are to be sorted in ascending order."
   ]
  },
  {
   "cell_type": "markdown",
   "metadata": {},
   "source": [
    "####Solution "
   ]
  },
  {
   "cell_type": "code",
   "execution_count": 160,
   "metadata": {
    "collapsed": true
   },
   "outputs": [],
   "source": [
    "##Your code\n",
    "def search(budget,prices):\n",
    "    pass"
   ]
  },
  {
   "cell_type": "code",
   "execution_count": 169,
   "metadata": {
    "collapsed": true
   },
   "outputs": [],
   "source": [
    "####Sample Solution\n",
    "def search(budget,prices):\n",
    "    result = []\n",
    "    filtered = itertools.ifilter(lambda x: x <= budget, prices)\n",
    "    for b in filtered:\n",
    "        result.append(b)\n",
    "    return(sorted(result))\n",
    "    #return([''.join(str(p)) for p in filtered])"
   ]
  },
  {
   "cell_type": "code",
   "execution_count": null,
   "metadata": {
    "collapsed": true
   },
   "outputs": [],
   "source": [
    "Test.assert_equals(search(3, [6, 1, 2, 9, 2]), \"1,2,2\")\n",
    "Test.assert_equals(search(14, [7, 3, 23, 9, 14, 20, 7]), \"3,7,7,9,14\")\n",
    "Test.assert_equals(search(0, [6, 1, 2, 9, 2]), \"\")\n",
    "Test.assert_equals(search(10, []), \"\")\n",
    "Test.assert_equals(search(24, [24, 0, 100, 2, 5]), \"0,2,5,24\")"
   ]
  },
  {
   "cell_type": "markdown",
   "metadata": {},
   "source": [
    "###Who won the election?"
   ]
  },
  {
   "cell_type": "markdown",
   "metadata": {},
   "source": [
    "Your Task\n",
    "\n",
    "Return the name of the winner. If there is no winner, return None.\n",
    "\n",
    "Task Description\n",
    "\n",
    "There are no given candidates. An elector can vote for anyone. Each ballot contains only one name and represents one vote for this name. A name is an arbitrary string, e.g. \"A\", \"B\", or \"XJDHD\".\n",
    "\n",
    "There are no spoiled ballots.\n",
    "\n",
    "The ballot-box is represented by an unsorted list of names. Each entry in the list corresponds to one vote for this name. You do not know the names in advance (because there are no candidates).\n",
    "\n",
    "A name wins the election if it gets more than n/2 votes (n = number of all votes, i.e. n is equal to the size of the given list)."
   ]
  },
  {
   "cell_type": "markdown",
   "metadata": {},
   "source": [
    "####Solution"
   ]
  },
  {
   "cell_type": "code",
   "execution_count": 228,
   "metadata": {
    "collapsed": true
   },
   "outputs": [],
   "source": [
    "#Your code\n",
    "def getWinner(listOfBallots):\n",
    "    pass"
   ]
  },
  {
   "cell_type": "code",
   "execution_count": 270,
   "metadata": {
    "collapsed": false
   },
   "outputs": [],
   "source": [
    "def getWinner(listOfBallots):\n",
    "    vote_to = [k for k, g in itertools.groupby(sorted(listOfBallots))]\n",
    "    vote_count = [len(list(g)) for k, g in itertools.groupby(sorted(listOfBallots))]\n",
    "    pass_vote = len(listOfBallots)/2\n",
    "    if max(vote_count) > len(listOfBallots)/2:\n",
    "        return(vote_to[vote_count.index(max(vote_count))])\n",
    "    return None"
   ]
  },
  {
   "cell_type": "code",
   "execution_count": 269,
   "metadata": {
    "collapsed": false
   },
   "outputs": [
    {
     "name": "stdout",
     "output_type": "stream",
     "text": [
      "A\n"
     ]
    }
   ],
   "source": [
    "print(getWinner('AAAAAAAABBABCCD'))"
   ]
  },
  {
   "cell_type": "code",
   "execution_count": null,
   "metadata": {
    "collapsed": true
   },
   "outputs": [],
   "source": []
  },
  {
   "cell_type": "code",
   "execution_count": 226,
   "metadata": {
    "collapsed": false
   },
   "outputs": [
    {
     "data": {
      "text/plain": [
       "[5, 3, 2, 1]"
      ]
     },
     "execution_count": 226,
     "metadata": {},
     "output_type": "execute_result"
    }
   ],
   "source": [
    "[len(list(g)) for k, g in itertools.groupby(sorted('AAAABBABCCD'))]"
   ]
  },
  {
   "cell_type": "code",
   "execution_count": 231,
   "metadata": {
    "collapsed": false
   },
   "outputs": [
    {
     "data": {
      "text/plain": [
       "['A', 'B', 'C', 'D']"
      ]
     },
     "execution_count": 231,
     "metadata": {},
     "output_type": "execute_result"
    }
   ],
   "source": [
    "[k for k, g in itertools.groupby(sorted('AAAABBBCCDAABBB'))]"
   ]
  },
  {
   "cell_type": "markdown",
   "metadata": {},
   "source": [
    "###Color Choice"
   ]
  },
  {
   "cell_type": "markdown",
   "metadata": {},
   "source": [
    "You know combinations: for example, if you take 5 cards from a 52 cards deck you have 2,598,960 different combinations.\n",
    "\n",
    "In mathematics the number of x combinations you can take from a set of n elements is called the binomial coefficient of n and x, or more often n choose x. The formula to compute m = n choose x is: m = n! / (x! * (n - x)!) where ! is the factorial operator.\n",
    "\n",
    "You are a renowned poster designer and painter. You are asked to provide 6 posters all having the same design each in 2 colors. Posters must all have a different color combination and you have the choice of 4 colors: red, blue, yellow, green. How many colors can you choose for each poster?\n",
    "\n",
    "The answer is two since 4 choose 2 = 6. The combinations will be: {red, blue}, {red, yellow}, {red, green}, {blue, yellow}, {blue, green}, {yellow, green}.\n",
    "\n",
    "Now same question but you have 35 posters to provide and 7 colors available. How many colors for each poster? If you take combinations 7 choose 2 you will get 21 with the above formula. But 21 schemes aren't enough for 35 posters. If you take 7 choose 5 combinations you will get 21 too. Fortunately if you take 7 choose 3 or 7 choose 4 combinations you get 35 and so each poster will have a different combination of 3 colors or 5 colors. You will take 3 colors because it's less expensive.\n",
    "\n",
    "Hence the problem is:\n",
    "\n",
    "knowing m (number of posters to design), knowing n (total number of available colors), let us search x (number of colors for each poster so that each poster has a unique combination of colors and the number of combinations is exactly the same as the number of posters).\n",
    "\n",
    "In other words we must find x such as n choose x = m (1) for a given m and a given n; m >= 0 and n > 0. If many x are solutions give as result the smallest x. It can happen that when m is given at random there are no x satisfying equation (1) then return -1."
   ]
  },
  {
   "cell_type": "markdown",
   "metadata": {},
   "source": [
    "Examples:\n",
    "\n",
    "<p>checkchoose(6, 4) --> 2</p>\n",
    "<p>checkchoose(4, 4) --> 1</p>\n",
    "<p>checkchoose(4, 2) --> -1</p>\n",
    "<p>checkchoose(35, 7) --> 3</p>\n",
    "<p>checkchoose(36, 7) --> -1</p>\n",
    "<p></p>\n",
    "<p>a = 47129212243960</p>\n",
    "<p>checkchoose(a, 50) --> 20</p>\n",
    "<p>checkchoose(a + 1, 50) --> -1</p>"
   ]
  },
  {
   "cell_type": "markdown",
   "metadata": {},
   "source": [
    " - Examples:\n",
    "   - checkchoose(6, 4) --> 2\n",
    "   - checkchoose(4, 4) --> 1\n",
    "   - checkchoose(4, 2) --> -1\n",
    "   - checkchoose(35, 7) --> 3\n",
    "   - checkchoose(36, 7) --> -1\n",
    "\n",
    " - a = 5852925\n",
    "   - checkchoose(a, 30) --> 8\n",
    "   - checkchoose(a + 1, 30) --> -1"
   ]
  },
  {
   "cell_type": "markdown",
   "metadata": {},
   "source": [
    "####Solution "
   ]
  },
  {
   "cell_type": "code",
   "execution_count": 23,
   "metadata": {
    "collapsed": true
   },
   "outputs": [],
   "source": [
    "##Your code\n",
    "def checkchoose(m,n):\n",
    "    pass"
   ]
  },
  {
   "cell_type": "markdown",
   "metadata": {},
   "source": [
    "####Sample Solution"
   ]
  },
  {
   "cell_type": "code",
   "execution_count": 163,
   "metadata": {
    "collapsed": false
   },
   "outputs": [],
   "source": [
    "def checkchoose(m,n):\n",
    "    import itertools\n",
    "    for target in range(0,n-1):\n",
    "        counter = 0\n",
    "        comb = itertools.combinations(range(0,n), target)\n",
    "        for subset in comb:\n",
    "            counter = counter + 1\n",
    "        if counter == m:\n",
    "            return target\n",
    "        elif counter > m:\n",
    "            return -1\n",
    "    return -1\n",
    "\n"
   ]
  },
  {
   "cell_type": "code",
   "execution_count": 53,
   "metadata": {
    "collapsed": false
   },
   "outputs": [
    {
     "name": "stdout",
     "output_type": "stream",
     "text": [
      "5852925\n"
     ]
    }
   ],
   "source": [
    "# n choose k\n",
    "n = 30\n",
    "k = 8\n",
    "counter = 0\n",
    "comb = itertools.combinations(range(0,n), k)\n",
    "for subset in comb:\n",
    "    counter = counter + 1\n",
    "print(counter)\n"
   ]
  },
  {
   "cell_type": "code",
   "execution_count": 165,
   "metadata": {
    "collapsed": false
   },
   "outputs": [
    {
     "data": {
      "text/plain": [
       "8"
      ]
     },
     "execution_count": 165,
     "metadata": {},
     "output_type": "execute_result"
    }
   ],
   "source": [
    "checkchoose(5852925 , 30)\n",
    " "
   ]
  },
  {
   "cell_type": "code",
   "execution_count": 22,
   "metadata": {
    "collapsed": false
   },
   "outputs": [
    {
     "name": "stdout",
     "output_type": "stream",
     "text": [
      "35\n"
     ]
    }
   ],
   "source": [
    "import itertools\n",
    "counter = 0\n",
    "comb = itertools.combinations(range(0,7), 3)\n",
    "for subset in comb:\n",
    "    counter = counter + 1\n",
    "\n",
    "print(counter)"
   ]
  },
  {
   "cell_type": "code",
   "execution_count": 3,
   "metadata": {
    "collapsed": false
   },
   "outputs": [
    {
     "ename": "NameError",
     "evalue": "name 'TestFramework' is not defined",
     "output_type": "error",
     "traceback": [
      "\u001b[0;31m---------------------------------------------------------------------------\u001b[0m",
      "\u001b[0;31mNameError\u001b[0m                                 Traceback (most recent call last)",
      "\u001b[0;32m<ipython-input-3-6cfe2cb39ce6>\u001b[0m in \u001b[0;36m<module>\u001b[0;34m()\u001b[0m\n\u001b[0;32m----> 1\u001b[0;31m \u001b[0mTest\u001b[0m \u001b[0;34m=\u001b[0m \u001b[0mTestFramework\u001b[0m\u001b[0;34m.\u001b[0m\u001b[0mTest\u001b[0m\u001b[0;34m(\u001b[0m\u001b[0;34m)\u001b[0m\u001b[0;34m\u001b[0m\u001b[0m\n\u001b[0m\u001b[1;32m      2\u001b[0m \u001b[0mTest\u001b[0m\u001b[0;34m.\u001b[0m\u001b[0mdescribe\u001b[0m\u001b[0;34m(\u001b[0m\u001b[0;34m\"Basic tests\"\u001b[0m\u001b[0;34m)\u001b[0m\u001b[0;34m\u001b[0m\u001b[0m\n\u001b[1;32m      3\u001b[0m \u001b[0mTest\u001b[0m\u001b[0;34m.\u001b[0m\u001b[0mit\u001b[0m\u001b[0;34m(\u001b[0m\u001b[0;34m\"Smaller numbers\"\u001b[0m\u001b[0;34m)\u001b[0m\u001b[0;34m\u001b[0m\u001b[0m\n\u001b[1;32m      4\u001b[0m \u001b[0mTest\u001b[0m\u001b[0;34m.\u001b[0m\u001b[0massert_equals\u001b[0m\u001b[0;34m(\u001b[0m\u001b[0mcheckchoose\u001b[0m\u001b[0;34m(\u001b[0m\u001b[0;36m6\u001b[0m\u001b[0;34m,\u001b[0m \u001b[0;36m4\u001b[0m\u001b[0;34m)\u001b[0m\u001b[0;34m,\u001b[0m \u001b[0;36m2\u001b[0m\u001b[0;34m)\u001b[0m\u001b[0;34m\u001b[0m\u001b[0m\n\u001b[1;32m      5\u001b[0m \u001b[0mTest\u001b[0m\u001b[0;34m.\u001b[0m\u001b[0massert_equals\u001b[0m\u001b[0;34m(\u001b[0m\u001b[0mcheckchoose\u001b[0m\u001b[0;34m(\u001b[0m\u001b[0;36m4\u001b[0m\u001b[0;34m,\u001b[0m \u001b[0;36m4\u001b[0m\u001b[0;34m)\u001b[0m\u001b[0;34m,\u001b[0m \u001b[0;36m1\u001b[0m\u001b[0;34m)\u001b[0m\u001b[0;34m\u001b[0m\u001b[0m\n",
      "\u001b[0;31mNameError\u001b[0m: name 'TestFramework' is not defined"
     ]
    }
   ],
   "source": [
    "Test = TestFramework.Test()\n",
    "Test.describe(\"Basic tests\")\n",
    "Test.it(\"Smaller numbers\")\n",
    "Test.assert_equals(checkchoose(6, 4), 2)\n",
    "Test.assert_equals(checkchoose(4, 4), 1)\n",
    "Test.assert_equals(checkchoose(4, 2), -1)\n",
    "Test.assert_equals(checkchoose(35, 7), 3)\n",
    "Test.assert_equals(checkchoose(36, 7), -1)\n",
    "Test.it(\"Bigger numbers\")\n",
    "a = 5852925 \n",
    "Test.assert_equals(checkchoose(a , 30), 8)\n",
    "Test.assert_equals(checkchoose(a + 1 , 30), -1)"
   ]
  },
  {
   "cell_type": "markdown",
   "metadata": {},
   "source": [
    "###Moduli number system"
   ]
  },
  {
   "cell_type": "markdown",
   "metadata": {},
   "source": [
    "A number system with moduli is deﬁned by a vector of k moduli, [m1,m2, ···,mk].\n",
    "\n",
    "The moduli must be pairwise co-prime, which means that, for any pair of moduli, the only common factor is 1.\n",
    "\n",
    "In such a system each number n is represented by a string \"-x1--x2-- ... --xk-\" of its residues, one for each modulus. The product m1 ... mk must be greater than the given number n which is to be converted in the moduli number system.\n",
    "\n",
    "For example, if we use the system [2, 3, 5] the number n = 11 is represented by \"-1--2--1-\",\n",
    "the number n = 23 by \"-1--2--3-\". If we use the system [8, 7, 5, 3] the number n = 187 becomes \"-3--5--2--1-\".\n",
    "\n",
    "You will be given a number n (n >= 0) and a system S = [m1,m2, ···,mk] and you will return a string \"-x1--x2-- ...--xk-\" representing the number n in the system S.\n",
    "\n",
    "If the moduli are not pairwise co-prime or if the product m1 ... mk is not greater than n, return \"Not applicable\".\n",
    "\n",
    "Examples:\n",
    "\n",
    "fromNb2Str(11 [2,3,5]) -> \"-1--2--1-\"\n",
    "\n",
    "fromNb2Str(6, [2, 3, 4]) -> \"Not applicable\", since 2 and 4 are not coprime\n",
    "\n",
    "fromNb2Str(7, [2, 3]) -> \"Not applicable\" since 2 * 3 < 7"
   ]
  },
  {
   "cell_type": "markdown",
   "metadata": {},
   "source": [
    "####Solution "
   ]
  },
  {
   "cell_type": "code",
   "execution_count": 166,
   "metadata": {
    "collapsed": false
   },
   "outputs": [],
   "source": [
    "##Your code\n",
    "def fromNb2Str(n, modsys):\n",
    "    pass"
   ]
  },
  {
   "cell_type": "markdown",
   "metadata": {},
   "source": [
    "####Sample Solution"
   ]
  },
  {
   "cell_type": "code",
   "execution_count": 167,
   "metadata": {
    "collapsed": false
   },
   "outputs": [],
   "source": [
    "def mod(a, b):\n",
    "    return a%b\n",
    "\n",
    "def fromNb2Str(n, modsys):\n",
    "    result = \"Not applicable\"\n",
    "    if reduce(lambda x, y: x*y, modsys) < n:\n",
    "        return result\n",
    "    a = itertools.imap(mod, itertools.repeat(n, len(modsys)), modsys)\n",
    "    mob_str = \"\"\n",
    "    for w in a:\n",
    "        mob_str = mob_str + \"-\" + str(w) + \"-\"\n",
    "    return(mob_str)"
   ]
  },
  {
   "cell_type": "code",
   "execution_count": 110,
   "metadata": {
    "collapsed": false
   },
   "outputs": [
    {
     "ename": "NameError",
     "evalue": "name 'test' is not defined",
     "output_type": "error",
     "traceback": [
      "\u001b[0;31m---------------------------------------------------------------------------\u001b[0m",
      "\u001b[0;31mNameError\u001b[0m                                 Traceback (most recent call last)",
      "\u001b[0;32m<ipython-input-110-a835078ce2ca>\u001b[0m in \u001b[0;36m<module>\u001b[0;34m()\u001b[0m\n\u001b[0;32m----> 1\u001b[0;31m \u001b[0mtest\u001b[0m\u001b[0;34m.\u001b[0m\u001b[0massert_equals\u001b[0m\u001b[0;34m(\u001b[0m\u001b[0mfromNb2Str\u001b[0m\u001b[0;34m(\u001b[0m\u001b[0;36m187\u001b[0m\u001b[0;34m,\u001b[0m \u001b[0;34m[\u001b[0m\u001b[0;36m8\u001b[0m\u001b[0;34m,\u001b[0m\u001b[0;36m7\u001b[0m\u001b[0;34m,\u001b[0m\u001b[0;36m5\u001b[0m\u001b[0;34m,\u001b[0m\u001b[0;36m3\u001b[0m\u001b[0;34m]\u001b[0m\u001b[0;34m)\u001b[0m\u001b[0;34m,\u001b[0m \u001b[0;34m\"-3--5--2--1-\"\u001b[0m\u001b[0;34m)\u001b[0m\u001b[0;34m\u001b[0m\u001b[0m\n\u001b[0m",
      "\u001b[0;31mNameError\u001b[0m: name 'test' is not defined"
     ]
    }
   ],
   "source": [
    "test.assert_equals(fromNb2Str(187, [8,7,5,3]), \"-3--5--2--1-\")"
   ]
  },
  {
   "cell_type": "markdown",
   "metadata": {},
   "source": []
  },
  {
   "cell_type": "code",
   "execution_count": 124,
   "metadata": {
    "collapsed": true
   },
   "outputs": [],
   "source": []
  },
  {
   "cell_type": "code",
   "execution_count": 158,
   "metadata": {
    "collapsed": false
   },
   "outputs": [],
   "source": [
    "def search(budget,prices):\n",
    "    result = []\n",
    "    filtered = itertools.ifilter(lambda x: x <= budget, prices)\n",
    "    for b in filtered:\n",
    "        result.append(b)\n",
    "    return(sorted(result))\n",
    "    #return([''.join(str(p)) for p in filtered])"
   ]
  },
  {
   "cell_type": "code",
   "execution_count": null,
   "metadata": {
    "collapsed": true
   },
   "outputs": [],
   "source": []
  },
  {
   "cell_type": "code",
   "execution_count": 155,
   "metadata": {
    "collapsed": false
   },
   "outputs": [
    {
     "data": {
      "text/plain": [
       "['10', '01']"
      ]
     },
     "execution_count": 155,
     "metadata": {},
     "output_type": "execute_result"
    }
   ],
   "source": [
    "[''.join(p) for p in itertools.permutations('10')]"
   ]
  },
  {
   "cell_type": "code",
   "execution_count": null,
   "metadata": {
    "collapsed": true
   },
   "outputs": [],
   "source": []
  },
  {
   "cell_type": "code",
   "execution_count": null,
   "metadata": {
    "collapsed": true
   },
   "outputs": [],
   "source": []
  },
  {
   "cell_type": "code",
   "execution_count": null,
   "metadata": {
    "collapsed": true
   },
   "outputs": [],
   "source": []
  },
  {
   "cell_type": "code",
   "execution_count": null,
   "metadata": {
    "collapsed": true
   },
   "outputs": [],
   "source": []
  },
  {
   "cell_type": "code",
   "execution_count": null,
   "metadata": {
    "collapsed": true
   },
   "outputs": [],
   "source": []
  },
  {
   "cell_type": "code",
   "execution_count": null,
   "metadata": {
    "collapsed": true
   },
   "outputs": [],
   "source": []
  }
 ],
 "metadata": {
  "kernelspec": {
   "display_name": "Python 2",
   "language": "python",
   "name": "python2"
  },
  "language_info": {
   "codemirror_mode": {
    "name": "ipython",
    "version": 2
   },
   "file_extension": ".py",
   "mimetype": "text/x-python",
   "name": "python",
   "nbconvert_exporter": "python",
   "pygments_lexer": "ipython2",
   "version": "2.7.10"
  }
 },
 "nbformat": 4,
 "nbformat_minor": 0
}
