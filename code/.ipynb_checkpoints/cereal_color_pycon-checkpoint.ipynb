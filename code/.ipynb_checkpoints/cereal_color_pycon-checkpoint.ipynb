{
 "cells": [
  {
   "cell_type": "code",
   "execution_count": 3,
   "metadata": {
    "collapsed": false,
    "scrolled": true
   },
   "outputs": [
    {
     "ename": "ImportError",
     "evalue": "No module named webcolors",
     "output_type": "error",
     "traceback": [
      "\u001b[1;31m---------------------------------------------------------------------------\u001b[0m",
      "\u001b[1;31mImportError\u001b[0m                               Traceback (most recent call last)",
      "\u001b[1;32m<ipython-input-3-a332d3b5f6ff>\u001b[0m in \u001b[0;36m<module>\u001b[1;34m()\u001b[0m\n\u001b[0;32m     11\u001b[0m \u001b[1;32mfrom\u001b[0m \u001b[0msklearn\u001b[0m \u001b[1;32mimport\u001b[0m \u001b[0mfeature_selection\u001b[0m\u001b[1;33m\u001b[0m\u001b[0m\n\u001b[0;32m     12\u001b[0m \u001b[1;32mimport\u001b[0m \u001b[0mseaborn\u001b[0m \u001b[1;32mas\u001b[0m \u001b[0msns\u001b[0m\u001b[1;33m\u001b[0m\u001b[0m\n\u001b[1;32m---> 13\u001b[1;33m \u001b[1;32mimport\u001b[0m \u001b[0mwebcolors\u001b[0m\u001b[1;33m\u001b[0m\u001b[0m\n\u001b[0m\u001b[0;32m     14\u001b[0m \u001b[1;32mfrom\u001b[0m \u001b[0m__future__\u001b[0m \u001b[1;32mimport\u001b[0m \u001b[0municode_literals\u001b[0m\u001b[1;33m\u001b[0m\u001b[0m\n\u001b[0;32m     15\u001b[0m \u001b[1;32mimport\u001b[0m \u001b[0mitertools\u001b[0m\u001b[1;33m\u001b[0m\u001b[0m\n",
      "\u001b[1;31mImportError\u001b[0m: No module named webcolors"
     ]
    }
   ],
   "source": [
    "import pandas as pd\n",
    "import numpy as np\n",
    "import operator as op\n",
    "import os\n",
    "import urllib\n",
    "import string\n",
    "from ggplot import *\n",
    "from IPython.display import IFrame\n",
    "from PIL import Image\n",
    "import colorsys\n",
    "from sklearn import feature_selection\n",
    "import seaborn as sns\n",
    "import webcolors\n",
    "from __future__ import unicode_literals\n",
    "import itertools\n",
    "\n",
    "%matplotlib inline"
   ]
  },
  {
   "cell_type": "code",
   "execution_count": 2,
   "metadata": {
    "collapsed": false
   },
   "outputs": [
    {
     "name": "stdout",
     "output_type": "stream",
     "text": [
      "Fetching package metadata: ....\n",
      "Error: No packages found in current linux-64 channels matching: webcolors\n",
      "\n",
      "You can search for this package on anaconda.org with\n",
      "\n",
      "    anaconda search -t conda webcolors\n"
     ]
    }
   ],
   "source": [
    "!conda install -y c"
   ]
  },
  {
   "cell_type": "markdown",
   "metadata": {},
   "source": [
    "We used Kimono to help and get the cereal data from CerealFacts.com"
   ]
  },
  {
   "cell_type": "code",
   "execution_count": null,
   "metadata": {
    "collapsed": false
   },
   "outputs": [],
   "source": [
    "IFrame('http://cerealfacts.org/', width=1024, height=850)"
   ]
  },
  {
   "cell_type": "markdown",
   "metadata": {},
   "source": [
    "<img src=\"../assets/3027659-poster-p-kimono.jpg\">"
   ]
  },
  {
   "cell_type": "markdown",
   "metadata": {},
   "source": [
    "### Let's begin!"
   ]
  },
  {
   "cell_type": "code",
   "execution_count": null,
   "metadata": {
    "collapsed": false
   },
   "outputs": [],
   "source": [
    "## Load in the dataset\n",
    "df = pd.read_csv('../data/data.csv')"
   ]
  },
  {
   "cell_type": "code",
   "execution_count": null,
   "metadata": {
    "collapsed": false
   },
   "outputs": [],
   "source": [
    "df.describe()"
   ]
  },
  {
   "cell_type": "code",
   "execution_count": null,
   "metadata": {
    "collapsed": false
   },
   "outputs": [],
   "source": [
    "df.target_market.value_counts()"
   ]
  },
  {
   "cell_type": "code",
   "execution_count": null,
   "metadata": {
    "collapsed": false
   },
   "outputs": [],
   "source": [
    "df.head()"
   ]
  },
  {
   "cell_type": "code",
   "execution_count": null,
   "metadata": {
    "collapsed": true
   },
   "outputs": [],
   "source": [
    "df.score.hist()"
   ]
  },
  {
   "cell_type": "markdown",
   "metadata": {},
   "source": [
    "### Data pre-processing"
   ]
  },
  {
   "cell_type": "code",
   "execution_count": null,
   "metadata": {
    "collapsed": false
   },
   "outputs": [],
   "source": [
    "pd.get_option(\"display.max_columns\")"
   ]
  },
  {
   "cell_type": "code",
   "execution_count": null,
   "metadata": {
    "collapsed": false
   },
   "outputs": [],
   "source": [
    "pd.set_option(\"display.max_columns\", 50)"
   ]
  },
  {
   "cell_type": "code",
   "execution_count": null,
   "metadata": {
    "collapsed": false
   },
   "outputs": [],
   "source": [
    "df['sugar_result_perc'] = df.sugar_result.str.replace('%','').astype(int)\n",
    "df['fiber_result_perc'] = df.fiber_result.str.replace('%','').astype(int)\n",
    "df['calories_result_ratio'] = df.calories_per_serving / df.serving_size "
   ]
  },
  {
   "cell_type": "code",
   "execution_count": null,
   "metadata": {
    "collapsed": false
   },
   "outputs": [],
   "source": [
    "df.iloc[:,-3:].describe()"
   ]
  },
  {
   "cell_type": "code",
   "execution_count": null,
   "metadata": {
    "collapsed": false
   },
   "outputs": [],
   "source": [
    "df['target_market'].value_counts()"
   ]
  },
  {
   "cell_type": "code",
   "execution_count": null,
   "metadata": {
    "collapsed": true
   },
   "outputs": [],
   "source": [
    "df = df[df.target_market  != \"None\"]"
   ]
  },
  {
   "cell_type": "code",
   "execution_count": null,
   "metadata": {
    "collapsed": false
   },
   "outputs": [],
   "source": [
    "df['target_market'].value_counts()"
   ]
  },
  {
   "cell_type": "code",
   "execution_count": null,
   "metadata": {
    "collapsed": false
   },
   "outputs": [],
   "source": [
    "pd.get_dummies(df['target_market']).head()"
   ]
  },
  {
   "cell_type": "code",
   "execution_count": null,
   "metadata": {
    "collapsed": false
   },
   "outputs": [],
   "source": [
    "df = pd.concat([df, pd.get_dummies(df['target_market'])], axis=1)"
   ]
  },
  {
   "cell_type": "code",
   "execution_count": null,
   "metadata": {
    "collapsed": true
   },
   "outputs": [],
   "source": []
  },
  {
   "cell_type": "code",
   "execution_count": null,
   "metadata": {
    "collapsed": true
   },
   "outputs": [],
   "source": []
  },
  {
   "cell_type": "code",
   "execution_count": null,
   "metadata": {
    "collapsed": true
   },
   "outputs": [],
   "source": [
    "## \n",
    "def gen_file_name(row):\n",
    "    file_name = row.cover_image.split('/')[len(row.cover_image.split('/'))-1]\n",
    "    file_name = 'img_' + str(row['index']).zfill (3) + '_' + (file_name).lower()\n",
    "    #print('Processing ' + str(row['index']))\n",
    "    return(file_name)\n",
    "\n",
    "## \n",
    "def gen_cropped_file_path(row):\n",
    "    file_name = row.file_name\n",
    "    path_name = '../img/cropped/' + string.replace(file_name, '.jpg', '_cropped.png')\n",
    "    return(path_name)\n",
    "    #file_name = 'img_' + str(row['index']).zfill (3) + '_' + (file_name).lower()\n",
    "    #print('Processing ' + str(row['index']))\n",
    "    #return(file_name)"
   ]
  },
  {
   "cell_type": "code",
   "execution_count": null,
   "metadata": {
    "collapsed": true
   },
   "outputs": [],
   "source": [
    "df['file_name'] = df.apply(gen_file_name, axis=1)\n",
    "df['cropped_path'] = df.apply(gen_cropped_file_path, axis=1)"
   ]
  },
  {
   "cell_type": "code",
   "execution_count": null,
   "metadata": {
    "collapsed": false,
    "scrolled": true
   },
   "outputs": [],
   "source": [
    "df.head()"
   ]
  },
  {
   "cell_type": "code",
   "execution_count": null,
   "metadata": {
    "collapsed": true
   },
   "outputs": [],
   "source": []
  },
  {
   "cell_type": "code",
   "execution_count": null,
   "metadata": {
    "collapsed": false
   },
   "outputs": [],
   "source": [
    "## The following code download the image with the URL privedes in the csv\n",
    "'''\n",
    "for name, url in zip(df.file_name, df.cover_image):\n",
    "    if (os.path.isfile('../img/' + name) == False):\n",
    "        resource = urllib.urlopen(url)\n",
    "        output = open('../img/' + name, 'wb')\n",
    "        output.write(resource.read())\n",
    "        output.close()\n",
    "'''"
   ]
  },
  {
   "cell_type": "code",
   "execution_count": null,
   "metadata": {
    "collapsed": true
   },
   "outputs": [],
   "source": [
    "for file_name in df.file_name:\n",
    "    if (os.path.isfile('../img/cropped/' + string.replace(file_name, '.jpg', '_cropped.png')) == False):\n",
    "        img = Image.open('../img/' + file_name)\n",
    "        img = img.convert(\"RGBA\")\n",
    "        pixdata = img.load()\n",
    "        for y in xrange(img.size[1]):\n",
    "            for x in xrange(img.size[0]):\n",
    "                if pixdata[x, y] == (255, 255, 255, 255):\n",
    "                    pixdata[x, y] = (255, 255, 255, 0)\n",
    "        img.save('../img/cropped/' + string.replace(file_name, '.jpg', '_cropped.png'), \"PNG\")"
   ]
  },
  {
   "cell_type": "markdown",
   "metadata": {},
   "source": []
  },
  {
   "cell_type": "code",
   "execution_count": null,
   "metadata": {
    "collapsed": true
   },
   "outputs": [],
   "source": [
    "## Helper function to get the RGB and HSL\n",
    "\n",
    "def open_convert_image(input_img_file, numcolors=1):\n",
    "    image = Image.open(input_img_file)\n",
    "    result = image.convert('P', palette=Image.ADAPTIVE, colors=numcolors)\n",
    "    result.putalpha(0)\n",
    "    return(result)\n",
    "\n",
    "def get_list_color(input_img_file, numcolors=1):\n",
    "    return(open_convert_image(input_img_file, numcolors).getcolors())\n",
    "\n",
    "def get_rgb_list(input_img_file, numcolors=2):\n",
    "    colors_list = get_list_color(input_img_file, numcolors)\n",
    "    result = []\n",
    "    for color in colors_list:\n",
    "        result.append(list(color[1][0:3]))\n",
    "    return(result)\n",
    "\n",
    "def df_get_rgb_list(row, numcolors=3):\n",
    "    return(get_rgb_list(row.cropped_path, numcolors))\n",
    "\n",
    "def get_hls_list(input_img_file, numcolors=1):\n",
    "    result = []\n",
    "    for rgb_set in get_rgb_list(input_img_file, numcolors):\n",
    "        result.append(list(colorsys.rgb_to_hls(*[x/255.0 for x in rgb_set])))\n",
    "    return(result)\n",
    "\n",
    "def df_get_hls_list(row, numcolors=1):\n",
    "    return(list(get_hls_list(row.cropped_path, numcolors))[numcolors - 1])\n",
    "\n",
    "def df_get_h(row):\n",
    "    return(list(get_hls_list(row.cropped_path, numcolors)[0]))\n",
    "\n",
    "def hls(row, numcolors=1):\n",
    "    return(list(get_hls_list(row, numcolors))[numcolors - 1])\n",
    "\n",
    "def rgb(row, numcolors=1):\n",
    "    return(get_rgb_list(row, numcolors)[numcolors - 1])\n",
    "\n",
    "def closest_colour(requested_colour):\n",
    "    pri_color = ['Red', 'Orange', 'Yellow', 'Green', 'Blue', 'Violet', 'Brown', 'Black', 'Grey', 'White']\n",
    "    pri_color = [x.lower() for x in pri_color]\n",
    "    min_colours = {}\n",
    "    #for key, name in webcolors.css3_hex_to_names.items():\n",
    "    for key, name in [x for x in itertools.ifilter(lambda x: x[1]  in pri_color, webcolors.css3_hex_to_names.items())]:\n",
    "        r_c, g_c, b_c = webcolors.hex_to_rgb(key)\n",
    "        rd = (r_c - requested_colour[0]) ** 2\n",
    "        gd = (g_c - requested_colour[1]) ** 2\n",
    "        bd = (b_c - requested_colour[2]) ** 2\n",
    "        min_colours[(rd + gd + bd)] = name\n",
    "    return min_colours[min(min_colours.keys())]\n",
    "\n",
    "def get_colour_name(requested_colour, result_act = False):\n",
    "    try:\n",
    "        closest_name = actual_name = webcolors.rgb_to_name(requested_colour)\n",
    "    except ValueError:\n",
    "        closest_name = closest_colour(requested_colour)\n",
    "        actual_name = None\n",
    "    if result_act:\n",
    "        return actual_name, closest_name\n",
    "    return closest_name"
   ]
  },
  {
   "cell_type": "code",
   "execution_count": null,
   "metadata": {
    "collapsed": false
   },
   "outputs": [],
   "source": [
    "rgb(df.iloc[0,:].cropped_path, 2)"
   ]
  },
  {
   "cell_type": "code",
   "execution_count": null,
   "metadata": {
    "collapsed": false
   },
   "outputs": [],
   "source": [
    "hls(df.iloc[0,:].cropped_path, 2)"
   ]
  },
  {
   "cell_type": "code",
   "execution_count": null,
   "metadata": {
    "collapsed": false
   },
   "outputs": [],
   "source": [
    "for num in range(1, 4):\n",
    "    hls_color = lambda x: hls(x, num)\n",
    "    rgb_color = lambda x: rgb(x, num)\n",
    "    rgb_name = lambda x: get_colour_name(x)\n",
    "    pri_rgb_color = lambda x: webcolors.name_to_rgb(x)\n",
    "    \n",
    "    df['color_org_h' + str(num)], df['color_org_l' + str(num)], df['color_org_s' + str(num)] = zip(*df['cropped_path'].map(hls_color))\n",
    "    #df['color_r' + str(num)], df['color_g' + str(num)], df['color_b' + str(num)] = zip(*df['cropped_path'].map(rgb_color))\n",
    "    df['color_hls' + str(num)] = df['cropped_path'].map(hls_color)\n",
    "    df['color_rgb' + str(num)] = df['cropped_path'].map(rgb_color)\n",
    "    df['color_rgb_name' + str(num)] = df['color_rgb' + str(num)].map(rgb_name)\n",
    "    df['color_rgb_pri' + str(num)] = df['color_rgb_name' + str(num)].map(pri_rgb_color)\n",
    "    df['color_r' + str(num)], df['color_g' + str(num)], df['color_b' + str(num)] = zip(*df['color_rgb_name' + str(num)].map(pri_rgb_color))"
   ]
  },
  {
   "cell_type": "code",
   "execution_count": null,
   "metadata": {
    "collapsed": true
   },
   "outputs": [],
   "source": [
    "for num in range(1, 4):\n",
    "    df_dummy = pd.get_dummies(df['color_rgb_name' + str(num)])\n",
    "    df_dummy.columns = ['color_' + str(num) + '_' + x for x in list(df_dummy.columns.values)]\n",
    "    df = pd.concat([df, df_dummy], axis=1)"
   ]
  },
  {
   "cell_type": "code",
   "execution_count": null,
   "metadata": {
    "collapsed": false
   },
   "outputs": [],
   "source": [
    "df.head()"
   ]
  },
  {
   "cell_type": "code",
   "execution_count": null,
   "metadata": {
    "collapsed": true
   },
   "outputs": [],
   "source": []
  },
  {
   "cell_type": "code",
   "execution_count": null,
   "metadata": {
    "collapsed": false
   },
   "outputs": [],
   "source": [
    "pd.concat([df, pd.get_dummies(df['color_rgb_name1'], prefix_sep = ['color_1_'])], axis=1)"
   ]
  },
  {
   "cell_type": "code",
   "execution_count": null,
   "metadata": {
    "collapsed": true
   },
   "outputs": [],
   "source": []
  },
  {
   "cell_type": "code",
   "execution_count": null,
   "metadata": {
    "collapsed": true
   },
   "outputs": [],
   "source": []
  },
  {
   "cell_type": "code",
   "execution_count": null,
   "metadata": {
    "collapsed": false
   },
   "outputs": [],
   "source": [
    "min(abs(0.45 - 0.50), abs(0.65 - 0.50), abs(0.51 - 0.50))"
   ]
  },
  {
   "cell_type": "code",
   "execution_count": null,
   "metadata": {
    "collapsed": false
   },
   "outputs": [],
   "source": [
    "#plus = lambda x: hls(x, num)\n",
    "(pd.concat([(df['color_org_s1'] * df['color_org_l1'] - 0.5).abs(), (df['color_org_s2'] * df['color_org_l2'] - 0.5).abs(), (df['color_org_s3'] * df['color_org_l3'] - 0.5).abs()], axis=1).min(axis=1))\n"
   ]
  },
  {
   "cell_type": "code",
   "execution_count": null,
   "metadata": {
    "collapsed": false
   },
   "outputs": [],
   "source": [
    "df[\"color_diff\"] = pd.concat([(df['color_org_s1'] * df['color_org_l1'] - 0.5).abs(), (df['color_org_s2'] * df['color_org_l2'] - 0.5).abs(), (df['color_org_s3'] * df['color_org_l3'] - 0.5).abs()], axis=1).std(axis=1)\n",
    "df[\"color_diff\"] = pd.concat([(df['color_org_s1'] * df['color_org_l1'] - 0.5).abs(), (df['color_org_s2'] * df['color_org_l2'] - 0.5).abs(), (df['color_org_s3'] * df['color_org_l3'] - 0.5).abs()], axis=1).std(axis=1)"
   ]
  },
  {
   "cell_type": "code",
   "execution_count": null,
   "metadata": {
    "collapsed": false
   },
   "outputs": [],
   "source": [
    "pd.concat([(df['color_org_s1'] * df['color_org_l1'] - 0.5).abs(), (df['color_org_s2'] * df['color_org_l2'] - 0.5).abs(), (df['color_org_s3'] * df['color_org_l3'] - 0.5).abs()], axis=1).std(axis=1).describe()"
   ]
  },
  {
   "cell_type": "code",
   "execution_count": null,
   "metadata": {
    "collapsed": false
   },
   "outputs": [],
   "source": [
    "from sklearn.cross_validation import cross_val_score\n",
    "from sklearn.datasets import make_blobs\n",
    "from sklearn.ensemble import RandomForestClassifier\n",
    "from sklearn.ensemble import ExtraTreesClassifier\n",
    "from sklearn.tree import DecisionTreeClassifier"
   ]
  },
  {
   "cell_type": "code",
   "execution_count": null,
   "metadata": {
    "collapsed": false
   },
   "outputs": [],
   "source": [
    "col_list = list(df.columns.values)"
   ]
  },
  {
   "cell_type": "code",
   "execution_count": null,
   "metadata": {
    "collapsed": false
   },
   "outputs": [],
   "source": [
    "col_list = col_list[16:]"
   ]
  },
  {
   "cell_type": "code",
   "execution_count": null,
   "metadata": {
    "collapsed": false
   },
   "outputs": [],
   "source": [
    "col_list"
   ]
  },
  {
   "cell_type": "code",
   "execution_count": null,
   "metadata": {
    "collapsed": false
   },
   "outputs": [],
   "source": [
    "'''\n",
    "col_list.remove('target_market')\n",
    "col_list.remove('cover_image')\n",
    "col_list.remove('url')\n",
    "col_list.remove('score')\n",
    "col_list.remove('index')\n",
    "'''\n",
    "col_list.remove('cropped_path')\n",
    "col_list.remove('file_name')\n",
    "col_list.remove('color_rgb_name1')\n",
    "col_list.remove('color_rgb_name2')\n",
    "col_list.remove('color_rgb_name3')\n",
    "col_list.remove('color_hls1') \n",
    "col_list.remove('color_rgb1')\n",
    "col_list.remove('color_hls2') \n",
    "col_list.remove('color_rgb2')\n",
    "col_list.remove('color_hls3') \n",
    "col_list.remove('color_rgb3')\n",
    "col_list.remove('color_rgb_pri1')\n",
    "col_list.remove('color_rgb_pri2')\n",
    "col_list.remove('color_rgb_pri3')"
   ]
  },
  {
   "cell_type": "code",
   "execution_count": null,
   "metadata": {
    "collapsed": false
   },
   "outputs": [],
   "source": [
    "df[col_list].head()"
   ]
  },
  {
   "cell_type": "code",
   "execution_count": null,
   "metadata": {
    "collapsed": true
   },
   "outputs": [],
   "source": []
  },
  {
   "cell_type": "code",
   "execution_count": null,
   "metadata": {
    "collapsed": true
   },
   "outputs": [],
   "source": []
  },
  {
   "cell_type": "code",
   "execution_count": null,
   "metadata": {
    "collapsed": false
   },
   "outputs": [],
   "source": [
    "X = df[col_list]\n",
    "#y = df.sugar_result_perc\n",
    "y = df.fiber_result_perc"
   ]
  },
  {
   "cell_type": "code",
   "execution_count": null,
   "metadata": {
    "collapsed": false
   },
   "outputs": [],
   "source": [
    "clf = DecisionTreeClassifier(max_depth=None, min_samples_split=1,\n",
    "       random_state=0)\n",
    "scores = cross_val_score(clf, X, y)\n",
    "print \"DecisionTreeClassifier:\", scores.mean()\n",
    "\n",
    "## RandomForestClassifier\n",
    "clf = RandomForestClassifier(n_estimators=100, max_depth=None,\n",
    "     min_samples_split=1, random_state=0)\n",
    "scores = cross_val_score(clf, X, y)\n",
    "print \"RandomForestClassifier:\", scores.mean()\n",
    "\n",
    "## ExtraTreesClassifier\n",
    "clf = ExtraTreesClassifier(n_estimators=100, max_depth=None,\n",
    "    min_samples_split=1, random_state=0)\n",
    "scores = cross_val_score(clf, X, y)\n",
    "print \"ExtraTreesClassifier:  \", scores.mean()"
   ]
  },
  {
   "cell_type": "code",
   "execution_count": null,
   "metadata": {
    "collapsed": false,
    "scrolled": false
   },
   "outputs": [],
   "source": [
    "## RandomForestClassifier\n",
    "clf = RandomForestClassifier(n_estimators=100, max_depth=None,\n",
    "     min_samples_split=1, random_state=0)\n",
    "scores = cross_val_score(clf, X, y)\n",
    "print \"RandomForestClassifier:\", scores.mean()\n",
    "\n",
    "## ExtraTreesClassifier\n",
    "clf = ExtraTreesClassifier(n_estimators=100, max_depth=None,\n",
    "    min_samples_split=1, random_state=0)\n",
    "scores = cross_val_score(clf, X, y)\n",
    "print \"ExtraTreesClassifier:  \", scores.mean()"
   ]
  },
  {
   "cell_type": "code",
   "execution_count": null,
   "metadata": {
    "collapsed": false
   },
   "outputs": [],
   "source": [
    "df.fiber_result_perc.describe()"
   ]
  },
  {
   "cell_type": "code",
   "execution_count": null,
   "metadata": {
    "collapsed": false
   },
   "outputs": [],
   "source": [
    "df.sugar_result_perc.describe()"
   ]
  },
  {
   "cell_type": "code",
   "execution_count": null,
   "metadata": {
    "collapsed": false
   },
   "outputs": [],
   "source": [
    "def setFiber(fiber):\n",
    "    result = \"\"\n",
    "    if fiber >= 11:\n",
    "        result = \"Good\"\n",
    "    elif fiber <= 6:\n",
    "        #result = \"Bad\"\n",
    "        result = \"Average\"\n",
    "    else:\n",
    "        result = \"Average\"\n",
    "    return(result)\n",
    "set_fiber = lambda x: setFiber(x)\n",
    "\n",
    "def setSugar(sugar):\n",
    "    result = \"\"\n",
    "    if sugar >= 30:\n",
    "        #result = \"Bad\"\n",
    "        result = \"Average\"\n",
    "    elif sugar <= 18:\n",
    "        result = \"Good\"\n",
    "    else:\n",
    "        result = \"Average\"\n",
    "    return(result)\n",
    "set_sugar = lambda x: setSugar(x)\n",
    "\n",
    "df['fiber_label'] = df['fiber_result_perc'].map(set_fiber)\n",
    "df['sugar_label'] = df['sugar_result_perc'].map(set_sugar)"
   ]
  },
  {
   "cell_type": "code",
   "execution_count": null,
   "metadata": {
    "collapsed": false
   },
   "outputs": [],
   "source": [
    "##balance the class\n",
    "import random\n",
    "print(df.fiber_label.value_counts())\n",
    "#random.sample(df[df.fiber_label == 'Good'].index, 180)\n",
    "idx_good = [random.choice(df[df.fiber_label == 'Good'].index) for _ in range(200)]\n",
    "idx_average = [random.choice(df[df.fiber_label == 'Average'].index) for _ in range(200)]\n",
    "idx = idx_good + idx_average"
   ]
  },
  {
   "cell_type": "code",
   "execution_count": null,
   "metadata": {
    "collapsed": false
   },
   "outputs": [],
   "source": [
    "X = df[col_list]\n",
    "X = X[idx:]\n",
    "#y = df.sugar_result_perc\n",
    "y = df.fiber_label\n",
    "\n",
    "## RandomForestClassifier\n",
    "clf = RandomForestClassifier(n_estimators=100, max_depth=None,\n",
    "     min_samples_split=10, random_state=0)\n",
    "scores = cross_val_score(clf, X, y, cv = 5)\n",
    "print \"RandomForestClassifier:\", scores.mean()\n",
    "\n",
    "## ExtraTreesClassifier\n",
    "clf = ExtraTreesClassifier(n_estimators=100, max_depth=None,\n",
    "    min_samples_split=10, random_state=0)\n",
    "scores = cross_val_score(clf, X, y, cv = 5)\n",
    "print \"ExtraTreesClassifier:  \", scores.mean()"
   ]
  },
  {
   "cell_type": "code",
   "execution_count": null,
   "metadata": {
    "collapsed": false
   },
   "outputs": [],
   "source": [
    "X = df[col_list]\n",
    "#y = df.sugar_result_perc\n",
    "y = df.sugar_label\n",
    "\n",
    "## RandomForestClassifier\n",
    "clf = RandomForestClassifier(n_estimators=100, max_depth=None,\n",
    "     min_samples_split=10, random_state=0)\n",
    "scores = cross_val_score(clf, X, y, cv = 5)\n",
    "print \"RandomForestClassifier:\", scores.mean()\n",
    "\n",
    "## ExtraTreesClassifier\n",
    "clf = ExtraTreesClassifier(n_estimators=100, max_depth=None,\n",
    "    min_samples_split=10)\n",
    "scores = cross_val_score(clf, X, y, cv = 5)\n",
    "print \"ExtraTreesClassifier:  \", scores.mean()"
   ]
  },
  {
   "cell_type": "code",
   "execution_count": null,
   "metadata": {
    "collapsed": false
   },
   "outputs": [],
   "source": [
    "from sklearn.metrics import confusion_matrix\n",
    "from sklearn.cross_validation import train_test_split\n",
    "\n",
    "clf.fit(X, y)\n",
    "confusion_matrix(y, clf.predict(X))"
   ]
  },
  {
   "cell_type": "code",
   "execution_count": null,
   "metadata": {
    "collapsed": false
   },
   "outputs": [],
   "source": [
    "from sklearn.metrics import classification_report \n",
    "print(classification_report(y, clf.predict(X)))"
   ]
  },
  {
   "cell_type": "code",
   "execution_count": null,
   "metadata": {
    "collapsed": false
   },
   "outputs": [],
   "source": [
    "from sklearn.cross_validation import train_test_split\n",
    "x_train, x_test, y_train, y_test = train_test_split(X, y, test_size=0.2, random_state=42)\n",
    "clf.fit(x_train, y_train)\n",
    "\n",
    "print(confusion_matrix(y_test, clf.predict(x_test)))\n",
    "print(classification_report(y_test, clf.predict(x_test)))"
   ]
  },
  {
   "cell_type": "code",
   "execution_count": null,
   "metadata": {
    "collapsed": true
   },
   "outputs": [],
   "source": []
  },
  {
   "cell_type": "code",
   "execution_count": null,
   "metadata": {
    "collapsed": true
   },
   "outputs": [],
   "source": []
  },
  {
   "cell_type": "code",
   "execution_count": null,
   "metadata": {
    "collapsed": true
   },
   "outputs": [],
   "source": []
  },
  {
   "cell_type": "code",
   "execution_count": null,
   "metadata": {
    "collapsed": false
   },
   "outputs": [],
   "source": [
    "df['color_rgb_name1'].value_counts()"
   ]
  },
  {
   "cell_type": "code",
   "execution_count": null,
   "metadata": {
    "collapsed": false
   },
   "outputs": [],
   "source": [
    "df['color_rgb_name2'].value_counts()"
   ]
  },
  {
   "cell_type": "code",
   "execution_count": null,
   "metadata": {
    "collapsed": false
   },
   "outputs": [],
   "source": [
    "df['color_rgb_name3'].value_counts()"
   ]
  },
  {
   "cell_type": "code",
   "execution_count": null,
   "metadata": {
    "collapsed": false
   },
   "outputs": [],
   "source": [
    "from scipy.spatial import distance\n",
    "\n",
    "the_max_dist = 0\n",
    "for each_comb in [x for x in itertools.combinations('012', 2)]:\n",
    "    a = df['color_rgb1'][1][int(each_comb[0])]\n",
    "    b = df['color_rgb1'][1][int(each_comb[1])]\n",
    "    dst = distance.euclidean(a,b)\n",
    "    the_max_dist = max(dst, the_max_dist)\n",
    "\n",
    "print(the_max_dist)\n",
    "\n"
   ]
  },
  {
   "cell_type": "code",
   "execution_count": null,
   "metadata": {
    "collapsed": false
   },
   "outputs": [],
   "source": [
    "[x for x in itertools.combinations('012', 2)][1][0]"
   ]
  },
  {
   "cell_type": "code",
   "execution_count": null,
   "metadata": {
    "collapsed": false
   },
   "outputs": [],
   "source": [
    "df['color_rgb1'][1]"
   ]
  },
  {
   "cell_type": "code",
   "execution_count": null,
   "metadata": {
    "collapsed": false
   },
   "outputs": [],
   "source": [
    "webcolors.css3_hex_to_names.items()[1][1]"
   ]
  },
  {
   "cell_type": "code",
   "execution_count": null,
   "metadata": {
    "collapsed": false
   },
   "outputs": [],
   "source": [
    "3 in [1, 2, 3]"
   ]
  },
  {
   "cell_type": "code",
   "execution_count": null,
   "metadata": {
    "collapsed": false
   },
   "outputs": [],
   "source": [
    "\n"
   ]
  },
  {
   "cell_type": "code",
   "execution_count": null,
   "metadata": {
    "collapsed": false
   },
   "outputs": [],
   "source": [
    "len(df['color_rgb_name2'].value_counts())"
   ]
  },
  {
   "cell_type": "code",
   "execution_count": null,
   "metadata": {
    "collapsed": false
   },
   "outputs": [],
   "source": [
    "len(df['color_rgb_name3'].value_counts())"
   ]
  },
  {
   "cell_type": "code",
   "execution_count": null,
   "metadata": {
    "collapsed": false
   },
   "outputs": [],
   "source": []
  },
  {
   "cell_type": "code",
   "execution_count": null,
   "metadata": {
    "collapsed": false
   },
   "outputs": [],
   "source": []
  },
  {
   "cell_type": "code",
   "execution_count": null,
   "metadata": {
    "collapsed": false
   },
   "outputs": [],
   "source": [
    "rgb_name = lambda x: get_colour_name(x)\n",
    "#df['color_rgb1_name'] = df['color_rgb1'].map(rgb_name)\n",
    "df['color_rgb1'].map(rgb_name)"
   ]
  },
  {
   "cell_type": "code",
   "execution_count": null,
   "metadata": {
    "collapsed": false
   },
   "outputs": [],
   "source": [
    "requested_colour = (119, 172, 152)\n",
    "closest_name = get_colour_name(requested_colour)\n",
    "\n",
    "print \"Closest colour name:\", closest_name"
   ]
  },
  {
   "cell_type": "code",
   "execution_count": null,
   "metadata": {
    "collapsed": true
   },
   "outputs": [],
   "source": []
  },
  {
   "cell_type": "code",
   "execution_count": null,
   "metadata": {
    "collapsed": true
   },
   "outputs": [],
   "source": []
  },
  {
   "cell_type": "code",
   "execution_count": null,
   "metadata": {
    "collapsed": false,
    "scrolled": true
   },
   "outputs": [],
   "source": [
    "df.loc[140,]"
   ]
  },
  {
   "cell_type": "code",
   "execution_count": null,
   "metadata": {
    "collapsed": false
   },
   "outputs": [],
   "source": []
  },
  {
   "cell_type": "code",
   "execution_count": null,
   "metadata": {
    "collapsed": false
   },
   "outputs": [],
   "source": [
    "\n",
    "\n",
    "ggplot(df, aes(x='sugar_result', y='serving_size', color='target_market ')) +\\\n",
    "    geom_point(position = \"jitter\") +\\\n",
    "    scale_color_brewer(type='qual') +\\\n",
    "    xlab(\"Sugar Per Serving\") + ylab(\"Serving Size\") + ggtitle(\"Cereal (Sugar)\") +\\\n",
    "    facet_wrap(\"target_market\", scales=\"free_x\")"
   ]
  },
  {
   "cell_type": "code",
   "execution_count": null,
   "metadata": {
    "collapsed": true
   },
   "outputs": [],
   "source": []
  },
  {
   "cell_type": "markdown",
   "metadata": {},
   "source": [
    "###EDA"
   ]
  },
  {
   "cell_type": "markdown",
   "metadata": {},
   "source": [
    "Suger Per Serving\n",
    " - Interesting to see larger serving size does not have a hight correlation to the sugar\n",
    " - Is unstandable to see cereal which have child as targeted market has smaller serving size\n",
    " - Interesting to see cereal which have adult as targeted market has two culster of serving size\n",
    " - There seems to be a data point missing target_market "
   ]
  },
  {
   "cell_type": "code",
   "execution_count": null,
   "metadata": {
    "collapsed": false,
    "scrolled": false
   },
   "outputs": [],
   "source": [
    "ggplot(df, aes(x='sugar_per_serving', y='serving_size', color='target_market ')) +\\\n",
    "    geom_point(position = \"jitter\") +\\\n",
    "    scale_color_brewer(type='qual') +\\\n",
    "    xlab(\"Sugar Per Serving\") + ylab(\"Serving Size\") + ggtitle(\"Cereal (Sugar)\") +\\\n",
    "    facet_wrap(\"target_market\", scales=\"free_x\")"
   ]
  },
  {
   "cell_type": "markdown",
   "metadata": {},
   "source": [
    "* * * * *"
   ]
  },
  {
   "cell_type": "markdown",
   "metadata": {},
   "source": [
    "Let's remove those has no target market"
   ]
  },
  {
   "cell_type": "code",
   "execution_count": null,
   "metadata": {
    "collapsed": false
   },
   "outputs": [],
   "source": [
    "df = df[df.target_market  != \"None\"]"
   ]
  },
  {
   "cell_type": "markdown",
   "metadata": {},
   "source": [
    "* * * * *"
   ]
  },
  {
   "cell_type": "markdown",
   "metadata": {
    "collapsed": true
   },
   "source": [
    "Fiber Per Serving\n",
    " - Only Family cereal has a strong corelation to the serving size"
   ]
  },
  {
   "cell_type": "code",
   "execution_count": null,
   "metadata": {
    "collapsed": false
   },
   "outputs": [],
   "source": [
    "ggplot(df, aes(x='fiber_per_serving', y='serving_size', color='target_market ')) +\\\n",
    "    geom_point(position = \"jitter\") +\\\n",
    "    scale_color_brewer(type='qual') +\\\n",
    "    xlab(\"Fiber Per Serving\") + ylab(\"Serving Size\") + ggtitle(\"Cereal (Fiber)\") +\\\n",
    "    facet_wrap(\"target_market\", scales=\"free_x\")"
   ]
  },
  {
   "cell_type": "code",
   "execution_count": null,
   "metadata": {
    "collapsed": false
   },
   "outputs": [],
   "source": [
    "sns.set(style=\"ticks\")\n",
    "\n",
    "# Show the results of a linear regression within each dataset\n",
    "sns.lmplot(x=\"fiber_per_serving\", y=\"serving_size\", col=\"target_market\", hue=\"target_market\", col_wrap=3\n",
    "           , data=df)"
   ]
  },
  {
   "cell_type": "markdown",
   "metadata": {},
   "source": [
    "* * * * *"
   ]
  },
  {
   "cell_type": "markdown",
   "metadata": {},
   "source": [
    "Sodium Per Serving\n",
    " - Interesting to see only Adult and Family offer ZERO sodium cereal"
   ]
  },
  {
   "cell_type": "code",
   "execution_count": null,
   "metadata": {
    "collapsed": false
   },
   "outputs": [],
   "source": [
    "ggplot(df, aes(x='sodium_per_serving ', y='serving_size', color='target_market ')) +\\\n",
    "    geom_point(position = \"jitter\") +\\\n",
    "    scale_color_brewer(type='qual') +\\\n",
    "    xlab(\"Sodium Per Serving\") + ylab(\"Serving Size\") + ggtitle(\"Cereal (Sodium)\") +\\\n",
    "    facet_wrap(\"target_market\", scales=\"free_x\")"
   ]
  },
  {
   "cell_type": "markdown",
   "metadata": {
    "collapsed": false
   },
   "source": [
    "* * * * *"
   ]
  },
  {
   "cell_type": "markdown",
   "metadata": {
    "collapsed": true
   },
   "source": [
    "Calories Per Serving\n",
    " - Is safe to say that the bigger serving it is, the more calories it has. No exception"
   ]
  },
  {
   "cell_type": "code",
   "execution_count": null,
   "metadata": {
    "collapsed": false
   },
   "outputs": [],
   "source": [
    "ggplot(df, aes(x='calories_per_serving  ', y='serving_size', color='target_market ')) +\\\n",
    "    geom_point(position = \"jitter\") +\\\n",
    "    scale_color_brewer(type='qual') +\\\n",
    "    xlab(\"Calories Per Serving\") + ylab(\"Serving Size\") + ggtitle(\"Cereal (Calories)\") +\\\n",
    "    facet_wrap(\"target_market\", scales=\"free_x\")"
   ]
  },
  {
   "cell_type": "code",
   "execution_count": null,
   "metadata": {
    "collapsed": false
   },
   "outputs": [],
   "source": [
    "sns.set(style=\"ticks\")\n",
    "\n",
    "# Show the results of a linear regression within each dataset\n",
    "sns.lmplot(x=\"calories_per_serving\", y=\"serving_size\", col=\"target_market\", hue=\"target_market\", col_wrap=3\n",
    "           , data=df)"
   ]
  },
  {
   "cell_type": "code",
   "execution_count": null,
   "metadata": {
    "collapsed": true
   },
   "outputs": [],
   "source": []
  },
  {
   "cell_type": "code",
   "execution_count": null,
   "metadata": {
    "collapsed": false
   },
   "outputs": [],
   "source": [
    "import numpy as np\n",
    "import matplotlib.pyplot as plt\n",
    "rs = np.random.RandomState(10)\n",
    "\n",
    "# Set up the matplotlib figure\n",
    "sns.despine(left=True)\n",
    "\n",
    "# Generate a random univariate dataset\n",
    "d = rs.normal(size=100)\n",
    "\n",
    "# Plot a historgram and kernel density estimate\n",
    "sns.distplot(df.calories_per_serving, color=\"m\")\n",
    "\n",
    "plt.tight_layout()"
   ]
  },
  {
   "cell_type": "code",
   "execution_count": null,
   "metadata": {
    "collapsed": true
   },
   "outputs": [],
   "source": []
  },
  {
   "cell_type": "code",
   "execution_count": null,
   "metadata": {
    "collapsed": false
   },
   "outputs": [],
   "source": [
    "import seaborn as sns\n",
    "sns.set()\n",
    "\n",
    "sns.pairplot(df, hue=\"target_market\")"
   ]
  },
  {
   "cell_type": "code",
   "execution_count": null,
   "metadata": {
    "collapsed": false
   },
   "outputs": [],
   "source": [
    "import seaborn as sns\n",
    "sns.set()\n",
    "\n",
    "sns.pairplot(df, hue=\"score\")"
   ]
  },
  {
   "cell_type": "markdown",
   "metadata": {
    "collapsed": true
   },
   "source": [
    "Features =]"
   ]
  },
  {
   "cell_type": "code",
   "execution_count": null,
   "metadata": {
    "collapsed": true
   },
   "outputs": [],
   "source": [
    "## \n",
    "def gen_file_name(row):\n",
    "    file_name = row.cover_image.split('/')[len(row.cover_image.split('/'))-1]\n",
    "    file_name = 'img_' + str(row['index']).zfill (3) + '_' + (file_name).lower()\n",
    "    #print('Processing ' + str(row['index']))\n",
    "    return(file_name)\n",
    "\n",
    "## \n",
    "def gen_cropped_file_path(row):\n",
    "    file_name = row.file_name\n",
    "    path_name = '../img/cropped/' + string.replace(file_name, '.jpg', '_cropped.png')\n",
    "    return(path_name)\n",
    "    #file_name = 'img_' + str(row['index']).zfill (3) + '_' + (file_name).lower()\n",
    "    #print('Processing ' + str(row['index']))\n",
    "    #return(file_name)"
   ]
  },
  {
   "cell_type": "code",
   "execution_count": null,
   "metadata": {
    "collapsed": true
   },
   "outputs": [],
   "source": [
    "df['file_name'] = df.apply(gen_file_name, axis=1)\n",
    "df['cropped_path'] = df.apply(gen_cropped_file_path, axis=1)"
   ]
  },
  {
   "cell_type": "code",
   "execution_count": null,
   "metadata": {
    "collapsed": false
   },
   "outputs": [],
   "source": [
    "df.head()"
   ]
  },
  {
   "cell_type": "code",
   "execution_count": null,
   "metadata": {
    "collapsed": true
   },
   "outputs": [],
   "source": [
    "for name, url in zip(df.file_name, df.cover_image):\n",
    "    if (os.path.isfile('../img/' + name) == False):\n",
    "        resource = urllib.urlopen(url)\n",
    "        output = open('../img/' + name, 'wb')\n",
    "        output.write(resource.read())\n",
    "        output.close()"
   ]
  },
  {
   "cell_type": "code",
   "execution_count": null,
   "metadata": {
    "collapsed": true
   },
   "outputs": [],
   "source": [
    "for file_name in df.file_name:\n",
    "    if (os.path.isfile('../img/cropped/' + string.replace(file_name, '.jpg', '_cropped.png')) == False):\n",
    "        img = Image.open('../img/' + file_name)\n",
    "        img = img.convert(\"RGBA\")\n",
    "        pixdata = img.load()\n",
    "        for y in xrange(img.size[1]):\n",
    "            for x in xrange(img.size[0]):\n",
    "                if pixdata[x, y] == (255, 255, 255, 255):\n",
    "                    pixdata[x, y] = (255, 255, 255, 0)\n",
    "        img.save('../img/cropped/' + string.replace(file_name, '.jpg', '_cropped.png'), \"PNG\")"
   ]
  },
  {
   "cell_type": "code",
   "execution_count": null,
   "metadata": {
    "collapsed": true
   },
   "outputs": [],
   "source": [
    "## Helper function to get the RGB and HSL\n",
    "\n",
    "def open_convert_image(input_img_file, numcolors=1):\n",
    "    image = Image.open(input_img_file)\n",
    "    result = image.convert('P', palette=Image.ADAPTIVE, colors=numcolors)\n",
    "    result.putalpha(0)\n",
    "    return(result)\n",
    "\n",
    "def get_list_color(input_img_file, numcolors=1):\n",
    "    return(open_convert_image(input_img_file, numcolors).getcolors())\n",
    "\n",
    "def get_rgb_list(input_img_file, numcolors=2):\n",
    "    colors_list = get_list_color(input_img_file, numcolors)\n",
    "    result = []\n",
    "    for color in colors_list:\n",
    "        result.append(list(color[1][0:3]))\n",
    "    return(result)\n",
    "\n",
    "def df_get_rgb_list(row, numcolors=3):\n",
    "    return(get_rgb_list(row.cropped_path, numcolors))\n",
    "\n",
    "def get_hls_list(input_img_file, numcolors=1):\n",
    "    result = []\n",
    "    for rgb_set in get_rgb_list(input_img_file, numcolors):\n",
    "        result.append(list(colorsys.rgb_to_hls(*[x/255.0 for x in rgb_set])))\n",
    "    return(result)\n",
    "\n",
    "def df_get_hls_list(row, numcolors=1):\n",
    "    return(list(get_hls_list(row.cropped_path, numcolors))[numcolors - 1])\n",
    "\n",
    "def df_get_h(row):\n",
    "    return(list(get_hls_list(row.cropped_path, numcolors)[0]))\n",
    "\n",
    "def hls(row, numcolors=1):\n",
    "    return(list(get_hls_list(row, numcolors))[numcolors - 1])\n",
    "\n",
    "def rgb(row, numcolors=1):\n",
    "    return(get_rgb_list(row, numcolors)[numcolors - 1])\n",
    "\n"
   ]
  },
  {
   "cell_type": "code",
   "execution_count": null,
   "metadata": {
    "collapsed": true
   },
   "outputs": [],
   "source": [
    "for num in range(1, 4):\n",
    "    hls_color = lambda x: hls(x, num)\n",
    "    rgb_color = lambda x: rgb(x, num)\n",
    "\n",
    "    df['color_h' + str(num)], df['color_l' + str(num)], df['color_s' + str(num)] = zip(*df['cropped_path'].map(hls_color))\n",
    "    df['color_r' + str(num)], df['color_g' + str(num)], df['color_b' + str(num)] = zip(*df['cropped_path'].map(rgb_color))"
   ]
  },
  {
   "cell_type": "code",
   "execution_count": null,
   "metadata": {
    "collapsed": true
   },
   "outputs": [],
   "source": [
    "def setScore(score):\n",
    "    result = \"\"\n",
    "    if score >= 58:\n",
    "        result = \"Good\"\n",
    "    elif score < 48:\n",
    "        result = \"Bad\"\n",
    "    else:\n",
    "        result = \"Average\"\n",
    "    return(result)\n",
    "set_score = lambda x: setScore(x)\n",
    "\n",
    "df['score_label'] = df['score'].map(set_score)\n",
    "\n"
   ]
  },
  {
   "cell_type": "code",
   "execution_count": null,
   "metadata": {
    "collapsed": false
   },
   "outputs": [],
   "source": [
    "df['score_label']"
   ]
  },
  {
   "cell_type": "code",
   "execution_count": null,
   "metadata": {
    "collapsed": false
   },
   "outputs": [],
   "source": [
    "import seaborn as sns\n",
    "sns.set()\n",
    "\n",
    "sns.pairplot(df, hue=\"score_label\")"
   ]
  },
  {
   "cell_type": "code",
   "execution_count": null,
   "metadata": {
    "collapsed": false
   },
   "outputs": [],
   "source": [
    "df.corr().fiber_per_serving "
   ]
  },
  {
   "cell_type": "code",
   "execution_count": null,
   "metadata": {
    "collapsed": false
   },
   "outputs": [],
   "source": [
    "g = sns.PairGrid(df, vars=[\"color_h1\", \"color_l1\", \"color_s1\"],\n",
    "                 hue=\"score_label\", aspect=1, size=5)\n",
    "g.map(plt.scatter)"
   ]
  },
  {
   "cell_type": "code",
   "execution_count": null,
   "metadata": {
    "collapsed": false
   },
   "outputs": [],
   "source": [
    "g = sns.PairGrid(df, vars=[\"color_r1\", \"color_g1\", \"color_b1\"],\n",
    "                 hue=\"score_label\", aspect=1, size=5)\n",
    "g.map(plt.scatter)"
   ]
  },
  {
   "cell_type": "code",
   "execution_count": null,
   "metadata": {
    "collapsed": false
   },
   "outputs": [],
   "source": [
    "np.log(df.color_r1)"
   ]
  },
  {
   "cell_type": "code",
   "execution_count": null,
   "metadata": {
    "collapsed": false
   },
   "outputs": [],
   "source": [
    "df_log = np.log(df[s for s in list(df.columns.values) if 'color' in s])"
   ]
  },
  {
   "cell_type": "code",
   "execution_count": null,
   "metadata": {
    "collapsed": false
   },
   "outputs": [],
   "source": [
    "[s for s in list(df.columns.values) if 'color' in s]"
   ]
  },
  {
   "cell_type": "code",
   "execution_count": null,
   "metadata": {
    "collapsed": true
   },
   "outputs": [],
   "source": [
    "df_log = np.log(df.loc[:, [s for s in list(df.columns.values) if 'color' in s]])"
   ]
  },
  {
   "cell_type": "code",
   "execution_count": null,
   "metadata": {
    "collapsed": false
   },
   "outputs": [],
   "source": [
    "df_log = np.log(df.loc[:,'color_h1':'color_b3'])"
   ]
  },
  {
   "cell_type": "code",
   "execution_count": null,
   "metadata": {
    "collapsed": false
   },
   "outputs": [],
   "source": [
    "df_log['score_label'] = df.score_label"
   ]
  },
  {
   "cell_type": "code",
   "execution_count": null,
   "metadata": {
    "collapsed": false
   },
   "outputs": [],
   "source": [
    "df_log.head()"
   ]
  },
  {
   "cell_type": "code",
   "execution_count": null,
   "metadata": {
    "collapsed": false
   },
   "outputs": [],
   "source": [
    "g = sns.PairGrid(df_log, vars=[\"color_r1\", \"color_g1\", \"color_b1\"],\n",
    "                 hue=\"score_label\", aspect=1, size=5)\n",
    "g.map(plt.scatter)"
   ]
  },
  {
   "cell_type": "code",
   "execution_count": null,
   "metadata": {
    "collapsed": true
   },
   "outputs": [],
   "source": []
  },
  {
   "cell_type": "code",
   "execution_count": null,
   "metadata": {
    "collapsed": true
   },
   "outputs": [],
   "source": []
  },
  {
   "cell_type": "code",
   "execution_count": null,
   "metadata": {
    "collapsed": true
   },
   "outputs": [],
   "source": []
  },
  {
   "cell_type": "code",
   "execution_count": null,
   "metadata": {
    "collapsed": true
   },
   "outputs": [],
   "source": []
  },
  {
   "cell_type": "code",
   "execution_count": null,
   "metadata": {
    "collapsed": true
   },
   "outputs": [],
   "source": []
  },
  {
   "cell_type": "code",
   "execution_count": null,
   "metadata": {
    "collapsed": true
   },
   "outputs": [],
   "source": []
  },
  {
   "cell_type": "code",
   "execution_count": null,
   "metadata": {
    "collapsed": true
   },
   "outputs": [],
   "source": []
  },
  {
   "cell_type": "code",
   "execution_count": null,
   "metadata": {
    "collapsed": false
   },
   "outputs": [],
   "source": [
    "df.corr().score"
   ]
  },
  {
   "cell_type": "code",
   "execution_count": null,
   "metadata": {
    "collapsed": false
   },
   "outputs": [],
   "source": [
    "df.corr().sugar_per_serving"
   ]
  },
  {
   "cell_type": "code",
   "execution_count": null,
   "metadata": {
    "collapsed": false
   },
   "outputs": [],
   "source": [
    "df.corr().fiber_per_serving"
   ]
  },
  {
   "cell_type": "code",
   "execution_count": null,
   "metadata": {
    "collapsed": true
   },
   "outputs": [],
   "source": []
  },
  {
   "cell_type": "code",
   "execution_count": null,
   "metadata": {
    "collapsed": false
   },
   "outputs": [],
   "source": [
    "corr = df.corr()\n",
    "fig, ax = plt.subplots(figsize=(20, 20))\n",
    "ax.matshow(corr)\n",
    "plt.xticks(range(len(corr.columns)), corr.columns);\n",
    "plt.yticks(range(len(corr.columns)), corr.columns);"
   ]
  },
  {
   "cell_type": "code",
   "execution_count": null,
   "metadata": {
    "collapsed": true
   },
   "outputs": [],
   "source": []
  },
  {
   "cell_type": "code",
   "execution_count": null,
   "metadata": {
    "collapsed": true
   },
   "outputs": [],
   "source": []
  },
  {
   "cell_type": "code",
   "execution_count": null,
   "metadata": {
    "collapsed": true
   },
   "outputs": [],
   "source": []
  },
  {
   "cell_type": "code",
   "execution_count": null,
   "metadata": {
    "collapsed": false,
    "scrolled": true
   },
   "outputs": [],
   "source": [
    "X = df.drop(['score'], axis=1)\n",
    "y = df['score']"
   ]
  },
  {
   "cell_type": "code",
   "execution_count": null,
   "metadata": {
    "collapsed": false
   },
   "outputs": [],
   "source": [
    "X = df.ix[:,16:33]"
   ]
  },
  {
   "cell_type": "code",
   "execution_count": null,
   "metadata": {
    "collapsed": false
   },
   "outputs": [],
   "source": [
    "X.head()"
   ]
  },
  {
   "cell_type": "code",
   "execution_count": null,
   "metadata": {
    "collapsed": false
   },
   "outputs": [],
   "source": [
    "F = feature_selection.f_classif(X, y)[0]\n",
    "title = 'Cereal Features with F-Values'\n",
    "plt.figure(figsize=(13, 8))\n",
    "ax = sns.barplot(x=df.columns[16:33],y=F)\n",
    "ax.set_title(title)\n",
    "ax.set(xlabel=\"Features\");\n"
   ]
  },
  {
   "cell_type": "code",
   "execution_count": null,
   "metadata": {
    "collapsed": false
   },
   "outputs": [],
   "source": [
    "X = df.drop(['score'], axis=1)\n",
    "y = df['score_label']\n",
    "X = df.ix[:,16:33]\n",
    "F = feature_selection.f_classif(X, y)[0]\n",
    "title = 'Cereal Features with F-Values'\n",
    "plt.figure(figsize=(13, 8))\n",
    "ax = sns.barplot(x=df.columns[16:33],y=F)\n",
    "ax.set_title(title)\n",
    "ax.set(xlabel=\"Features\");"
   ]
  },
  {
   "cell_type": "code",
   "execution_count": null,
   "metadata": {
    "collapsed": false
   },
   "outputs": [],
   "source": []
  },
  {
   "cell_type": "code",
   "execution_count": null,
   "metadata": {
    "collapsed": true
   },
   "outputs": [],
   "source": [
    "X = df.ix[:,16:33]"
   ]
  },
  {
   "cell_type": "code",
   "execution_count": null,
   "metadata": {
    "collapsed": false
   },
   "outputs": [],
   "source": [
    "X"
   ]
  },
  {
   "cell_type": "code",
   "execution_count": null,
   "metadata": {
    "collapsed": false
   },
   "outputs": [],
   "source": [
    "X = df.drop(['score'], axis=1)\n",
    "y = df['score_label']\n",
    "X = df.ix[:,16:33]\n",
    "F = feature_selection.f_classif(X, y)[0]\n",
    "title = 'Cereal Features with F-Values'\n",
    "plt.figure(figsize=(13, 8))\n",
    "ax = sns.barplot(x=df.columns[16:33],y=F)\n",
    "ax.set_title(title)\n",
    "ax.set(xlabel=\"Features\");"
   ]
  },
  {
   "cell_type": "code",
   "execution_count": null,
   "metadata": {
    "collapsed": true
   },
   "outputs": [],
   "source": []
  },
  {
   "cell_type": "code",
   "execution_count": null,
   "metadata": {
    "collapsed": true
   },
   "outputs": [],
   "source": []
  },
  {
   "cell_type": "code",
   "execution_count": null,
   "metadata": {
    "collapsed": true
   },
   "outputs": [],
   "source": []
  },
  {
   "cell_type": "code",
   "execution_count": null,
   "metadata": {
    "collapsed": true
   },
   "outputs": [],
   "source": []
  },
  {
   "cell_type": "code",
   "execution_count": null,
   "metadata": {
    "collapsed": true
   },
   "outputs": [],
   "source": []
  },
  {
   "cell_type": "code",
   "execution_count": null,
   "metadata": {
    "collapsed": true
   },
   "outputs": [],
   "source": []
  },
  {
   "cell_type": "code",
   "execution_count": null,
   "metadata": {
    "collapsed": true
   },
   "outputs": [],
   "source": []
  },
  {
   "cell_type": "code",
   "execution_count": null,
   "metadata": {
    "collapsed": true
   },
   "outputs": [],
   "source": []
  },
  {
   "cell_type": "code",
   "execution_count": null,
   "metadata": {
    "collapsed": false
   },
   "outputs": [],
   "source": []
  },
  {
   "cell_type": "code",
   "execution_count": null,
   "metadata": {
    "collapsed": false
   },
   "outputs": [],
   "source": []
  },
  {
   "cell_type": "code",
   "execution_count": null,
   "metadata": {
    "collapsed": false
   },
   "outputs": [],
   "source": []
  },
  {
   "cell_type": "code",
   "execution_count": null,
   "metadata": {
    "collapsed": false
   },
   "outputs": [],
   "source": []
  },
  {
   "cell_type": "code",
   "execution_count": null,
   "metadata": {
    "collapsed": false
   },
   "outputs": [],
   "source": []
  },
  {
   "cell_type": "code",
   "execution_count": null,
   "metadata": {
    "collapsed": false
   },
   "outputs": [],
   "source": []
  },
  {
   "cell_type": "code",
   "execution_count": null,
   "metadata": {
    "collapsed": false
   },
   "outputs": [],
   "source": []
  },
  {
   "cell_type": "code",
   "execution_count": null,
   "metadata": {
    "collapsed": false
   },
   "outputs": [],
   "source": []
  },
  {
   "cell_type": "code",
   "execution_count": null,
   "metadata": {
    "collapsed": false
   },
   "outputs": [],
   "source": [
    "zip(*df.head()['rgb_list'])"
   ]
  },
  {
   "cell_type": "code",
   "execution_count": null,
   "metadata": {
    "collapsed": false
   },
   "outputs": [],
   "source": [
    "get_hls_list('../img/cropped/img_001_anniesfruitybunnies_cropped.png', 1)"
   ]
  },
  {
   "cell_type": "code",
   "execution_count": null,
   "metadata": {
    "collapsed": false
   },
   "outputs": [],
   "source": [
    "df['hls_list'] = df.apply(df_get_hls_list, axis=1)\n",
    "\n",
    "#get_rgb_list('../img/cropped/img_001_anniesfruitybunnies_cropped.png', 3)"
   ]
  },
  {
   "cell_type": "code",
   "execution_count": null,
   "metadata": {
    "collapsed": false
   },
   "outputs": [],
   "source": [
    "df['score'].describe()\n"
   ]
  },
  {
   "cell_type": "code",
   "execution_count": null,
   "metadata": {
    "collapsed": false
   },
   "outputs": [],
   "source": [
    "df['h'], df['l'], df['s'] = zip(*df.apply(df_get_hls_list, axis=1))"
   ]
  },
  {
   "cell_type": "code",
   "execution_count": null,
   "metadata": {
    "collapsed": false
   },
   "outputs": [],
   "source": [
    "\n",
    "\n",
    "\n",
    "\n",
    "hls_color = lambda x: hls(x, 2)\n",
    "\n",
    "zip(*df['cropped_path'].map(hls_color))"
   ]
  },
  {
   "cell_type": "code",
   "execution_count": null,
   "metadata": {
    "collapsed": false
   },
   "outputs": [],
   "source": [
    "zip(*df.apply(df_get_hls_list, axis=1))"
   ]
  },
  {
   "cell_type": "code",
   "execution_count": null,
   "metadata": {
    "collapsed": false
   },
   "outputs": [],
   "source": [
    "df[\"hls_list\"].str"
   ]
  },
  {
   "cell_type": "code",
   "execution_count": null,
   "metadata": {
    "collapsed": false
   },
   "outputs": [],
   "source": [
    "df.head()"
   ]
  },
  {
   "cell_type": "code",
   "execution_count": null,
   "metadata": {
    "collapsed": true
   },
   "outputs": [],
   "source": []
  },
  {
   "cell_type": "code",
   "execution_count": null,
   "metadata": {
    "collapsed": true
   },
   "outputs": [],
   "source": []
  },
  {
   "cell_type": "code",
   "execution_count": null,
   "metadata": {
    "collapsed": true
   },
   "outputs": [],
   "source": []
  }
 ],
 "metadata": {
  "kernelspec": {
   "display_name": "Python 2",
   "language": "python",
   "name": "python2"
  },
  "language_info": {
   "codemirror_mode": {
    "name": "ipython",
    "version": 2
   },
   "file_extension": ".py",
   "mimetype": "text/x-python",
   "name": "python",
   "nbconvert_exporter": "python",
   "pygments_lexer": "ipython2",
   "version": "2.7.10"
  }
 },
 "nbformat": 4,
 "nbformat_minor": 0
}
