{
 "cells": [
  {
   "cell_type": "code",
   "execution_count": 229,
   "metadata": {
    "collapsed": false
   },
   "outputs": [],
   "source": [
    "import pandas as pd\n",
    "import numpy as np\n",
    "import operator as op\n",
    "import os\n",
    "import urllib\n",
    "import string\n",
    "from ggplot import *\n",
    "from IPython.display import IFrame\n",
    "from PIL import Image\n",
    "import colorsys\n",
    "from sklearn import feature_selection\n",
    "import seaborn as sns\n",
    "import webcolors\n",
    "from __future__ import unicode_literals\n",
    "import itertools\n",
    "\n",
    "%matplotlib inline"
   ]
  },
  {
   "cell_type": "code",
   "execution_count": null,
   "metadata": {
    "collapsed": true
   },
   "outputs": [],
   "source": []
  },
  {
   "cell_type": "code",
   "execution_count": null,
   "metadata": {
    "collapsed": true
   },
   "outputs": [],
   "source": []
  },
  {
   "cell_type": "markdown",
   "metadata": {},
   "source": [
    "We used Kimono to help and get the cereal data from CerealFacts.com"
   ]
  },
  {
   "cell_type": "code",
   "execution_count": 171,
   "metadata": {
    "collapsed": false
   },
   "outputs": [
    {
     "data": {
      "text/html": [
       "\n",
       "        <iframe\n",
       "            width=\"1024\"\n",
       "            height=\"850\"\n",
       "            src=\"http://cerealfacts.org/\"\n",
       "            frameborder=\"0\"\n",
       "            allowfullscreen\n",
       "        ></iframe>\n",
       "        "
      ],
      "text/plain": [
       "<IPython.lib.display.IFrame at 0x17fbc9450>"
      ]
     },
     "execution_count": 171,
     "metadata": {},
     "output_type": "execute_result"
    }
   ],
   "source": [
    "IFrame('http://cerealfacts.org/', width=1024, height=850)"
   ]
  },
  {
   "cell_type": "markdown",
   "metadata": {},
   "source": [
    "<img src=\"../assets/3027659-poster-p-kimono.jpg\">"
   ]
  },
  {
   "cell_type": "markdown",
   "metadata": {},
   "source": [
    "###Let's begin!"
   ]
  },
  {
   "cell_type": "code",
   "execution_count": 172,
   "metadata": {
    "collapsed": true
   },
   "outputs": [],
   "source": [
    "## Load in the dataset\n",
    "df = pd.read_csv('../data/data.csv')"
   ]
  },
  {
   "cell_type": "code",
   "execution_count": 173,
   "metadata": {
    "collapsed": false
   },
   "outputs": [
    {
     "data": {
      "text/html": [
       "<div>\n",
       "<table border=\"1\" class=\"dataframe\">\n",
       "  <thead>\n",
       "    <tr style=\"text-align: right;\">\n",
       "      <th></th>\n",
       "      <th>score</th>\n",
       "      <th>sodium_result</th>\n",
       "      <th>sugar_per_serving</th>\n",
       "      <th>fiber_per_serving</th>\n",
       "      <th>sodium_per_serving</th>\n",
       "      <th>calories_per_serving</th>\n",
       "      <th>serving_size</th>\n",
       "      <th>index</th>\n",
       "    </tr>\n",
       "  </thead>\n",
       "  <tbody>\n",
       "    <tr>\n",
       "      <th>count</th>\n",
       "      <td>260.000000</td>\n",
       "      <td>260.000000</td>\n",
       "      <td>260.000000</td>\n",
       "      <td>260.000000</td>\n",
       "      <td>260.000000</td>\n",
       "      <td>260.000000</td>\n",
       "      <td>260.000000</td>\n",
       "      <td>260.000000</td>\n",
       "    </tr>\n",
       "    <tr>\n",
       "      <th>mean</th>\n",
       "      <td>55.623077</td>\n",
       "      <td>390.165385</td>\n",
       "      <td>9.130769</td>\n",
       "      <td>3.911538</td>\n",
       "      <td>144.596154</td>\n",
       "      <td>150.480769</td>\n",
       "      <td>40.342308</td>\n",
       "      <td>130.500000</td>\n",
       "    </tr>\n",
       "    <tr>\n",
       "      <th>std</th>\n",
       "      <td>11.464072</td>\n",
       "      <td>195.988829</td>\n",
       "      <td>3.960009</td>\n",
       "      <td>2.757206</td>\n",
       "      <td>70.477757</td>\n",
       "      <td>48.265870</td>\n",
       "      <td>12.519411</td>\n",
       "      <td>75.199734</td>\n",
       "    </tr>\n",
       "    <tr>\n",
       "      <th>min</th>\n",
       "      <td>26.000000</td>\n",
       "      <td>0.000000</td>\n",
       "      <td>0.000000</td>\n",
       "      <td>0.000000</td>\n",
       "      <td>0.000000</td>\n",
       "      <td>60.000000</td>\n",
       "      <td>19.000000</td>\n",
       "      <td>1.000000</td>\n",
       "    </tr>\n",
       "    <tr>\n",
       "      <th>25%</th>\n",
       "      <td>48.000000</td>\n",
       "      <td>258.000000</td>\n",
       "      <td>6.000000</td>\n",
       "      <td>2.000000</td>\n",
       "      <td>110.000000</td>\n",
       "      <td>110.000000</td>\n",
       "      <td>30.000000</td>\n",
       "      <td>65.750000</td>\n",
       "    </tr>\n",
       "    <tr>\n",
       "      <th>50%</th>\n",
       "      <td>54.000000</td>\n",
       "      <td>400.000000</td>\n",
       "      <td>9.000000</td>\n",
       "      <td>3.000000</td>\n",
       "      <td>140.000000</td>\n",
       "      <td>120.000000</td>\n",
       "      <td>32.000000</td>\n",
       "      <td>130.500000</td>\n",
       "    </tr>\n",
       "    <tr>\n",
       "      <th>75%</th>\n",
       "      <td>58.000000</td>\n",
       "      <td>545.500000</td>\n",
       "      <td>12.000000</td>\n",
       "      <td>5.250000</td>\n",
       "      <td>190.000000</td>\n",
       "      <td>200.000000</td>\n",
       "      <td>55.000000</td>\n",
       "      <td>195.250000</td>\n",
       "    </tr>\n",
       "    <tr>\n",
       "      <th>max</th>\n",
       "      <td>82.000000</td>\n",
       "      <td>889.000000</td>\n",
       "      <td>19.000000</td>\n",
       "      <td>14.000000</td>\n",
       "      <td>360.000000</td>\n",
       "      <td>250.000000</td>\n",
       "      <td>62.000000</td>\n",
       "      <td>260.000000</td>\n",
       "    </tr>\n",
       "  </tbody>\n",
       "</table>\n",
       "</div>"
      ],
      "text/plain": [
       "            score  sodium_result  sugar_per_serving  fiber_per_serving  \\\n",
       "count  260.000000     260.000000         260.000000         260.000000   \n",
       "mean    55.623077     390.165385           9.130769           3.911538   \n",
       "std     11.464072     195.988829           3.960009           2.757206   \n",
       "min     26.000000       0.000000           0.000000           0.000000   \n",
       "25%     48.000000     258.000000           6.000000           2.000000   \n",
       "50%     54.000000     400.000000           9.000000           3.000000   \n",
       "75%     58.000000     545.500000          12.000000           5.250000   \n",
       "max     82.000000     889.000000          19.000000          14.000000   \n",
       "\n",
       "       sodium_per_serving  calories_per_serving  serving_size       index  \n",
       "count          260.000000            260.000000    260.000000  260.000000  \n",
       "mean           144.596154            150.480769     40.342308  130.500000  \n",
       "std             70.477757             48.265870     12.519411   75.199734  \n",
       "min              0.000000             60.000000     19.000000    1.000000  \n",
       "25%            110.000000            110.000000     30.000000   65.750000  \n",
       "50%            140.000000            120.000000     32.000000  130.500000  \n",
       "75%            190.000000            200.000000     55.000000  195.250000  \n",
       "max            360.000000            250.000000     62.000000  260.000000  "
      ]
     },
     "execution_count": 173,
     "metadata": {},
     "output_type": "execute_result"
    }
   ],
   "source": [
    "df.describe()"
   ]
  },
  {
   "cell_type": "code",
   "execution_count": 174,
   "metadata": {
    "collapsed": false
   },
   "outputs": [
    {
     "data": {
      "text/html": [
       "<div>\n",
       "<table border=\"1\" class=\"dataframe\">\n",
       "  <thead>\n",
       "    <tr style=\"text-align: right;\">\n",
       "      <th></th>\n",
       "      <th>target_market</th>\n",
       "      <th>score</th>\n",
       "      <th>cover_image</th>\n",
       "      <th>sugar_result</th>\n",
       "      <th>fiber_result</th>\n",
       "      <th>sodium_result</th>\n",
       "      <th>sugar_per_serving</th>\n",
       "      <th>fiber_per_serving</th>\n",
       "      <th>sodium_per_serving</th>\n",
       "      <th>calories_per_serving</th>\n",
       "      <th>serving_size</th>\n",
       "      <th>index</th>\n",
       "      <th>url</th>\n",
       "    </tr>\n",
       "  </thead>\n",
       "  <tbody>\n",
       "    <tr>\n",
       "      <th>0</th>\n",
       "      <td>Family</td>\n",
       "      <td>50</td>\n",
       "      <td>http://cerealfacts.org/media/cereal_images/Ann...</td>\n",
       "      <td>24%</td>\n",
       "      <td>3%</td>\n",
       "      <td>293</td>\n",
       "      <td>7</td>\n",
       "      <td>1</td>\n",
       "      <td>85</td>\n",
       "      <td>120</td>\n",
       "      <td>29</td>\n",
       "      <td>1</td>\n",
       "      <td>http://cerealfacts.org/cereal_nutrition_scores...</td>\n",
       "    </tr>\n",
       "    <tr>\n",
       "      <th>1</th>\n",
       "      <td>Family</td>\n",
       "      <td>52</td>\n",
       "      <td>http://cerealfacts.org/media/cereal_images/Ann...</td>\n",
       "      <td>24%</td>\n",
       "      <td>3%</td>\n",
       "      <td>310</td>\n",
       "      <td>7</td>\n",
       "      <td>1</td>\n",
       "      <td>90</td>\n",
       "      <td>110</td>\n",
       "      <td>29</td>\n",
       "      <td>2</td>\n",
       "      <td>http://cerealfacts.org/cereal_nutrition_scores...</td>\n",
       "    </tr>\n",
       "    <tr>\n",
       "      <th>2</th>\n",
       "      <td>Family</td>\n",
       "      <td>50</td>\n",
       "      <td>http://cerealfacts.org/media/cereal_images/Ann...</td>\n",
       "      <td>24%</td>\n",
       "      <td>3%</td>\n",
       "      <td>293</td>\n",
       "      <td>7</td>\n",
       "      <td>1</td>\n",
       "      <td>85</td>\n",
       "      <td>120</td>\n",
       "      <td>29</td>\n",
       "      <td>3</td>\n",
       "      <td>http://cerealfacts.org/cereal_nutrition_scores...</td>\n",
       "    </tr>\n",
       "    <tr>\n",
       "      <th>3</th>\n",
       "      <td>Family</td>\n",
       "      <td>64</td>\n",
       "      <td>http://cerealfacts.org/media/cereal_images/Ann...</td>\n",
       "      <td>7%</td>\n",
       "      <td>3%</td>\n",
       "      <td>379</td>\n",
       "      <td>2</td>\n",
       "      <td>1</td>\n",
       "      <td>110</td>\n",
       "      <td>120</td>\n",
       "      <td>29</td>\n",
       "      <td>4</td>\n",
       "      <td>http://cerealfacts.org/cereal_nutrition_scores...</td>\n",
       "    </tr>\n",
       "    <tr>\n",
       "      <th>4</th>\n",
       "      <td>Family</td>\n",
       "      <td>58</td>\n",
       "      <td>http://cerealfacts.org/media/cereal_images/Bar...</td>\n",
       "      <td>23%</td>\n",
       "      <td>10%</td>\n",
       "      <td>267</td>\n",
       "      <td>7</td>\n",
       "      <td>3</td>\n",
       "      <td>80</td>\n",
       "      <td>120</td>\n",
       "      <td>30</td>\n",
       "      <td>5</td>\n",
       "      <td>http://cerealfacts.org/cereal_nutrition_scores...</td>\n",
       "    </tr>\n",
       "  </tbody>\n",
       "</table>\n",
       "</div>"
      ],
      "text/plain": [
       "  target_market  score                                        cover_image  \\\n",
       "0        Family     50  http://cerealfacts.org/media/cereal_images/Ann...   \n",
       "1        Family     52  http://cerealfacts.org/media/cereal_images/Ann...   \n",
       "2        Family     50  http://cerealfacts.org/media/cereal_images/Ann...   \n",
       "3        Family     64  http://cerealfacts.org/media/cereal_images/Ann...   \n",
       "4        Family     58  http://cerealfacts.org/media/cereal_images/Bar...   \n",
       "\n",
       "  sugar_result fiber_result  sodium_result  sugar_per_serving  \\\n",
       "0          24%           3%            293                  7   \n",
       "1          24%           3%            310                  7   \n",
       "2          24%           3%            293                  7   \n",
       "3           7%           3%            379                  2   \n",
       "4          23%          10%            267                  7   \n",
       "\n",
       "   fiber_per_serving  sodium_per_serving  calories_per_serving  serving_size  \\\n",
       "0                  1                  85                   120            29   \n",
       "1                  1                  90                   110            29   \n",
       "2                  1                  85                   120            29   \n",
       "3                  1                 110                   120            29   \n",
       "4                  3                  80                   120            30   \n",
       "\n",
       "   index                                                url  \n",
       "0      1  http://cerealfacts.org/cereal_nutrition_scores...  \n",
       "1      2  http://cerealfacts.org/cereal_nutrition_scores...  \n",
       "2      3  http://cerealfacts.org/cereal_nutrition_scores...  \n",
       "3      4  http://cerealfacts.org/cereal_nutrition_scores...  \n",
       "4      5  http://cerealfacts.org/cereal_nutrition_scores...  "
      ]
     },
     "execution_count": 174,
     "metadata": {},
     "output_type": "execute_result"
    }
   ],
   "source": [
    "df.head()"
   ]
  },
  {
   "cell_type": "markdown",
   "metadata": {},
   "source": [
    "###Data pre-processing"
   ]
  },
  {
   "cell_type": "code",
   "execution_count": 175,
   "metadata": {
    "collapsed": false
   },
   "outputs": [
    {
     "data": {
      "text/plain": [
       "50"
      ]
     },
     "execution_count": 175,
     "metadata": {},
     "output_type": "execute_result"
    }
   ],
   "source": [
    "pd.get_option(\"display.max_columns\")"
   ]
  },
  {
   "cell_type": "code",
   "execution_count": 176,
   "metadata": {
    "collapsed": false
   },
   "outputs": [],
   "source": [
    "pd.set_option(\"display.max_columns\", 50)"
   ]
  },
  {
   "cell_type": "code",
   "execution_count": 177,
   "metadata": {
    "collapsed": false
   },
   "outputs": [],
   "source": [
    "df['sugar_result_perc'] = df.sugar_result.str.replace('%','').astype(int)\n",
    "df['fiber_result_perc'] = df.fiber_result.str.replace('%','').astype(int)\n",
    "df['calories_result_ratio'] = df.calories_per_serving / df.serving_size "
   ]
  },
  {
   "cell_type": "code",
   "execution_count": 178,
   "metadata": {
    "collapsed": false
   },
   "outputs": [
    {
     "data": {
      "text/html": [
       "<div>\n",
       "<table border=\"1\" class=\"dataframe\">\n",
       "  <thead>\n",
       "    <tr style=\"text-align: right;\">\n",
       "      <th></th>\n",
       "      <th>sugar_result_perc</th>\n",
       "      <th>fiber_result_perc</th>\n",
       "      <th>calories_result_ratio</th>\n",
       "    </tr>\n",
       "  </thead>\n",
       "  <tbody>\n",
       "    <tr>\n",
       "      <th>count</th>\n",
       "      <td>260.000000</td>\n",
       "      <td>260.000000</td>\n",
       "      <td>260.000000</td>\n",
       "    </tr>\n",
       "    <tr>\n",
       "      <th>mean</th>\n",
       "      <td>23.350000</td>\n",
       "      <td>9.323077</td>\n",
       "      <td>3.734876</td>\n",
       "    </tr>\n",
       "    <tr>\n",
       "      <th>std</th>\n",
       "      <td>9.734536</td>\n",
       "      <td>6.290540</td>\n",
       "      <td>0.330563</td>\n",
       "    </tr>\n",
       "    <tr>\n",
       "      <th>min</th>\n",
       "      <td>0.000000</td>\n",
       "      <td>0.000000</td>\n",
       "      <td>2.000000</td>\n",
       "    </tr>\n",
       "    <tr>\n",
       "      <th>25%</th>\n",
       "      <td>18.000000</td>\n",
       "      <td>5.750000</td>\n",
       "      <td>3.571429</td>\n",
       "    </tr>\n",
       "    <tr>\n",
       "      <th>50%</th>\n",
       "      <td>23.000000</td>\n",
       "      <td>8.500000</td>\n",
       "      <td>3.728814</td>\n",
       "    </tr>\n",
       "    <tr>\n",
       "      <th>75%</th>\n",
       "      <td>30.000000</td>\n",
       "      <td>11.000000</td>\n",
       "      <td>4.000000</td>\n",
       "    </tr>\n",
       "    <tr>\n",
       "      <th>max</th>\n",
       "      <td>56.000000</td>\n",
       "      <td>47.000000</td>\n",
       "      <td>4.385965</td>\n",
       "    </tr>\n",
       "  </tbody>\n",
       "</table>\n",
       "</div>"
      ],
      "text/plain": [
       "       sugar_result_perc  fiber_result_perc  calories_result_ratio\n",
       "count         260.000000         260.000000             260.000000\n",
       "mean           23.350000           9.323077               3.734876\n",
       "std             9.734536           6.290540               0.330563\n",
       "min             0.000000           0.000000               2.000000\n",
       "25%            18.000000           5.750000               3.571429\n",
       "50%            23.000000           8.500000               3.728814\n",
       "75%            30.000000          11.000000               4.000000\n",
       "max            56.000000          47.000000               4.385965"
      ]
     },
     "execution_count": 178,
     "metadata": {},
     "output_type": "execute_result"
    }
   ],
   "source": [
    "df.iloc[:,-3:].describe()"
   ]
  },
  {
   "cell_type": "code",
   "execution_count": 179,
   "metadata": {
    "collapsed": false
   },
   "outputs": [
    {
     "data": {
      "text/plain": [
       "Adult     152\n",
       "Family     73\n",
       "Child      34\n",
       "None        1\n",
       "dtype: int64"
      ]
     },
     "execution_count": 179,
     "metadata": {},
     "output_type": "execute_result"
    }
   ],
   "source": [
    "df['target_market'].value_counts()"
   ]
  },
  {
   "cell_type": "code",
   "execution_count": 180,
   "metadata": {
    "collapsed": true
   },
   "outputs": [],
   "source": [
    "df = df[df.target_market  != \"None\"]"
   ]
  },
  {
   "cell_type": "code",
   "execution_count": 181,
   "metadata": {
    "collapsed": false
   },
   "outputs": [
    {
     "data": {
      "text/plain": [
       "Adult     152\n",
       "Family     73\n",
       "Child      34\n",
       "dtype: int64"
      ]
     },
     "execution_count": 181,
     "metadata": {},
     "output_type": "execute_result"
    }
   ],
   "source": [
    "df['target_market'].value_counts()"
   ]
  },
  {
   "cell_type": "code",
   "execution_count": 182,
   "metadata": {
    "collapsed": false
   },
   "outputs": [
    {
     "data": {
      "text/html": [
       "<div>\n",
       "<table border=\"1\" class=\"dataframe\">\n",
       "  <thead>\n",
       "    <tr style=\"text-align: right;\">\n",
       "      <th></th>\n",
       "      <th>Adult</th>\n",
       "      <th>Child</th>\n",
       "      <th>Family</th>\n",
       "    </tr>\n",
       "  </thead>\n",
       "  <tbody>\n",
       "    <tr>\n",
       "      <th>0</th>\n",
       "      <td>0</td>\n",
       "      <td>0</td>\n",
       "      <td>1</td>\n",
       "    </tr>\n",
       "    <tr>\n",
       "      <th>1</th>\n",
       "      <td>0</td>\n",
       "      <td>0</td>\n",
       "      <td>1</td>\n",
       "    </tr>\n",
       "    <tr>\n",
       "      <th>2</th>\n",
       "      <td>0</td>\n",
       "      <td>0</td>\n",
       "      <td>1</td>\n",
       "    </tr>\n",
       "    <tr>\n",
       "      <th>3</th>\n",
       "      <td>0</td>\n",
       "      <td>0</td>\n",
       "      <td>1</td>\n",
       "    </tr>\n",
       "    <tr>\n",
       "      <th>4</th>\n",
       "      <td>0</td>\n",
       "      <td>0</td>\n",
       "      <td>1</td>\n",
       "    </tr>\n",
       "  </tbody>\n",
       "</table>\n",
       "</div>"
      ],
      "text/plain": [
       "   Adult  Child  Family\n",
       "0      0      0       1\n",
       "1      0      0       1\n",
       "2      0      0       1\n",
       "3      0      0       1\n",
       "4      0      0       1"
      ]
     },
     "execution_count": 182,
     "metadata": {},
     "output_type": "execute_result"
    }
   ],
   "source": [
    "pd.get_dummies(df['target_market']).head()"
   ]
  },
  {
   "cell_type": "code",
   "execution_count": 183,
   "metadata": {
    "collapsed": false
   },
   "outputs": [],
   "source": [
    "df = pd.concat([df, pd.get_dummies(df['target_market'])], axis=1)"
   ]
  },
  {
   "cell_type": "code",
   "execution_count": null,
   "metadata": {
    "collapsed": true
   },
   "outputs": [],
   "source": []
  },
  {
   "cell_type": "code",
   "execution_count": null,
   "metadata": {
    "collapsed": true
   },
   "outputs": [],
   "source": []
  },
  {
   "cell_type": "code",
   "execution_count": 184,
   "metadata": {
    "collapsed": true
   },
   "outputs": [],
   "source": [
    "## \n",
    "def gen_file_name(row):\n",
    "    file_name = row.cover_image.split('/')[len(row.cover_image.split('/'))-1]\n",
    "    file_name = 'img_' + str(row['index']).zfill (3) + '_' + (file_name).lower()\n",
    "    #print('Processing ' + str(row['index']))\n",
    "    return(file_name)\n",
    "\n",
    "## \n",
    "def gen_cropped_file_path(row):\n",
    "    file_name = row.file_name\n",
    "    path_name = '../img/cropped/' + string.replace(file_name, '.jpg', '_cropped.png')\n",
    "    return(path_name)\n",
    "    #file_name = 'img_' + str(row['index']).zfill (3) + '_' + (file_name).lower()\n",
    "    #print('Processing ' + str(row['index']))\n",
    "    #return(file_name)"
   ]
  },
  {
   "cell_type": "code",
   "execution_count": 185,
   "metadata": {
    "collapsed": true
   },
   "outputs": [],
   "source": [
    "df['file_name'] = df.apply(gen_file_name, axis=1)\n",
    "df['cropped_path'] = df.apply(gen_cropped_file_path, axis=1)"
   ]
  },
  {
   "cell_type": "code",
   "execution_count": 186,
   "metadata": {
    "collapsed": false,
    "scrolled": true
   },
   "outputs": [
    {
     "data": {
      "text/html": [
       "<div>\n",
       "<table border=\"1\" class=\"dataframe\">\n",
       "  <thead>\n",
       "    <tr style=\"text-align: right;\">\n",
       "      <th></th>\n",
       "      <th>target_market</th>\n",
       "      <th>score</th>\n",
       "      <th>cover_image</th>\n",
       "      <th>sugar_result</th>\n",
       "      <th>fiber_result</th>\n",
       "      <th>sodium_result</th>\n",
       "      <th>sugar_per_serving</th>\n",
       "      <th>fiber_per_serving</th>\n",
       "      <th>sodium_per_serving</th>\n",
       "      <th>calories_per_serving</th>\n",
       "      <th>serving_size</th>\n",
       "      <th>index</th>\n",
       "      <th>url</th>\n",
       "      <th>sugar_result_perc</th>\n",
       "      <th>fiber_result_perc</th>\n",
       "      <th>calories_result_ratio</th>\n",
       "      <th>Adult</th>\n",
       "      <th>Child</th>\n",
       "      <th>Family</th>\n",
       "      <th>file_name</th>\n",
       "      <th>cropped_path</th>\n",
       "    </tr>\n",
       "  </thead>\n",
       "  <tbody>\n",
       "    <tr>\n",
       "      <th>0</th>\n",
       "      <td>Family</td>\n",
       "      <td>50</td>\n",
       "      <td>http://cerealfacts.org/media/cereal_images/Ann...</td>\n",
       "      <td>24%</td>\n",
       "      <td>3%</td>\n",
       "      <td>293</td>\n",
       "      <td>7</td>\n",
       "      <td>1</td>\n",
       "      <td>85</td>\n",
       "      <td>120</td>\n",
       "      <td>29</td>\n",
       "      <td>1</td>\n",
       "      <td>http://cerealfacts.org/cereal_nutrition_scores...</td>\n",
       "      <td>24</td>\n",
       "      <td>3</td>\n",
       "      <td>4.137931</td>\n",
       "      <td>0</td>\n",
       "      <td>0</td>\n",
       "      <td>1</td>\n",
       "      <td>img_001_anniesfruitybunnies.jpg</td>\n",
       "      <td>../img/cropped/img_001_anniesfruitybunnies_cro...</td>\n",
       "    </tr>\n",
       "    <tr>\n",
       "      <th>1</th>\n",
       "      <td>Family</td>\n",
       "      <td>52</td>\n",
       "      <td>http://cerealfacts.org/media/cereal_images/Ann...</td>\n",
       "      <td>24%</td>\n",
       "      <td>3%</td>\n",
       "      <td>310</td>\n",
       "      <td>7</td>\n",
       "      <td>1</td>\n",
       "      <td>90</td>\n",
       "      <td>110</td>\n",
       "      <td>29</td>\n",
       "      <td>2</td>\n",
       "      <td>http://cerealfacts.org/cereal_nutrition_scores...</td>\n",
       "      <td>24</td>\n",
       "      <td>3</td>\n",
       "      <td>3.793103</td>\n",
       "      <td>0</td>\n",
       "      <td>0</td>\n",
       "      <td>1</td>\n",
       "      <td>img_002_annieshoneybunnies.jpg</td>\n",
       "      <td>../img/cropped/img_002_annieshoneybunnies_crop...</td>\n",
       "    </tr>\n",
       "    <tr>\n",
       "      <th>2</th>\n",
       "      <td>Family</td>\n",
       "      <td>50</td>\n",
       "      <td>http://cerealfacts.org/media/cereal_images/Ann...</td>\n",
       "      <td>24%</td>\n",
       "      <td>3%</td>\n",
       "      <td>293</td>\n",
       "      <td>7</td>\n",
       "      <td>1</td>\n",
       "      <td>85</td>\n",
       "      <td>120</td>\n",
       "      <td>29</td>\n",
       "      <td>3</td>\n",
       "      <td>http://cerealfacts.org/cereal_nutrition_scores...</td>\n",
       "      <td>24</td>\n",
       "      <td>3</td>\n",
       "      <td>4.137931</td>\n",
       "      <td>0</td>\n",
       "      <td>0</td>\n",
       "      <td>1</td>\n",
       "      <td>img_003_anniescinnamonrollbunnyos.jpg</td>\n",
       "      <td>../img/cropped/img_003_anniescinnamonrollbunny...</td>\n",
       "    </tr>\n",
       "    <tr>\n",
       "      <th>3</th>\n",
       "      <td>Family</td>\n",
       "      <td>64</td>\n",
       "      <td>http://cerealfacts.org/media/cereal_images/Ann...</td>\n",
       "      <td>7%</td>\n",
       "      <td>3%</td>\n",
       "      <td>379</td>\n",
       "      <td>2</td>\n",
       "      <td>1</td>\n",
       "      <td>110</td>\n",
       "      <td>120</td>\n",
       "      <td>29</td>\n",
       "      <td>4</td>\n",
       "      <td>http://cerealfacts.org/cereal_nutrition_scores...</td>\n",
       "      <td>7</td>\n",
       "      <td>3</td>\n",
       "      <td>4.137931</td>\n",
       "      <td>0</td>\n",
       "      <td>0</td>\n",
       "      <td>1</td>\n",
       "      <td>img_004_anniesorganicbunnyos.jpg</td>\n",
       "      <td>../img/cropped/img_004_anniesorganicbunnyos_cr...</td>\n",
       "    </tr>\n",
       "    <tr>\n",
       "      <th>4</th>\n",
       "      <td>Family</td>\n",
       "      <td>58</td>\n",
       "      <td>http://cerealfacts.org/media/cereal_images/Bar...</td>\n",
       "      <td>23%</td>\n",
       "      <td>10%</td>\n",
       "      <td>267</td>\n",
       "      <td>7</td>\n",
       "      <td>3</td>\n",
       "      <td>80</td>\n",
       "      <td>120</td>\n",
       "      <td>30</td>\n",
       "      <td>5</td>\n",
       "      <td>http://cerealfacts.org/cereal_nutrition_scores...</td>\n",
       "      <td>23</td>\n",
       "      <td>10</td>\n",
       "      <td>4.000000</td>\n",
       "      <td>0</td>\n",
       "      <td>0</td>\n",
       "      <td>1</td>\n",
       "      <td>img_005_barbarasbakerypuffinspuffscrunchycocoa...</td>\n",
       "      <td>../img/cropped/img_005_barbarasbakerypuffinspu...</td>\n",
       "    </tr>\n",
       "  </tbody>\n",
       "</table>\n",
       "</div>"
      ],
      "text/plain": [
       "  target_market  score                                        cover_image  \\\n",
       "0        Family     50  http://cerealfacts.org/media/cereal_images/Ann...   \n",
       "1        Family     52  http://cerealfacts.org/media/cereal_images/Ann...   \n",
       "2        Family     50  http://cerealfacts.org/media/cereal_images/Ann...   \n",
       "3        Family     64  http://cerealfacts.org/media/cereal_images/Ann...   \n",
       "4        Family     58  http://cerealfacts.org/media/cereal_images/Bar...   \n",
       "\n",
       "  sugar_result fiber_result  sodium_result  sugar_per_serving  \\\n",
       "0          24%           3%            293                  7   \n",
       "1          24%           3%            310                  7   \n",
       "2          24%           3%            293                  7   \n",
       "3           7%           3%            379                  2   \n",
       "4          23%          10%            267                  7   \n",
       "\n",
       "   fiber_per_serving  sodium_per_serving  calories_per_serving  serving_size  \\\n",
       "0                  1                  85                   120            29   \n",
       "1                  1                  90                   110            29   \n",
       "2                  1                  85                   120            29   \n",
       "3                  1                 110                   120            29   \n",
       "4                  3                  80                   120            30   \n",
       "\n",
       "   index                                                url  \\\n",
       "0      1  http://cerealfacts.org/cereal_nutrition_scores...   \n",
       "1      2  http://cerealfacts.org/cereal_nutrition_scores...   \n",
       "2      3  http://cerealfacts.org/cereal_nutrition_scores...   \n",
       "3      4  http://cerealfacts.org/cereal_nutrition_scores...   \n",
       "4      5  http://cerealfacts.org/cereal_nutrition_scores...   \n",
       "\n",
       "   sugar_result_perc  fiber_result_perc  calories_result_ratio  Adult  Child  \\\n",
       "0                 24                  3               4.137931      0      0   \n",
       "1                 24                  3               3.793103      0      0   \n",
       "2                 24                  3               4.137931      0      0   \n",
       "3                  7                  3               4.137931      0      0   \n",
       "4                 23                 10               4.000000      0      0   \n",
       "\n",
       "   Family                                          file_name  \\\n",
       "0       1                    img_001_anniesfruitybunnies.jpg   \n",
       "1       1                     img_002_annieshoneybunnies.jpg   \n",
       "2       1              img_003_anniescinnamonrollbunnyos.jpg   \n",
       "3       1                   img_004_anniesorganicbunnyos.jpg   \n",
       "4       1  img_005_barbarasbakerypuffinspuffscrunchycocoa...   \n",
       "\n",
       "                                        cropped_path  \n",
       "0  ../img/cropped/img_001_anniesfruitybunnies_cro...  \n",
       "1  ../img/cropped/img_002_annieshoneybunnies_crop...  \n",
       "2  ../img/cropped/img_003_anniescinnamonrollbunny...  \n",
       "3  ../img/cropped/img_004_anniesorganicbunnyos_cr...  \n",
       "4  ../img/cropped/img_005_barbarasbakerypuffinspu...  "
      ]
     },
     "execution_count": 186,
     "metadata": {},
     "output_type": "execute_result"
    }
   ],
   "source": [
    "df.head()"
   ]
  },
  {
   "cell_type": "code",
   "execution_count": null,
   "metadata": {
    "collapsed": true
   },
   "outputs": [],
   "source": []
  },
  {
   "cell_type": "code",
   "execution_count": 187,
   "metadata": {
    "collapsed": false
   },
   "outputs": [
    {
     "data": {
      "text/plain": [
       "\"\\nfor name, url in zip(df.file_name, df.cover_image):\\n    if (os.path.isfile('../img/' + name) == False):\\n        resource = urllib.urlopen(url)\\n        output = open('../img/' + name, 'wb')\\n        output.write(resource.read())\\n        output.close()\\n\""
      ]
     },
     "execution_count": 187,
     "metadata": {},
     "output_type": "execute_result"
    }
   ],
   "source": [
    "## The following code download the image with the URL privedes in the csv\n",
    "'''\n",
    "for name, url in zip(df.file_name, df.cover_image):\n",
    "    if (os.path.isfile('../img/' + name) == False):\n",
    "        resource = urllib.urlopen(url)\n",
    "        output = open('../img/' + name, 'wb')\n",
    "        output.write(resource.read())\n",
    "        output.close()\n",
    "'''"
   ]
  },
  {
   "cell_type": "code",
   "execution_count": 188,
   "metadata": {
    "collapsed": true
   },
   "outputs": [],
   "source": [
    "for file_name in df.file_name:\n",
    "    if (os.path.isfile('../img/cropped/' + string.replace(file_name, '.jpg', '_cropped.png')) == False):\n",
    "        img = Image.open('../img/' + file_name)\n",
    "        img = img.convert(\"RGBA\")\n",
    "        pixdata = img.load()\n",
    "        for y in xrange(img.size[1]):\n",
    "            for x in xrange(img.size[0]):\n",
    "                if pixdata[x, y] == (255, 255, 255, 255):\n",
    "                    pixdata[x, y] = (255, 255, 255, 0)\n",
    "        img.save('../img/cropped/' + string.replace(file_name, '.jpg', '_cropped.png'), \"PNG\")"
   ]
  },
  {
   "cell_type": "markdown",
   "metadata": {},
   "source": []
  },
  {
   "cell_type": "code",
   "execution_count": 227,
   "metadata": {
    "collapsed": true
   },
   "outputs": [],
   "source": [
    "## Helper function to get the RGB and HSL\n",
    "\n",
    "def open_convert_image(input_img_file, numcolors=1):\n",
    "    image = Image.open(input_img_file)\n",
    "    result = image.convert('P', palette=Image.ADAPTIVE, colors=numcolors)\n",
    "    result.putalpha(0)\n",
    "    return(result)\n",
    "\n",
    "def get_list_color(input_img_file, numcolors=1):\n",
    "    return(open_convert_image(input_img_file, numcolors).getcolors())\n",
    "\n",
    "def get_rgb_list(input_img_file, numcolors=2):\n",
    "    colors_list = get_list_color(input_img_file, numcolors)\n",
    "    result = []\n",
    "    for color in colors_list:\n",
    "        result.append(list(color[1][0:3]))\n",
    "    return(result)\n",
    "\n",
    "def df_get_rgb_list(row, numcolors=3):\n",
    "    return(get_rgb_list(row.cropped_path, numcolors))\n",
    "\n",
    "def get_hls_list(input_img_file, numcolors=1):\n",
    "    result = []\n",
    "    for rgb_set in get_rgb_list(input_img_file, numcolors):\n",
    "        result.append(list(colorsys.rgb_to_hls(*[x/255.0 for x in rgb_set])))\n",
    "    return(result)\n",
    "\n",
    "def df_get_hls_list(row, numcolors=1):\n",
    "    return(list(get_hls_list(row.cropped_path, numcolors))[numcolors - 1])\n",
    "\n",
    "def df_get_h(row):\n",
    "    return(list(get_hls_list(row.cropped_path, numcolors)[0]))\n",
    "\n",
    "def hls(row, numcolors=1):\n",
    "    return(list(get_hls_list(row, numcolors))[numcolors - 1])\n",
    "\n",
    "def rgb(row, numcolors=1):\n",
    "    return(get_rgb_list(row, numcolors)[numcolors - 1])\n",
    "\n",
    "def closest_colour(requested_colour):\n",
    "    pri_color = ['Red', 'Orange', 'Yellow', 'Green', 'Blue', 'Violet', 'Brown', 'Black', 'Grey', 'White']\n",
    "    pri_color = [x.lower() for x in pri_color]\n",
    "    min_colours = {}\n",
    "    #for key, name in webcolors.css3_hex_to_names.items():\n",
    "    for key, name in [x for x in itertools.ifilter(lambda x: x[1]  in pri_color, webcolors.css3_hex_to_names.items())]:\n",
    "        r_c, g_c, b_c = webcolors.hex_to_rgb(key)\n",
    "        rd = (r_c - requested_colour[0]) ** 2\n",
    "        gd = (g_c - requested_colour[1]) ** 2\n",
    "        bd = (b_c - requested_colour[2]) ** 2\n",
    "        min_colours[(rd + gd + bd)] = name\n",
    "    return min_colours[min(min_colours.keys())]\n",
    "\n",
    "def get_colour_name(requested_colour, result_act = False):\n",
    "    try:\n",
    "        closest_name = actual_name = webcolors.rgb_to_name(requested_colour)\n",
    "    except ValueError:\n",
    "        closest_name = closest_colour(requested_colour)\n",
    "        actual_name = None\n",
    "    if result_act:\n",
    "        return actual_name, closest_name\n",
    "    return closest_name"
   ]
  },
  {
   "cell_type": "code",
   "execution_count": 190,
   "metadata": {
    "collapsed": false
   },
   "outputs": [
    {
     "data": {
      "text/plain": [
       "[239, 13, 16]"
      ]
     },
     "execution_count": 190,
     "metadata": {},
     "output_type": "execute_result"
    }
   ],
   "source": [
    "rgb(df.iloc[0,:].cropped_path, 2)"
   ]
  },
  {
   "cell_type": "code",
   "execution_count": 191,
   "metadata": {
    "collapsed": false
   },
   "outputs": [
    {
     "data": {
      "text/plain": [
       "[0.9977876106194691, 0.49411764705882355, 0.8968253968253967]"
      ]
     },
     "execution_count": 191,
     "metadata": {},
     "output_type": "execute_result"
    }
   ],
   "source": [
    "hls(df.iloc[0,:].cropped_path, 2)"
   ]
  },
  {
   "cell_type": "code",
   "execution_count": 236,
   "metadata": {
    "collapsed": false
   },
   "outputs": [],
   "source": [
    "for num in range(1, 4):\n",
    "    hls_color = lambda x: hls(x, num)\n",
    "    rgb_color = lambda x: rgb(x, num)\n",
    "    rgb_name = lambda x: get_colour_name(x)\n",
    "    pri_rgb_color = lambda x: webcolors.name_to_rgb(x)\n",
    "    \n",
    "    #df['color_h' + str(num)], df['color_l' + str(num)], df['color_s' + str(num)] = zip(*df['cropped_path'].map(hls_color))\n",
    "    #df['color_r' + str(num)], df['color_g' + str(num)], df['color_b' + str(num)] = zip(*df['cropped_path'].map(rgb_color))\n",
    "    df['color_hls' + str(num)] = df['cropped_path'].map(hls_color)\n",
    "    df['color_rgb' + str(num)] = df['cropped_path'].map(rgb_color)\n",
    "    df['color_rgb_name' + str(num)] = df['color_rgb' + str(num)].map(rgb_name)\n",
    "    df['color_rgb_pri' + str(num)] = df['color_rgb_name' + str(num)].map(pri_rgb_color)\n",
    "    "
   ]
  },
  {
   "cell_type": "code",
   "execution_count": 233,
   "metadata": {
    "collapsed": false
   },
   "outputs": [
    {
     "data": {
      "text/plain": [
       "white     179\n",
       "brown      29\n",
       "grey       22\n",
       "orange      9\n",
       "black       8\n",
       "violet      3\n",
       "yellow      3\n",
       "blue        3\n",
       "red         2\n",
       "green       1\n",
       "dtype: int64"
      ]
     },
     "execution_count": 233,
     "metadata": {},
     "output_type": "execute_result"
    }
   ],
   "source": [
    "df['color_rgb_name1'].value_counts()\n"
   ]
  },
  {
   "cell_type": "code",
   "execution_count": 234,
   "metadata": {
    "collapsed": false
   },
   "outputs": [
    {
     "data": {
      "text/plain": [
       "white     130\n",
       "brown      44\n",
       "grey       37\n",
       "orange     19\n",
       "red         7\n",
       "black       7\n",
       "yellow      5\n",
       "violet      4\n",
       "blue        4\n",
       "green       2\n",
       "dtype: int64"
      ]
     },
     "execution_count": 234,
     "metadata": {},
     "output_type": "execute_result"
    }
   ],
   "source": [
    "df['color_rgb_name2'].value_counts()"
   ]
  },
  {
   "cell_type": "code",
   "execution_count": 235,
   "metadata": {
    "collapsed": false
   },
   "outputs": [
    {
     "data": {
      "text/plain": [
       "brown     66\n",
       "white     64\n",
       "grey      63\n",
       "orange    26\n",
       "black     14\n",
       "red        8\n",
       "yellow     7\n",
       "violet     5\n",
       "blue       4\n",
       "green      2\n",
       "dtype: int64"
      ]
     },
     "execution_count": 235,
     "metadata": {},
     "output_type": "execute_result"
    }
   ],
   "source": [
    "df['color_rgb_name3'].value_counts()"
   ]
  },
  {
   "cell_type": "code",
   "execution_count": 224,
   "metadata": {
    "collapsed": false
   },
   "outputs": [
    {
     "name": "stdout",
     "output_type": "stream",
     "text": [
      "(255, 0, 0)\n",
      "red\n",
      "(255, 165, 0)\n",
      "orange\n",
      "(255, 255, 0)\n",
      "yellow\n",
      "(0, 128, 0)\n",
      "green\n",
      "(0, 0, 255)\n",
      "blue\n",
      "(238, 130, 238)\n",
      "violet\n",
      "(165, 42, 42)\n",
      "brown\n",
      "(0, 0, 0)\n",
      "black\n",
      "(128, 128, 128)\n",
      "grey\n",
      "(255, 255, 255)\n",
      "white\n"
     ]
    }
   ],
   "source": [
    "pri_color = ['Red', 'Orange', 'Yellow', 'Green', 'Blue', 'Violet', 'Brown', 'Black', 'Grey', 'White']\n",
    "pri_color = [x.lower() for x in pri_color]\n",
    "for col in pri_color:\n",
    "    print(webcolors.name_to_rgb(col))\n",
    "    print(get_colour_name(webcolors.name_to_rgb(col)))"
   ]
  },
  {
   "cell_type": "code",
   "execution_count": 225,
   "metadata": {
    "collapsed": false
   },
   "outputs": [
    {
     "data": {
      "text/plain": [
       "True"
      ]
     },
     "execution_count": 225,
     "metadata": {},
     "output_type": "execute_result"
    }
   ],
   "source": [
    "webcolors.css3_hex_to_names.items()[1][1]"
   ]
  },
  {
   "cell_type": "code",
   "execution_count": 222,
   "metadata": {
    "collapsed": false
   },
   "outputs": [
    {
     "data": {
      "text/plain": [
       "True"
      ]
     },
     "execution_count": 222,
     "metadata": {},
     "output_type": "execute_result"
    }
   ],
   "source": [
    "3 in [1, 2, 3]"
   ]
  },
  {
   "cell_type": "code",
   "execution_count": null,
   "metadata": {
    "collapsed": false
   },
   "outputs": [],
   "source": [
    "\n"
   ]
  },
  {
   "cell_type": "code",
   "execution_count": 197,
   "metadata": {
    "collapsed": false
   },
   "outputs": [
    {
     "data": {
      "text/plain": [
       "52"
      ]
     },
     "execution_count": 197,
     "metadata": {},
     "output_type": "execute_result"
    }
   ],
   "source": [
    "len(df['color_rgb_name2'].value_counts())"
   ]
  },
  {
   "cell_type": "code",
   "execution_count": 198,
   "metadata": {
    "collapsed": false
   },
   "outputs": [
    {
     "data": {
      "text/plain": [
       "55"
      ]
     },
     "execution_count": 198,
     "metadata": {},
     "output_type": "execute_result"
    }
   ],
   "source": [
    "len(df['color_rgb_name3'].value_counts())"
   ]
  },
  {
   "cell_type": "code",
   "execution_count": 201,
   "metadata": {
    "collapsed": false
   },
   "outputs": [
    {
     "data": {
      "text/plain": [
       "(255, 255, 255)"
      ]
     },
     "execution_count": 201,
     "metadata": {},
     "output_type": "execute_result"
    }
   ],
   "source": []
  },
  {
   "cell_type": "code",
   "execution_count": null,
   "metadata": {
    "collapsed": false
   },
   "outputs": [],
   "source": []
  },
  {
   "cell_type": "code",
   "execution_count": null,
   "metadata": {
    "collapsed": false
   },
   "outputs": [],
   "source": [
    "rgb_name = lambda x: get_colour_name(x)\n",
    "#df['color_rgb1_name'] = df['color_rgb1'].map(rgb_name)\n",
    "df['color_rgb1'].map(rgb_name)"
   ]
  },
  {
   "cell_type": "code",
   "execution_count": null,
   "metadata": {
    "collapsed": false
   },
   "outputs": [],
   "source": [
    "requested_colour = (119, 172, 152)\n",
    "closest_name = get_colour_name(requested_colour)\n",
    "\n",
    "print \"Closest colour name:\", closest_name"
   ]
  },
  {
   "cell_type": "code",
   "execution_count": null,
   "metadata": {
    "collapsed": true
   },
   "outputs": [],
   "source": []
  },
  {
   "cell_type": "code",
   "execution_count": null,
   "metadata": {
    "collapsed": true
   },
   "outputs": [],
   "source": []
  },
  {
   "cell_type": "code",
   "execution_count": null,
   "metadata": {
    "collapsed": false,
    "scrolled": true
   },
   "outputs": [],
   "source": [
    "df.loc[140,]"
   ]
  },
  {
   "cell_type": "code",
   "execution_count": null,
   "metadata": {
    "collapsed": false
   },
   "outputs": [],
   "source": []
  },
  {
   "cell_type": "code",
   "execution_count": null,
   "metadata": {
    "collapsed": false
   },
   "outputs": [],
   "source": [
    "\n",
    "\n",
    "ggplot(df, aes(x='sugar_result', y='serving_size', color='target_market ')) +\\\n",
    "    geom_point(position = \"jitter\") +\\\n",
    "    scale_color_brewer(type='qual') +\\\n",
    "    xlab(\"Sugar Per Serving\") + ylab(\"Serving Size\") + ggtitle(\"Cereal (Sugar)\") +\\\n",
    "    facet_wrap(\"target_market\", scales=\"free_x\")"
   ]
  },
  {
   "cell_type": "code",
   "execution_count": null,
   "metadata": {
    "collapsed": true
   },
   "outputs": [],
   "source": []
  },
  {
   "cell_type": "markdown",
   "metadata": {},
   "source": [
    "###EDA"
   ]
  },
  {
   "cell_type": "markdown",
   "metadata": {},
   "source": [
    "Suger Per Serving\n",
    " - Interesting to see larger serving size does not have a hight correlation to the sugar\n",
    " - Is unstandable to see cereal which have child as targeted market has smaller serving size\n",
    " - Interesting to see cereal which have adult as targeted market has two culster of serving size\n",
    " - There seems to be a data point missing target_market "
   ]
  },
  {
   "cell_type": "code",
   "execution_count": null,
   "metadata": {
    "collapsed": false,
    "scrolled": false
   },
   "outputs": [],
   "source": [
    "ggplot(df, aes(x='sugar_per_serving', y='serving_size', color='target_market ')) +\\\n",
    "    geom_point(position = \"jitter\") +\\\n",
    "    scale_color_brewer(type='qual') +\\\n",
    "    xlab(\"Sugar Per Serving\") + ylab(\"Serving Size\") + ggtitle(\"Cereal (Sugar)\") +\\\n",
    "    facet_wrap(\"target_market\", scales=\"free_x\")"
   ]
  },
  {
   "cell_type": "markdown",
   "metadata": {},
   "source": [
    "* * * * *"
   ]
  },
  {
   "cell_type": "markdown",
   "metadata": {},
   "source": [
    "Let's remove those has no target market"
   ]
  },
  {
   "cell_type": "code",
   "execution_count": null,
   "metadata": {
    "collapsed": false
   },
   "outputs": [],
   "source": [
    "df = df[df.target_market  != \"None\"]"
   ]
  },
  {
   "cell_type": "markdown",
   "metadata": {},
   "source": [
    "* * * * *"
   ]
  },
  {
   "cell_type": "markdown",
   "metadata": {
    "collapsed": true
   },
   "source": [
    "Fiber Per Serving\n",
    " - Only Family cereal has a strong corelation to the serving size"
   ]
  },
  {
   "cell_type": "code",
   "execution_count": null,
   "metadata": {
    "collapsed": false
   },
   "outputs": [],
   "source": [
    "ggplot(df, aes(x='fiber_per_serving', y='serving_size', color='target_market ')) +\\\n",
    "    geom_point(position = \"jitter\") +\\\n",
    "    scale_color_brewer(type='qual') +\\\n",
    "    xlab(\"Fiber Per Serving\") + ylab(\"Serving Size\") + ggtitle(\"Cereal (Fiber)\") +\\\n",
    "    facet_wrap(\"target_market\", scales=\"free_x\")"
   ]
  },
  {
   "cell_type": "code",
   "execution_count": null,
   "metadata": {
    "collapsed": false
   },
   "outputs": [],
   "source": [
    "sns.set(style=\"ticks\")\n",
    "\n",
    "# Show the results of a linear regression within each dataset\n",
    "sns.lmplot(x=\"fiber_per_serving\", y=\"serving_size\", col=\"target_market\", hue=\"target_market\", col_wrap=3\n",
    "           , data=df)"
   ]
  },
  {
   "cell_type": "markdown",
   "metadata": {},
   "source": [
    "* * * * *"
   ]
  },
  {
   "cell_type": "markdown",
   "metadata": {},
   "source": [
    "Sodium Per Serving\n",
    " - Interesting to see only Adult and Family offer ZERO sodium cereal"
   ]
  },
  {
   "cell_type": "code",
   "execution_count": null,
   "metadata": {
    "collapsed": false
   },
   "outputs": [],
   "source": [
    "ggplot(df, aes(x='sodium_per_serving ', y='serving_size', color='target_market ')) +\\\n",
    "    geom_point(position = \"jitter\") +\\\n",
    "    scale_color_brewer(type='qual') +\\\n",
    "    xlab(\"Sodium Per Serving\") + ylab(\"Serving Size\") + ggtitle(\"Cereal (Sodium)\") +\\\n",
    "    facet_wrap(\"target_market\", scales=\"free_x\")"
   ]
  },
  {
   "cell_type": "markdown",
   "metadata": {
    "collapsed": false
   },
   "source": [
    "* * * * *"
   ]
  },
  {
   "cell_type": "markdown",
   "metadata": {
    "collapsed": true
   },
   "source": [
    "Calories Per Serving\n",
    " - Is safe to say that the bigger serving it is, the more calories it has. No exception"
   ]
  },
  {
   "cell_type": "code",
   "execution_count": null,
   "metadata": {
    "collapsed": false
   },
   "outputs": [],
   "source": [
    "ggplot(df, aes(x='calories_per_serving  ', y='serving_size', color='target_market ')) +\\\n",
    "    geom_point(position = \"jitter\") +\\\n",
    "    scale_color_brewer(type='qual') +\\\n",
    "    xlab(\"Calories Per Serving\") + ylab(\"Serving Size\") + ggtitle(\"Cereal (Calories)\") +\\\n",
    "    facet_wrap(\"target_market\", scales=\"free_x\")"
   ]
  },
  {
   "cell_type": "code",
   "execution_count": null,
   "metadata": {
    "collapsed": false
   },
   "outputs": [],
   "source": [
    "sns.set(style=\"ticks\")\n",
    "\n",
    "# Show the results of a linear regression within each dataset\n",
    "sns.lmplot(x=\"calories_per_serving\", y=\"serving_size\", col=\"target_market\", hue=\"target_market\", col_wrap=3\n",
    "           , data=df)"
   ]
  },
  {
   "cell_type": "code",
   "execution_count": null,
   "metadata": {
    "collapsed": true
   },
   "outputs": [],
   "source": []
  },
  {
   "cell_type": "code",
   "execution_count": null,
   "metadata": {
    "collapsed": false
   },
   "outputs": [],
   "source": [
    "import numpy as np\n",
    "import matplotlib.pyplot as plt\n",
    "rs = np.random.RandomState(10)\n",
    "\n",
    "# Set up the matplotlib figure\n",
    "sns.despine(left=True)\n",
    "\n",
    "# Generate a random univariate dataset\n",
    "d = rs.normal(size=100)\n",
    "\n",
    "# Plot a historgram and kernel density estimate\n",
    "sns.distplot(df.calories_per_serving, color=\"m\")\n",
    "\n",
    "plt.tight_layout()"
   ]
  },
  {
   "cell_type": "code",
   "execution_count": null,
   "metadata": {
    "collapsed": true
   },
   "outputs": [],
   "source": []
  },
  {
   "cell_type": "code",
   "execution_count": null,
   "metadata": {
    "collapsed": false
   },
   "outputs": [],
   "source": [
    "import seaborn as sns\n",
    "sns.set()\n",
    "\n",
    "sns.pairplot(df, hue=\"target_market\")"
   ]
  },
  {
   "cell_type": "code",
   "execution_count": null,
   "metadata": {
    "collapsed": false
   },
   "outputs": [],
   "source": [
    "import seaborn as sns\n",
    "sns.set()\n",
    "\n",
    "sns.pairplot(df, hue=\"score\")"
   ]
  },
  {
   "cell_type": "markdown",
   "metadata": {
    "collapsed": true
   },
   "source": [
    "Features =]"
   ]
  },
  {
   "cell_type": "code",
   "execution_count": null,
   "metadata": {
    "collapsed": true
   },
   "outputs": [],
   "source": [
    "## \n",
    "def gen_file_name(row):\n",
    "    file_name = row.cover_image.split('/')[len(row.cover_image.split('/'))-1]\n",
    "    file_name = 'img_' + str(row['index']).zfill (3) + '_' + (file_name).lower()\n",
    "    #print('Processing ' + str(row['index']))\n",
    "    return(file_name)\n",
    "\n",
    "## \n",
    "def gen_cropped_file_path(row):\n",
    "    file_name = row.file_name\n",
    "    path_name = '../img/cropped/' + string.replace(file_name, '.jpg', '_cropped.png')\n",
    "    return(path_name)\n",
    "    #file_name = 'img_' + str(row['index']).zfill (3) + '_' + (file_name).lower()\n",
    "    #print('Processing ' + str(row['index']))\n",
    "    #return(file_name)"
   ]
  },
  {
   "cell_type": "code",
   "execution_count": null,
   "metadata": {
    "collapsed": true
   },
   "outputs": [],
   "source": [
    "df['file_name'] = df.apply(gen_file_name, axis=1)\n",
    "df['cropped_path'] = df.apply(gen_cropped_file_path, axis=1)"
   ]
  },
  {
   "cell_type": "code",
   "execution_count": null,
   "metadata": {
    "collapsed": false
   },
   "outputs": [],
   "source": [
    "df.head()"
   ]
  },
  {
   "cell_type": "code",
   "execution_count": null,
   "metadata": {
    "collapsed": true
   },
   "outputs": [],
   "source": [
    "for name, url in zip(df.file_name, df.cover_image):\n",
    "    if (os.path.isfile('../img/' + name) == False):\n",
    "        resource = urllib.urlopen(url)\n",
    "        output = open('../img/' + name, 'wb')\n",
    "        output.write(resource.read())\n",
    "        output.close()"
   ]
  },
  {
   "cell_type": "code",
   "execution_count": null,
   "metadata": {
    "collapsed": true
   },
   "outputs": [],
   "source": [
    "for file_name in df.file_name:\n",
    "    if (os.path.isfile('../img/cropped/' + string.replace(file_name, '.jpg', '_cropped.png')) == False):\n",
    "        img = Image.open('../img/' + file_name)\n",
    "        img = img.convert(\"RGBA\")\n",
    "        pixdata = img.load()\n",
    "        for y in xrange(img.size[1]):\n",
    "            for x in xrange(img.size[0]):\n",
    "                if pixdata[x, y] == (255, 255, 255, 255):\n",
    "                    pixdata[x, y] = (255, 255, 255, 0)\n",
    "        img.save('../img/cropped/' + string.replace(file_name, '.jpg', '_cropped.png'), \"PNG\")"
   ]
  },
  {
   "cell_type": "code",
   "execution_count": null,
   "metadata": {
    "collapsed": true
   },
   "outputs": [],
   "source": [
    "## Helper function to get the RGB and HSL\n",
    "\n",
    "def open_convert_image(input_img_file, numcolors=1):\n",
    "    image = Image.open(input_img_file)\n",
    "    result = image.convert('P', palette=Image.ADAPTIVE, colors=numcolors)\n",
    "    result.putalpha(0)\n",
    "    return(result)\n",
    "\n",
    "def get_list_color(input_img_file, numcolors=1):\n",
    "    return(open_convert_image(input_img_file, numcolors).getcolors())\n",
    "\n",
    "def get_rgb_list(input_img_file, numcolors=2):\n",
    "    colors_list = get_list_color(input_img_file, numcolors)\n",
    "    result = []\n",
    "    for color in colors_list:\n",
    "        result.append(list(color[1][0:3]))\n",
    "    return(result)\n",
    "\n",
    "def df_get_rgb_list(row, numcolors=3):\n",
    "    return(get_rgb_list(row.cropped_path, numcolors))\n",
    "\n",
    "def get_hls_list(input_img_file, numcolors=1):\n",
    "    result = []\n",
    "    for rgb_set in get_rgb_list(input_img_file, numcolors):\n",
    "        result.append(list(colorsys.rgb_to_hls(*[x/255.0 for x in rgb_set])))\n",
    "    return(result)\n",
    "\n",
    "def df_get_hls_list(row, numcolors=1):\n",
    "    return(list(get_hls_list(row.cropped_path, numcolors))[numcolors - 1])\n",
    "\n",
    "def df_get_h(row):\n",
    "    return(list(get_hls_list(row.cropped_path, numcolors)[0]))\n",
    "\n",
    "def hls(row, numcolors=1):\n",
    "    return(list(get_hls_list(row, numcolors))[numcolors - 1])\n",
    "\n",
    "def rgb(row, numcolors=1):\n",
    "    return(get_rgb_list(row, numcolors)[numcolors - 1])\n",
    "\n"
   ]
  },
  {
   "cell_type": "code",
   "execution_count": null,
   "metadata": {
    "collapsed": true
   },
   "outputs": [],
   "source": [
    "for num in range(1, 4):\n",
    "    hls_color = lambda x: hls(x, num)\n",
    "    rgb_color = lambda x: rgb(x, num)\n",
    "\n",
    "    df['color_h' + str(num)], df['color_l' + str(num)], df['color_s' + str(num)] = zip(*df['cropped_path'].map(hls_color))\n",
    "    df['color_r' + str(num)], df['color_g' + str(num)], df['color_b' + str(num)] = zip(*df['cropped_path'].map(rgb_color))"
   ]
  },
  {
   "cell_type": "code",
   "execution_count": null,
   "metadata": {
    "collapsed": true
   },
   "outputs": [],
   "source": [
    "def setScore(score):\n",
    "    result = \"\"\n",
    "    if score >= 58:\n",
    "        result = \"Good\"\n",
    "    elif score < 48:\n",
    "        result = \"Bad\"\n",
    "    else:\n",
    "        result = \"Average\"\n",
    "    return(result)\n",
    "set_score = lambda x: setScore(x)\n",
    "\n",
    "df['score_label'] = df['score'].map(set_score)\n",
    "\n"
   ]
  },
  {
   "cell_type": "code",
   "execution_count": null,
   "metadata": {
    "collapsed": false
   },
   "outputs": [],
   "source": [
    "df['score_label']"
   ]
  },
  {
   "cell_type": "code",
   "execution_count": null,
   "metadata": {
    "collapsed": false
   },
   "outputs": [],
   "source": [
    "import seaborn as sns\n",
    "sns.set()\n",
    "\n",
    "sns.pairplot(df, hue=\"score_label\")"
   ]
  },
  {
   "cell_type": "code",
   "execution_count": null,
   "metadata": {
    "collapsed": false
   },
   "outputs": [],
   "source": [
    "df.corr().fiber_per_serving "
   ]
  },
  {
   "cell_type": "code",
   "execution_count": null,
   "metadata": {
    "collapsed": false
   },
   "outputs": [],
   "source": [
    "g = sns.PairGrid(df, vars=[\"color_h1\", \"color_l1\", \"color_s1\"],\n",
    "                 hue=\"score_label\", aspect=1, size=5)\n",
    "g.map(plt.scatter)"
   ]
  },
  {
   "cell_type": "code",
   "execution_count": null,
   "metadata": {
    "collapsed": false
   },
   "outputs": [],
   "source": [
    "g = sns.PairGrid(df, vars=[\"color_r1\", \"color_g1\", \"color_b1\"],\n",
    "                 hue=\"score_label\", aspect=1, size=5)\n",
    "g.map(plt.scatter)"
   ]
  },
  {
   "cell_type": "code",
   "execution_count": null,
   "metadata": {
    "collapsed": false
   },
   "outputs": [],
   "source": [
    "np.log(df.color_r1)"
   ]
  },
  {
   "cell_type": "code",
   "execution_count": null,
   "metadata": {
    "collapsed": false
   },
   "outputs": [],
   "source": [
    "df_log = np.log(df[s for s in list(df.columns.values) if 'color' in s])"
   ]
  },
  {
   "cell_type": "code",
   "execution_count": null,
   "metadata": {
    "collapsed": false
   },
   "outputs": [],
   "source": [
    "[s for s in list(df.columns.values) if 'color' in s]"
   ]
  },
  {
   "cell_type": "code",
   "execution_count": null,
   "metadata": {
    "collapsed": true
   },
   "outputs": [],
   "source": [
    "df_log = np.log(df.loc[:, [s for s in list(df.columns.values) if 'color' in s]])"
   ]
  },
  {
   "cell_type": "code",
   "execution_count": null,
   "metadata": {
    "collapsed": false
   },
   "outputs": [],
   "source": [
    "df_log = np.log(df.loc[:,'color_h1':'color_b3'])"
   ]
  },
  {
   "cell_type": "code",
   "execution_count": null,
   "metadata": {
    "collapsed": false
   },
   "outputs": [],
   "source": [
    "df_log['score_label'] = df.score_label"
   ]
  },
  {
   "cell_type": "code",
   "execution_count": null,
   "metadata": {
    "collapsed": false
   },
   "outputs": [],
   "source": [
    "df_log.head()"
   ]
  },
  {
   "cell_type": "code",
   "execution_count": null,
   "metadata": {
    "collapsed": false
   },
   "outputs": [],
   "source": [
    "g = sns.PairGrid(df_log, vars=[\"color_r1\", \"color_g1\", \"color_b1\"],\n",
    "                 hue=\"score_label\", aspect=1, size=5)\n",
    "g.map(plt.scatter)"
   ]
  },
  {
   "cell_type": "code",
   "execution_count": null,
   "metadata": {
    "collapsed": true
   },
   "outputs": [],
   "source": []
  },
  {
   "cell_type": "code",
   "execution_count": null,
   "metadata": {
    "collapsed": true
   },
   "outputs": [],
   "source": []
  },
  {
   "cell_type": "code",
   "execution_count": null,
   "metadata": {
    "collapsed": true
   },
   "outputs": [],
   "source": []
  },
  {
   "cell_type": "code",
   "execution_count": null,
   "metadata": {
    "collapsed": true
   },
   "outputs": [],
   "source": []
  },
  {
   "cell_type": "code",
   "execution_count": null,
   "metadata": {
    "collapsed": true
   },
   "outputs": [],
   "source": []
  },
  {
   "cell_type": "code",
   "execution_count": null,
   "metadata": {
    "collapsed": true
   },
   "outputs": [],
   "source": []
  },
  {
   "cell_type": "code",
   "execution_count": null,
   "metadata": {
    "collapsed": true
   },
   "outputs": [],
   "source": []
  },
  {
   "cell_type": "code",
   "execution_count": null,
   "metadata": {
    "collapsed": false
   },
   "outputs": [],
   "source": [
    "df.corr().score"
   ]
  },
  {
   "cell_type": "code",
   "execution_count": null,
   "metadata": {
    "collapsed": false
   },
   "outputs": [],
   "source": [
    "df.corr().sugar_per_serving"
   ]
  },
  {
   "cell_type": "code",
   "execution_count": null,
   "metadata": {
    "collapsed": false
   },
   "outputs": [],
   "source": [
    "df.corr().fiber_per_serving"
   ]
  },
  {
   "cell_type": "code",
   "execution_count": null,
   "metadata": {
    "collapsed": true
   },
   "outputs": [],
   "source": []
  },
  {
   "cell_type": "code",
   "execution_count": null,
   "metadata": {
    "collapsed": false
   },
   "outputs": [],
   "source": [
    "corr = df.corr()\n",
    "fig, ax = plt.subplots(figsize=(20, 20))\n",
    "ax.matshow(corr)\n",
    "plt.xticks(range(len(corr.columns)), corr.columns);\n",
    "plt.yticks(range(len(corr.columns)), corr.columns);"
   ]
  },
  {
   "cell_type": "code",
   "execution_count": null,
   "metadata": {
    "collapsed": true
   },
   "outputs": [],
   "source": []
  },
  {
   "cell_type": "code",
   "execution_count": null,
   "metadata": {
    "collapsed": true
   },
   "outputs": [],
   "source": []
  },
  {
   "cell_type": "code",
   "execution_count": null,
   "metadata": {
    "collapsed": true
   },
   "outputs": [],
   "source": []
  },
  {
   "cell_type": "code",
   "execution_count": null,
   "metadata": {
    "collapsed": false,
    "scrolled": true
   },
   "outputs": [],
   "source": [
    "X = df.drop(['score'], axis=1)\n",
    "y = df['score']"
   ]
  },
  {
   "cell_type": "code",
   "execution_count": null,
   "metadata": {
    "collapsed": false
   },
   "outputs": [],
   "source": [
    "X = df.ix[:,16:33]"
   ]
  },
  {
   "cell_type": "code",
   "execution_count": null,
   "metadata": {
    "collapsed": false
   },
   "outputs": [],
   "source": [
    "X.head()"
   ]
  },
  {
   "cell_type": "code",
   "execution_count": null,
   "metadata": {
    "collapsed": false
   },
   "outputs": [],
   "source": [
    "F = feature_selection.f_classif(X, y)[0]\n",
    "title = 'Cereal Features with F-Values'\n",
    "plt.figure(figsize=(13, 8))\n",
    "ax = sns.barplot(x=df.columns[16:33],y=F)\n",
    "ax.set_title(title)\n",
    "ax.set(xlabel=\"Features\");\n"
   ]
  },
  {
   "cell_type": "code",
   "execution_count": null,
   "metadata": {
    "collapsed": false
   },
   "outputs": [],
   "source": [
    "X = df.drop(['score'], axis=1)\n",
    "y = df['score_label']\n",
    "X = df.ix[:,16:33]\n",
    "F = feature_selection.f_classif(X, y)[0]\n",
    "title = 'Cereal Features with F-Values'\n",
    "plt.figure(figsize=(13, 8))\n",
    "ax = sns.barplot(x=df.columns[16:33],y=F)\n",
    "ax.set_title(title)\n",
    "ax.set(xlabel=\"Features\");"
   ]
  },
  {
   "cell_type": "code",
   "execution_count": null,
   "metadata": {
    "collapsed": false
   },
   "outputs": [],
   "source": []
  },
  {
   "cell_type": "code",
   "execution_count": 237,
   "metadata": {
    "collapsed": true
   },
   "outputs": [],
   "source": [
    "X = df.ix[:,16:33]"
   ]
  },
  {
   "cell_type": "code",
   "execution_count": 238,
   "metadata": {
    "collapsed": false
   },
   "outputs": [
    {
     "data": {
      "text/html": [
       "<div>\n",
       "<table border=\"1\" class=\"dataframe\">\n",
       "  <thead>\n",
       "    <tr style=\"text-align: right;\">\n",
       "      <th></th>\n",
       "      <th>Adult</th>\n",
       "      <th>Child</th>\n",
       "      <th>Family</th>\n",
       "      <th>file_name</th>\n",
       "      <th>cropped_path</th>\n",
       "      <th>color_hls1</th>\n",
       "      <th>color_rgb1</th>\n",
       "      <th>color_rgb_name1</th>\n",
       "      <th>color_hls2</th>\n",
       "      <th>color_rgb2</th>\n",
       "      <th>color_rgb_name2</th>\n",
       "      <th>color_hls3</th>\n",
       "      <th>color_rgb3</th>\n",
       "      <th>color_rgb_name3</th>\n",
       "      <th>color_rgb_pri1</th>\n",
       "      <th>color_rgb_pri2</th>\n",
       "      <th>color_rgb_pri3</th>\n",
       "    </tr>\n",
       "  </thead>\n",
       "  <tbody>\n",
       "    <tr>\n",
       "      <th>0</th>\n",
       "      <td>0</td>\n",
       "      <td>0</td>\n",
       "      <td>1</td>\n",
       "      <td>img_001_anniesfruitybunnies.jpg</td>\n",
       "      <td>../img/cropped/img_001_anniesfruitybunnies_cro...</td>\n",
       "      <td>[0.0, 1.0, 0.0]</td>\n",
       "      <td>[255, 255, 255]</td>\n",
       "      <td>white</td>\n",
       "      <td>[0.997787610619, 0.494117647059, 0.896825396825]</td>\n",
       "      <td>[239, 13, 16]</td>\n",
       "      <td>red</td>\n",
       "      <td>[0.00563063063063, 0.317647058824, 0.913580246...</td>\n",
       "      <td>[155, 12, 7]</td>\n",
       "      <td>brown</td>\n",
       "      <td>(255, 255, 255)</td>\n",
       "      <td>(255, 0, 0)</td>\n",
       "      <td>(165, 42, 42)</td>\n",
       "    </tr>\n",
       "    <tr>\n",
       "      <th>1</th>\n",
       "      <td>0</td>\n",
       "      <td>0</td>\n",
       "      <td>1</td>\n",
       "      <td>img_002_annieshoneybunnies.jpg</td>\n",
       "      <td>../img/cropped/img_002_annieshoneybunnies_crop...</td>\n",
       "      <td>[0.0451388888889, 0.501960784314, 0.755905511811]</td>\n",
       "      <td>[224, 84, 32]</td>\n",
       "      <td>brown</td>\n",
       "      <td>[0.113843351548, 0.503921568627, 0.723320158103]</td>\n",
       "      <td>[220, 162, 37]</td>\n",
       "      <td>orange</td>\n",
       "      <td>[0.068870523416, 0.401960784314, 0.590243902439]</td>\n",
       "      <td>[163, 92, 42]</td>\n",
       "      <td>brown</td>\n",
       "      <td>(165, 42, 42)</td>\n",
       "      <td>(255, 165, 0)</td>\n",
       "      <td>(165, 42, 42)</td>\n",
       "    </tr>\n",
       "    <tr>\n",
       "      <th>2</th>\n",
       "      <td>0</td>\n",
       "      <td>0</td>\n",
       "      <td>1</td>\n",
       "      <td>img_003_anniescinnamonrollbunnyos.jpg</td>\n",
       "      <td>../img/cropped/img_003_anniescinnamonrollbunny...</td>\n",
       "      <td>[0.052380952381, 0.427450980392, 0.642201834862]</td>\n",
       "      <td>[179, 83, 39]</td>\n",
       "      <td>brown</td>\n",
       "      <td>[0.052380952381, 0.427450980392, 0.642201834862]</td>\n",
       "      <td>[179, 83, 39]</td>\n",
       "      <td>brown</td>\n",
       "      <td>[0.111111111111, 0.952941176471, 0.25]</td>\n",
       "      <td>[246, 244, 240]</td>\n",
       "      <td>white</td>\n",
       "      <td>(165, 42, 42)</td>\n",
       "      <td>(165, 42, 42)</td>\n",
       "      <td>(255, 255, 255)</td>\n",
       "    </tr>\n",
       "    <tr>\n",
       "      <th>3</th>\n",
       "      <td>0</td>\n",
       "      <td>0</td>\n",
       "      <td>1</td>\n",
       "      <td>img_004_anniesorganicbunnyos.jpg</td>\n",
       "      <td>../img/cropped/img_004_anniesorganicbunnyos_cr...</td>\n",
       "      <td>[0.769662921348, 0.264705882353, 0.659259259259]</td>\n",
       "      <td>[78, 23, 112]</td>\n",
       "      <td>brown</td>\n",
       "      <td>[0.766355140187, 0.303921568627, 0.690322580645]</td>\n",
       "      <td>[88, 24, 131]</td>\n",
       "      <td>grey</td>\n",
       "      <td>[0.766355140187, 0.303921568627, 0.690322580645]</td>\n",
       "      <td>[88, 24, 131]</td>\n",
       "      <td>grey</td>\n",
       "      <td>(165, 42, 42)</td>\n",
       "      <td>(128, 128, 128)</td>\n",
       "      <td>(128, 128, 128)</td>\n",
       "    </tr>\n",
       "    <tr>\n",
       "      <th>4</th>\n",
       "      <td>0</td>\n",
       "      <td>0</td>\n",
       "      <td>1</td>\n",
       "      <td>img_005_barbarasbakerypuffinspuffscrunchycocoa...</td>\n",
       "      <td>../img/cropped/img_005_barbarasbakerypuffinspu...</td>\n",
       "      <td>[0.103333333333, 0.607843137255, 0.5]</td>\n",
       "      <td>[205, 167, 105]</td>\n",
       "      <td>grey</td>\n",
       "      <td>[0.103333333333, 0.607843137255, 0.5]</td>\n",
       "      <td>[205, 167, 105]</td>\n",
       "      <td>grey</td>\n",
       "      <td>[0.105882352941, 0.53137254902, 0.355648535565]</td>\n",
       "      <td>[178, 147, 93]</td>\n",
       "      <td>grey</td>\n",
       "      <td>(128, 128, 128)</td>\n",
       "      <td>(128, 128, 128)</td>\n",
       "      <td>(128, 128, 128)</td>\n",
       "    </tr>\n",
       "    <tr>\n",
       "      <th>5</th>\n",
       "      <td>0</td>\n",
       "      <td>0</td>\n",
       "      <td>1</td>\n",
       "      <td>img_006_barbarasbakerypuffinspuffsfruitmedley.jpg</td>\n",
       "      <td>../img/cropped/img_006_barbarasbakerypuffinspu...</td>\n",
       "      <td>[0.10632183908, 0.776470588235, 0.508771929825]</td>\n",
       "      <td>[227, 206, 169]</td>\n",
       "      <td>white</td>\n",
       "      <td>[0.10632183908, 0.776470588235, 0.508771929825]</td>\n",
       "      <td>[227, 206, 169]</td>\n",
       "      <td>white</td>\n",
       "      <td>[0.0959595959596, 0.686274509804, 0.4125]</td>\n",
       "      <td>[208, 180, 142]</td>\n",
       "      <td>grey</td>\n",
       "      <td>(255, 255, 255)</td>\n",
       "      <td>(255, 255, 255)</td>\n",
       "      <td>(128, 128, 128)</td>\n",
       "    </tr>\n",
       "    <tr>\n",
       "      <th>6</th>\n",
       "      <td>0</td>\n",
       "      <td>0</td>\n",
       "      <td>1</td>\n",
       "      <td>img_007_barbarasbakerypuffinscinnamon.jpg</td>\n",
       "      <td>../img/cropped/img_007_barbarasbakerypuffinsci...</td>\n",
       "      <td>[0.0913978494624, 0.674509803922, 0.373493975904]</td>\n",
       "      <td>[203, 175, 141]</td>\n",
       "      <td>grey</td>\n",
       "      <td>[0.0928571428571, 0.560784313725, 0.3125]</td>\n",
       "      <td>[178, 147, 108]</td>\n",
       "      <td>grey</td>\n",
       "      <td>[0.0915032679739, 0.61568627451, 0.520408163265]</td>\n",
       "      <td>[208, 162, 106]</td>\n",
       "      <td>grey</td>\n",
       "      <td>(128, 128, 128)</td>\n",
       "      <td>(128, 128, 128)</td>\n",
       "      <td>(128, 128, 128)</td>\n",
       "    </tr>\n",
       "    <tr>\n",
       "      <th>7</th>\n",
       "      <td>0</td>\n",
       "      <td>0</td>\n",
       "      <td>1</td>\n",
       "      <td>img_008_barbarasbakerypuffinshoneyrice.jpg</td>\n",
       "      <td>../img/cropped/img_008_barbarasbakerypuffinsho...</td>\n",
       "      <td>[0.0913978494624, 0.678431372549, 0.378048780488]</td>\n",
       "      <td>[204, 176, 142]</td>\n",
       "      <td>grey</td>\n",
       "      <td>[0.0913978494624, 0.678431372549, 0.378048780488]</td>\n",
       "      <td>[204, 176, 142]</td>\n",
       "      <td>grey</td>\n",
       "      <td>[0.0913978494624, 0.678431372549, 0.378048780488]</td>\n",
       "      <td>[204, 176, 142]</td>\n",
       "      <td>grey</td>\n",
       "      <td>(128, 128, 128)</td>\n",
       "      <td>(128, 128, 128)</td>\n",
       "      <td>(128, 128, 128)</td>\n",
       "    </tr>\n",
       "    <tr>\n",
       "      <th>8</th>\n",
       "      <td>0</td>\n",
       "      <td>0</td>\n",
       "      <td>1</td>\n",
       "      <td>img_009_barbarasbakerypuffinspeanutbutter.jpg</td>\n",
       "      <td>../img/cropped/img_009_barbarasbakerypuffinspe...</td>\n",
       "      <td>[0.0888888888889, 0.674509803922, 0.361445783133]</td>\n",
       "      <td>[202, 174, 142]</td>\n",
       "      <td>grey</td>\n",
       "      <td>[0.0888888888889, 0.674509803922, 0.361445783133]</td>\n",
       "      <td>[202, 174, 142]</td>\n",
       "      <td>grey</td>\n",
       "      <td>[0.0888888888889, 0.674509803922, 0.361445783133]</td>\n",
       "      <td>[202, 174, 142]</td>\n",
       "      <td>grey</td>\n",
       "      <td>(128, 128, 128)</td>\n",
       "      <td>(128, 128, 128)</td>\n",
       "      <td>(128, 128, 128)</td>\n",
       "    </tr>\n",
       "    <tr>\n",
       "      <th>9</th>\n",
       "      <td>0</td>\n",
       "      <td>0</td>\n",
       "      <td>1</td>\n",
       "      <td>img_010_barbarasbakerypuffinsoriginal.jpg</td>\n",
       "      <td>../img/cropped/img_010_barbarasbakerypuffinsor...</td>\n",
       "      <td>[0.0890804597701, 0.678431372549, 0.353658536585]</td>\n",
       "      <td>[202, 175, 144]</td>\n",
       "      <td>grey</td>\n",
       "      <td>[0.0890804597701, 0.678431372549, 0.353658536585]</td>\n",
       "      <td>[202, 175, 144]</td>\n",
       "      <td>grey</td>\n",
       "      <td>[0.0928571428571, 0.560784313725, 0.3125]</td>\n",
       "      <td>[178, 147, 108]</td>\n",
       "      <td>grey</td>\n",
       "      <td>(128, 128, 128)</td>\n",
       "      <td>(128, 128, 128)</td>\n",
       "      <td>(128, 128, 128)</td>\n",
       "    </tr>\n",
       "    <tr>\n",
       "      <th>10</th>\n",
       "      <td>0</td>\n",
       "      <td>0</td>\n",
       "      <td>1</td>\n",
       "      <td>img_011_barbarasbakerypuffinspeanutbutterchoco...</td>\n",
       "      <td>../img/cropped/img_011_barbarasbakerypuffinspe...</td>\n",
       "      <td>[0.0875706214689, 0.680392156863, 0.361963190184]</td>\n",
       "      <td>[203, 175, 144]</td>\n",
       "      <td>grey</td>\n",
       "      <td>[0.0904761904762, 0.564705882353, 0.315315315315]</td>\n",
       "      <td>[179, 147, 109]</td>\n",
       "      <td>grey</td>\n",
       "      <td>[0.0904761904762, 0.564705882353, 0.315315315315]</td>\n",
       "      <td>[179, 147, 109]</td>\n",
       "      <td>grey</td>\n",
       "      <td>(128, 128, 128)</td>\n",
       "      <td>(128, 128, 128)</td>\n",
       "      <td>(128, 128, 128)</td>\n",
       "    </tr>\n",
       "    <tr>\n",
       "      <th>11</th>\n",
       "      <td>0</td>\n",
       "      <td>0</td>\n",
       "      <td>1</td>\n",
       "      <td>img_012_barbarasbakerypuffinsmultigrain.jpg</td>\n",
       "      <td>../img/cropped/img_012_barbarasbakerypuffinsmu...</td>\n",
       "      <td>[0.090395480226, 0.676470588235, 0.357575757576]</td>\n",
       "      <td>[202, 175, 143]</td>\n",
       "      <td>grey</td>\n",
       "      <td>[0.0928571428571, 0.560784313725, 0.3125]</td>\n",
       "      <td>[178, 147, 108]</td>\n",
       "      <td>grey</td>\n",
       "      <td>[0.0964912280702, 0.613725490196, 0.482233502538]</td>\n",
       "      <td>[204, 164, 109]</td>\n",
       "      <td>grey</td>\n",
       "      <td>(128, 128, 128)</td>\n",
       "      <td>(128, 128, 128)</td>\n",
       "      <td>(128, 128, 128)</td>\n",
       "    </tr>\n",
       "    <tr>\n",
       "      <th>12</th>\n",
       "      <td>0</td>\n",
       "      <td>0</td>\n",
       "      <td>1</td>\n",
       "      <td>img_013_barbarasbakeryshreddedoatscinnamoncrun...</td>\n",
       "      <td>../img/cropped/img_013_barbarasbakeryshreddedo...</td>\n",
       "      <td>[0.0901639344262, 0.676470588235, 0.369696969697]</td>\n",
       "      <td>[203, 175, 142]</td>\n",
       "      <td>grey</td>\n",
       "      <td>[0.0925925925926, 0.556862745098, 0.318584070796]</td>\n",
       "      <td>[178, 146, 106]</td>\n",
       "      <td>grey</td>\n",
       "      <td>[0.0925925925926, 0.556862745098, 0.318584070796]</td>\n",
       "      <td>[178, 146, 106]</td>\n",
       "      <td>grey</td>\n",
       "      <td>(128, 128, 128)</td>\n",
       "      <td>(128, 128, 128)</td>\n",
       "      <td>(128, 128, 128)</td>\n",
       "    </tr>\n",
       "    <tr>\n",
       "      <th>13</th>\n",
       "      <td>1</td>\n",
       "      <td>0</td>\n",
       "      <td>0</td>\n",
       "      <td>img_014_barbarasbakeryshreddedoatsvanillaalmon...</td>\n",
       "      <td>../img/cropped/img_014_barbarasbakeryshreddedo...</td>\n",
       "      <td>[0.0932203389831, 0.676470588235, 0.357575757576]</td>\n",
       "      <td>[202, 176, 143]</td>\n",
       "      <td>grey</td>\n",
       "      <td>[0.0925925925926, 0.556862745098, 0.318584070796]</td>\n",
       "      <td>[178, 146, 106]</td>\n",
       "      <td>grey</td>\n",
       "      <td>[0.0925925925926, 0.556862745098, 0.318584070796]</td>\n",
       "      <td>[178, 146, 106]</td>\n",
       "      <td>grey</td>\n",
       "      <td>(128, 128, 128)</td>\n",
       "      <td>(128, 128, 128)</td>\n",
       "      <td>(128, 128, 128)</td>\n",
       "    </tr>\n",
       "    <tr>\n",
       "      <th>14</th>\n",
       "      <td>1</td>\n",
       "      <td>0</td>\n",
       "      <td>0</td>\n",
       "      <td>img_015_barbarasbakeryshreddedoatsoriginal.jpg</td>\n",
       "      <td>../img/cropped/img_015_barbarasbakeryshreddedo...</td>\n",
       "      <td>[0.090395480226, 0.676470588235, 0.357575757576]</td>\n",
       "      <td>[202, 175, 143]</td>\n",
       "      <td>grey</td>\n",
       "      <td>[0.0915492957746, 0.558823529412, 0.315555555556]</td>\n",
       "      <td>[178, 146, 107]</td>\n",
       "      <td>grey</td>\n",
       "      <td>[0.0915492957746, 0.558823529412, 0.315555555556]</td>\n",
       "      <td>[178, 146, 107]</td>\n",
       "      <td>grey</td>\n",
       "      <td>(128, 128, 128)</td>\n",
       "      <td>(128, 128, 128)</td>\n",
       "      <td>(128, 128, 128)</td>\n",
       "    </tr>\n",
       "    <tr>\n",
       "      <th>15</th>\n",
       "      <td>1</td>\n",
       "      <td>0</td>\n",
       "      <td>0</td>\n",
       "      <td>img_016_barbarasbakeryshreddedspoonfulsmultigr...</td>\n",
       "      <td>../img/cropped/img_016_barbarasbakeryshreddeds...</td>\n",
       "      <td>[0.1, 0.443137254902, 0.221238938053]</td>\n",
       "      <td>[138, 118, 88]</td>\n",
       "      <td>grey</td>\n",
       "      <td>[0.1, 0.443137254902, 0.221238938053]</td>\n",
       "      <td>[138, 118, 88]</td>\n",
       "      <td>grey</td>\n",
       "      <td>[0.1, 0.443137254902, 0.221238938053]</td>\n",
       "      <td>[138, 118, 88]</td>\n",
       "      <td>grey</td>\n",
       "      <td>(128, 128, 128)</td>\n",
       "      <td>(128, 128, 128)</td>\n",
       "      <td>(128, 128, 128)</td>\n",
       "    </tr>\n",
       "    <tr>\n",
       "      <th>16</th>\n",
       "      <td>1</td>\n",
       "      <td>0</td>\n",
       "      <td>0</td>\n",
       "      <td>img_017_barbarasbakeryshreddedwheat.jpg</td>\n",
       "      <td>../img/cropped/img_017_barbarasbakeryshreddedw...</td>\n",
       "      <td>[0.0769230769231, 0.698039215686, 0.337662337662]</td>\n",
       "      <td>[204, 176, 152]</td>\n",
       "      <td>grey</td>\n",
       "      <td>[0.0769230769231, 0.698039215686, 0.337662337662]</td>\n",
       "      <td>[204, 176, 152]</td>\n",
       "      <td>grey</td>\n",
       "      <td>[0.0769230769231, 0.698039215686, 0.337662337662]</td>\n",
       "      <td>[204, 176, 152]</td>\n",
       "      <td>grey</td>\n",
       "      <td>(128, 128, 128)</td>\n",
       "      <td>(128, 128, 128)</td>\n",
       "      <td>(128, 128, 128)</td>\n",
       "    </tr>\n",
       "    <tr>\n",
       "      <th>17</th>\n",
       "      <td>1</td>\n",
       "      <td>0</td>\n",
       "      <td>0</td>\n",
       "      <td>img_018_barbarasbakeryshreddedminisblueberrybu...</td>\n",
       "      <td>../img/cropped/img_018_barbarasbakeryshreddedm...</td>\n",
       "      <td>[0.0916666666667, 0.678431372549, 0.365853658537]</td>\n",
       "      <td>[203, 176, 143]</td>\n",
       "      <td>grey</td>\n",
       "      <td>[0.0917874396135, 0.558823529412, 0.306666666667]</td>\n",
       "      <td>[177, 146, 108]</td>\n",
       "      <td>grey</td>\n",
       "      <td>[0.0917874396135, 0.558823529412, 0.306666666667]</td>\n",
       "      <td>[177, 146, 108]</td>\n",
       "      <td>grey</td>\n",
       "      <td>(128, 128, 128)</td>\n",
       "      <td>(128, 128, 128)</td>\n",
       "      <td>(128, 128, 128)</td>\n",
       "    </tr>\n",
       "    <tr>\n",
       "      <th>18</th>\n",
       "      <td>1</td>\n",
       "      <td>0</td>\n",
       "      <td>0</td>\n",
       "      <td>img_019_barbarasbakeryultimaorganiccranberry.jpg</td>\n",
       "      <td>../img/cropped/img_019_barbarasbakeryultimaorg...</td>\n",
       "      <td>[0.0, 1.0, 0.0]</td>\n",
       "      <td>[255, 255, 255]</td>\n",
       "      <td>white</td>\n",
       "      <td>[0.0875706214689, 0.680392156863, 0.361963190184]</td>\n",
       "      <td>[203, 175, 144]</td>\n",
       "      <td>grey</td>\n",
       "      <td>[0.0915492957746, 0.558823529412, 0.315555555556]</td>\n",
       "      <td>[178, 146, 107]</td>\n",
       "      <td>grey</td>\n",
       "      <td>(255, 255, 255)</td>\n",
       "      <td>(128, 128, 128)</td>\n",
       "      <td>(128, 128, 128)</td>\n",
       "    </tr>\n",
       "    <tr>\n",
       "      <th>19</th>\n",
       "      <td>1</td>\n",
       "      <td>0</td>\n",
       "      <td>0</td>\n",
       "      <td>img_020_barbarasbakeryultimaorganicflaxgranola...</td>\n",
       "      <td>../img/cropped/img_020_barbarasbakeryultimaorg...</td>\n",
       "      <td>[0.0, 1.0, 0.0]</td>\n",
       "      <td>[255, 255, 255]</td>\n",
       "      <td>white</td>\n",
       "      <td>[0.0919540229885, 0.678431372549, 0.353658536585]</td>\n",
       "      <td>[202, 176, 144]</td>\n",
       "      <td>grey</td>\n",
       "      <td>[0.0915492957746, 0.558823529412, 0.315555555556]</td>\n",
       "      <td>[178, 146, 107]</td>\n",
       "      <td>grey</td>\n",
       "      <td>(255, 255, 255)</td>\n",
       "      <td>(128, 128, 128)</td>\n",
       "      <td>(128, 128, 128)</td>\n",
       "    </tr>\n",
       "    <tr>\n",
       "      <th>20</th>\n",
       "      <td>1</td>\n",
       "      <td>0</td>\n",
       "      <td>0</td>\n",
       "      <td>img_021_barbarasbakeryultimaorganichighfiberor...</td>\n",
       "      <td>../img/cropped/img_021_barbarasbakeryultimaorg...</td>\n",
       "      <td>[0.0, 1.0, 0.0]</td>\n",
       "      <td>[255, 255, 255]</td>\n",
       "      <td>white</td>\n",
       "      <td>[0.0890804597701, 0.678431372549, 0.353658536585]</td>\n",
       "      <td>[202, 175, 144]</td>\n",
       "      <td>grey</td>\n",
       "      <td>[0.0928571428571, 0.560784313725, 0.3125]</td>\n",
       "      <td>[178, 147, 108]</td>\n",
       "      <td>grey</td>\n",
       "      <td>(255, 255, 255)</td>\n",
       "      <td>(128, 128, 128)</td>\n",
       "      <td>(128, 128, 128)</td>\n",
       "    </tr>\n",
       "    <tr>\n",
       "      <th>21</th>\n",
       "      <td>1</td>\n",
       "      <td>0</td>\n",
       "      <td>0</td>\n",
       "      <td>img_022_barbarasbakeryholenoatshoneynut.jpg</td>\n",
       "      <td>../img/cropped/img_022_barbarasbakeryholenoats...</td>\n",
       "      <td>[0.114457831325, 0.550980392157, 0.362445414847]</td>\n",
       "      <td>[182, 156, 99]</td>\n",
       "      <td>grey</td>\n",
       "      <td>[0.114457831325, 0.550980392157, 0.362445414847]</td>\n",
       "      <td>[182, 156, 99]</td>\n",
       "      <td>grey</td>\n",
       "      <td>[0.114457831325, 0.550980392157, 0.362445414847]</td>\n",
       "      <td>[182, 156, 99]</td>\n",
       "      <td>grey</td>\n",
       "      <td>(128, 128, 128)</td>\n",
       "      <td>(128, 128, 128)</td>\n",
       "      <td>(128, 128, 128)</td>\n",
       "    </tr>\n",
       "    <tr>\n",
       "      <th>22</th>\n",
       "      <td>1</td>\n",
       "      <td>0</td>\n",
       "      <td>0</td>\n",
       "      <td>img_023_barbarasbakeryholenoatsfruitjuicesweet...</td>\n",
       "      <td>../img/cropped/img_023_barbarasbakeryholenoats...</td>\n",
       "      <td>[0.0, 1.0, 0.0]</td>\n",
       "      <td>[255, 255, 255]</td>\n",
       "      <td>white</td>\n",
       "      <td>[0.0913978494624, 0.674509803922, 0.373493975904]</td>\n",
       "      <td>[203, 175, 141]</td>\n",
       "      <td>grey</td>\n",
       "      <td>[0.0913978494624, 0.674509803922, 0.373493975904]</td>\n",
       "      <td>[203, 175, 141]</td>\n",
       "      <td>grey</td>\n",
       "      <td>(255, 255, 255)</td>\n",
       "      <td>(128, 128, 128)</td>\n",
       "      <td>(128, 128, 128)</td>\n",
       "    </tr>\n",
       "    <tr>\n",
       "      <th>23</th>\n",
       "      <td>1</td>\n",
       "      <td>0</td>\n",
       "      <td>0</td>\n",
       "      <td>img_024_barbarasbakerycornflakes.jpg</td>\n",
       "      <td>../img/cropped/img_024_barbarasbakerycornflake...</td>\n",
       "      <td>[0.0, 1.0, 0.0]</td>\n",
       "      <td>[255, 255, 255]</td>\n",
       "      <td>white</td>\n",
       "      <td>[0.0919540229885, 0.674509803922, 0.349397590361]</td>\n",
       "      <td>[201, 175, 143]</td>\n",
       "      <td>grey</td>\n",
       "      <td>[0.093137254902, 0.564705882353, 0.306306306306]</td>\n",
       "      <td>[178, 148, 110]</td>\n",
       "      <td>grey</td>\n",
       "      <td>(255, 255, 255)</td>\n",
       "      <td>(128, 128, 128)</td>\n",
       "      <td>(128, 128, 128)</td>\n",
       "    </tr>\n",
       "    <tr>\n",
       "      <th>24</th>\n",
       "      <td>1</td>\n",
       "      <td>0</td>\n",
       "      <td>0</td>\n",
       "      <td>img_025_barbarasbakerybrownricecrisps.jpg</td>\n",
       "      <td>../img/cropped/img_025_barbarasbakerybrownrice...</td>\n",
       "      <td>[0.0, 1.0, 0.0]</td>\n",
       "      <td>[255, 255, 255]</td>\n",
       "      <td>white</td>\n",
       "      <td>[0.090395480226, 0.676470588235, 0.357575757576]</td>\n",
       "      <td>[202, 175, 143]</td>\n",
       "      <td>grey</td>\n",
       "      <td>[0.0925925925926, 0.560784313725, 0.321428571429]</td>\n",
       "      <td>[179, 147, 107]</td>\n",
       "      <td>grey</td>\n",
       "      <td>(255, 255, 255)</td>\n",
       "      <td>(128, 128, 128)</td>\n",
       "      <td>(128, 128, 128)</td>\n",
       "    </tr>\n",
       "    <tr>\n",
       "      <th>25</th>\n",
       "      <td>0</td>\n",
       "      <td>0</td>\n",
       "      <td>1</td>\n",
       "      <td>img_026_cfcinnamoncrunch.jpg</td>\n",
       "      <td>../img/cropped/img_026_cfcinnamoncrunch_croppe...</td>\n",
       "      <td>[0.0, 1.0, 0.0]</td>\n",
       "      <td>[255, 255, 255]</td>\n",
       "      <td>white</td>\n",
       "      <td>[0.125, 0.945098039216, 0.142857142857]</td>\n",
       "      <td>[243, 242, 239]</td>\n",
       "      <td>white</td>\n",
       "      <td>[0.0892857142857, 0.623529411765, 0.729166666667]</td>\n",
       "      <td>[229, 164, 89]</td>\n",
       "      <td>orange</td>\n",
       "      <td>(255, 255, 255)</td>\n",
       "      <td>(255, 255, 255)</td>\n",
       "      <td>(255, 165, 0)</td>\n",
       "    </tr>\n",
       "    <tr>\n",
       "      <th>26</th>\n",
       "      <td>0</td>\n",
       "      <td>1</td>\n",
       "      <td>0</td>\n",
       "      <td>img_027_cfcliffordcrunch.jpg</td>\n",
       "      <td>../img/cropped/img_027_cfcliffordcrunch_croppe...</td>\n",
       "      <td>[0.0, 1.0, 0.0]</td>\n",
       "      <td>[255, 255, 255]</td>\n",
       "      <td>white</td>\n",
       "      <td>[0.166666666667, 0.952941176471, 0.166666666667]</td>\n",
       "      <td>[245, 245, 241]</td>\n",
       "      <td>white</td>\n",
       "      <td>[0.0103578154426, 0.51568627451, 0.716599190283]</td>\n",
       "      <td>[220, 54, 43]</td>\n",
       "      <td>brown</td>\n",
       "      <td>(255, 255, 255)</td>\n",
       "      <td>(255, 255, 255)</td>\n",
       "      <td>(165, 42, 42)</td>\n",
       "    </tr>\n",
       "    <tr>\n",
       "      <th>27</th>\n",
       "      <td>1</td>\n",
       "      <td>0</td>\n",
       "      <td>0</td>\n",
       "      <td>img_028_cfgranolacinnamonraisin.jpg</td>\n",
       "      <td>../img/cropped/img_028_cfgranolacinnamonraisin...</td>\n",
       "      <td>[0.0, 1.0, 0.0]</td>\n",
       "      <td>[255, 255, 255]</td>\n",
       "      <td>white</td>\n",
       "      <td>[0.166666666667, 0.949019607843, 0.153846153846]</td>\n",
       "      <td>[244, 244, 240]</td>\n",
       "      <td>white</td>\n",
       "      <td>[0.132897603486, 0.645098039216, 0.845303867403]</td>\n",
       "      <td>[241, 210, 88]</td>\n",
       "      <td>yellow</td>\n",
       "      <td>(255, 255, 255)</td>\n",
       "      <td>(255, 255, 255)</td>\n",
       "      <td>(255, 255, 0)</td>\n",
       "    </tr>\n",
       "    <tr>\n",
       "      <th>28</th>\n",
       "      <td>1</td>\n",
       "      <td>0</td>\n",
       "      <td>0</td>\n",
       "      <td>img_029_cfgranolafruitnut.jpg</td>\n",
       "      <td>../img/cropped/img_029_cfgranolafruitnut_cropp...</td>\n",
       "      <td>[0.0, 1.0, 0.0]</td>\n",
       "      <td>[255, 255, 255]</td>\n",
       "      <td>white</td>\n",
       "      <td>[0.142857142857, 0.950980392157, 0.28]</td>\n",
       "      <td>[246, 245, 239]</td>\n",
       "      <td>white</td>\n",
       "      <td>[0.135555555556, 0.51568627451, 0.303643724696]</td>\n",
       "      <td>[169, 155, 94]</td>\n",
       "      <td>grey</td>\n",
       "      <td>(255, 255, 255)</td>\n",
       "      <td>(255, 255, 255)</td>\n",
       "      <td>(128, 128, 128)</td>\n",
       "    </tr>\n",
       "    <tr>\n",
       "      <th>29</th>\n",
       "      <td>1</td>\n",
       "      <td>0</td>\n",
       "      <td>0</td>\n",
       "      <td>img_030_cfgranolamaplebrownsugar.jpg</td>\n",
       "      <td>../img/cropped/img_030_cfgranolamaplebrownsuga...</td>\n",
       "      <td>[0.458333333333, 0.854901960784, 0.0540540540541]</td>\n",
       "      <td>[216, 220, 219]</td>\n",
       "      <td>white</td>\n",
       "      <td>[0.458333333333, 0.854901960784, 0.0540540540541]</td>\n",
       "      <td>[216, 220, 219]</td>\n",
       "      <td>white</td>\n",
       "      <td>[0.458333333333, 0.854901960784, 0.0540540540541]</td>\n",
       "      <td>[216, 220, 219]</td>\n",
       "      <td>white</td>\n",
       "      <td>(255, 255, 255)</td>\n",
       "      <td>(255, 255, 255)</td>\n",
       "      <td>(255, 255, 255)</td>\n",
       "    </tr>\n",
       "    <tr>\n",
       "      <th>...</th>\n",
       "      <td>...</td>\n",
       "      <td>...</td>\n",
       "      <td>...</td>\n",
       "      <td>...</td>\n",
       "      <td>...</td>\n",
       "      <td>...</td>\n",
       "      <td>...</td>\n",
       "      <td>...</td>\n",
       "      <td>...</td>\n",
       "      <td>...</td>\n",
       "      <td>...</td>\n",
       "      <td>...</td>\n",
       "      <td>...</td>\n",
       "      <td>...</td>\n",
       "      <td>...</td>\n",
       "      <td>...</td>\n",
       "      <td>...</td>\n",
       "    </tr>\n",
       "    <tr>\n",
       "      <th>230</th>\n",
       "      <td>1</td>\n",
       "      <td>0</td>\n",
       "      <td>0</td>\n",
       "      <td>img_231_peacegoldenhoneygranola.jpg</td>\n",
       "      <td>../img/cropped/img_231_peacegoldenhoneygranola...</td>\n",
       "      <td>[0.0, 1.0, 0.0]</td>\n",
       "      <td>[255, 255, 255]</td>\n",
       "      <td>white</td>\n",
       "      <td>[0.5625, 0.850980392157, 0.105263157895]</td>\n",
       "      <td>[213, 218, 221]</td>\n",
       "      <td>white</td>\n",
       "      <td>[0.5625, 0.850980392157, 0.105263157895]</td>\n",
       "      <td>[213, 218, 221]</td>\n",
       "      <td>white</td>\n",
       "      <td>(255, 255, 255)</td>\n",
       "      <td>(255, 255, 255)</td>\n",
       "      <td>(255, 255, 255)</td>\n",
       "    </tr>\n",
       "    <tr>\n",
       "      <th>231</th>\n",
       "      <td>1</td>\n",
       "      <td>0</td>\n",
       "      <td>0</td>\n",
       "      <td>img_232_peacemangopassion.jpg</td>\n",
       "      <td>../img/cropped/img_232_peacemangopassion_cropp...</td>\n",
       "      <td>[0.0, 1.0, 0.0]</td>\n",
       "      <td>[255, 255, 255]</td>\n",
       "      <td>white</td>\n",
       "      <td>[0.571428571429, 0.852941176471, 0.0933333333333]</td>\n",
       "      <td>[214, 218, 221]</td>\n",
       "      <td>white</td>\n",
       "      <td>[0.571428571429, 0.852941176471, 0.0933333333333]</td>\n",
       "      <td>[214, 218, 221]</td>\n",
       "      <td>white</td>\n",
       "      <td>(255, 255, 255)</td>\n",
       "      <td>(255, 255, 255)</td>\n",
       "      <td>(255, 255, 255)</td>\n",
       "    </tr>\n",
       "    <tr>\n",
       "      <th>232</th>\n",
       "      <td>1</td>\n",
       "      <td>0</td>\n",
       "      <td>0</td>\n",
       "      <td>img_233_peacemaplepecan.jpg</td>\n",
       "      <td>../img/cropped/img_233_peacemaplepecan_cropped...</td>\n",
       "      <td>[0.0, 1.0, 0.0]</td>\n",
       "      <td>[255, 255, 255]</td>\n",
       "      <td>white</td>\n",
       "      <td>[0.541666666667, 0.941176470588, 0.533333333333]</td>\n",
       "      <td>[232, 244, 248]</td>\n",
       "      <td>white</td>\n",
       "      <td>[0.541666666667, 0.941176470588, 0.533333333333]</td>\n",
       "      <td>[232, 244, 248]</td>\n",
       "      <td>white</td>\n",
       "      <td>(255, 255, 255)</td>\n",
       "      <td>(255, 255, 255)</td>\n",
       "      <td>(255, 255, 255)</td>\n",
       "    </tr>\n",
       "    <tr>\n",
       "      <th>233</th>\n",
       "      <td>1</td>\n",
       "      <td>0</td>\n",
       "      <td>0</td>\n",
       "      <td>img_234_peacerasberryginger.jpg</td>\n",
       "      <td>../img/cropped/img_234_peacerasberryginger_cro...</td>\n",
       "      <td>[0.0, 1.0, 0.0]</td>\n",
       "      <td>[255, 255, 255]</td>\n",
       "      <td>white</td>\n",
       "      <td>[0.530303030303, 0.935294117647, 0.333333333333]</td>\n",
       "      <td>[233, 242, 244]</td>\n",
       "      <td>white</td>\n",
       "      <td>[0.530303030303, 0.935294117647, 0.333333333333]</td>\n",
       "      <td>[233, 242, 244]</td>\n",
       "      <td>white</td>\n",
       "      <td>(255, 255, 255)</td>\n",
       "      <td>(255, 255, 255)</td>\n",
       "      <td>(255, 255, 255)</td>\n",
       "    </tr>\n",
       "    <tr>\n",
       "      <th>234</th>\n",
       "      <td>1</td>\n",
       "      <td>0</td>\n",
       "      <td>0</td>\n",
       "      <td>img_235_peacevanillaalmond.jpg</td>\n",
       "      <td>../img/cropped/img_235_peacevanillaalmond_crop...</td>\n",
       "      <td>[0.0, 1.0, 0.0]</td>\n",
       "      <td>[255, 255, 255]</td>\n",
       "      <td>white</td>\n",
       "      <td>[0.538461538462, 0.927450980392, 0.351351351351]</td>\n",
       "      <td>[230, 240, 243]</td>\n",
       "      <td>white</td>\n",
       "      <td>[0.538461538462, 0.927450980392, 0.351351351351]</td>\n",
       "      <td>[230, 240, 243]</td>\n",
       "      <td>white</td>\n",
       "      <td>(255, 255, 255)</td>\n",
       "      <td>(255, 255, 255)</td>\n",
       "      <td>(255, 255, 255)</td>\n",
       "    </tr>\n",
       "    <tr>\n",
       "      <th>235</th>\n",
       "      <td>1</td>\n",
       "      <td>0</td>\n",
       "      <td>0</td>\n",
       "      <td>img_236_peacewildberrycrisp.jpg</td>\n",
       "      <td>../img/cropped/img_236_peacewildberrycrisp_cro...</td>\n",
       "      <td>[0.530303030303, 0.927450980392, 0.297297297297]</td>\n",
       "      <td>[231, 240, 242]</td>\n",
       "      <td>white</td>\n",
       "      <td>[0.530303030303, 0.927450980392, 0.297297297297]</td>\n",
       "      <td>[231, 240, 242]</td>\n",
       "      <td>white</td>\n",
       "      <td>[0.530303030303, 0.927450980392, 0.297297297297]</td>\n",
       "      <td>[231, 240, 242]</td>\n",
       "      <td>white</td>\n",
       "      <td>(255, 255, 255)</td>\n",
       "      <td>(255, 255, 255)</td>\n",
       "      <td>(255, 255, 255)</td>\n",
       "    </tr>\n",
       "    <tr>\n",
       "      <th>236</th>\n",
       "      <td>1</td>\n",
       "      <td>0</td>\n",
       "      <td>0</td>\n",
       "      <td>img_237_peacecherryalmond.jpg</td>\n",
       "      <td>../img/cropped/img_237_peacecherryalmond_cropp...</td>\n",
       "      <td>[0.0, 1.0, 0.0]</td>\n",
       "      <td>[255, 255, 255]</td>\n",
       "      <td>white</td>\n",
       "      <td>[0.552083333333, 0.941176470588, 0.533333333333]</td>\n",
       "      <td>[232, 243, 248]</td>\n",
       "      <td>white</td>\n",
       "      <td>[0.55303030303, 0.623529411765, 0.114583333333]</td>\n",
       "      <td>[148, 163, 170]</td>\n",
       "      <td>grey</td>\n",
       "      <td>(255, 255, 255)</td>\n",
       "      <td>(255, 255, 255)</td>\n",
       "      <td>(128, 128, 128)</td>\n",
       "    </tr>\n",
       "    <tr>\n",
       "      <th>237</th>\n",
       "      <td>1</td>\n",
       "      <td>0</td>\n",
       "      <td>0</td>\n",
       "      <td>img_238_peaceheartyraisinbran.jpg</td>\n",
       "      <td>../img/cropped/img_238_peaceheartyraisinbran_c...</td>\n",
       "      <td>[0.0, 1.0, 0.0]</td>\n",
       "      <td>[255, 255, 255]</td>\n",
       "      <td>white</td>\n",
       "      <td>[0.552083333333, 0.945098039216, 0.571428571429]</td>\n",
       "      <td>[233, 244, 249]</td>\n",
       "      <td>white</td>\n",
       "      <td>[0.552083333333, 0.945098039216, 0.571428571429]</td>\n",
       "      <td>[233, 244, 249]</td>\n",
       "      <td>white</td>\n",
       "      <td>(255, 255, 255)</td>\n",
       "      <td>(255, 255, 255)</td>\n",
       "      <td>(255, 255, 255)</td>\n",
       "    </tr>\n",
       "    <tr>\n",
       "      <th>238</th>\n",
       "      <td>1</td>\n",
       "      <td>0</td>\n",
       "      <td>0</td>\n",
       "      <td>img_239_peacegojiberry.jpg</td>\n",
       "      <td>../img/cropped/img_239_peacegojiberry_cropped.png</td>\n",
       "      <td>[0.0, 1.0, 0.0]</td>\n",
       "      <td>[255, 255, 255]</td>\n",
       "      <td>white</td>\n",
       "      <td>[0.552083333333, 0.945098039216, 0.571428571429]</td>\n",
       "      <td>[233, 244, 249]</td>\n",
       "      <td>white</td>\n",
       "      <td>[0.555555555556, 0.621568627451, 0.108808290155]</td>\n",
       "      <td>[148, 162, 169]</td>\n",
       "      <td>grey</td>\n",
       "      <td>(255, 255, 255)</td>\n",
       "      <td>(255, 255, 255)</td>\n",
       "      <td>(128, 128, 128)</td>\n",
       "    </tr>\n",
       "    <tr>\n",
       "      <th>239</th>\n",
       "      <td>1</td>\n",
       "      <td>0</td>\n",
       "      <td>0</td>\n",
       "      <td>img_240_peaceblueberrypomegranate.jpg</td>\n",
       "      <td>../img/cropped/img_240_peaceblueberrypomegrana...</td>\n",
       "      <td>[0.555555555556, 0.939215686275, 0.483870967742]</td>\n",
       "      <td>[232, 242, 247]</td>\n",
       "      <td>white</td>\n",
       "      <td>[0.555555555556, 0.621568627451, 0.108808290155]</td>\n",
       "      <td>[148, 162, 169]</td>\n",
       "      <td>grey</td>\n",
       "      <td>[0.555555555556, 0.621568627451, 0.108808290155]</td>\n",
       "      <td>[148, 162, 169]</td>\n",
       "      <td>grey</td>\n",
       "      <td>(255, 255, 255)</td>\n",
       "      <td>(128, 128, 128)</td>\n",
       "      <td>(128, 128, 128)</td>\n",
       "    </tr>\n",
       "    <tr>\n",
       "      <th>240</th>\n",
       "      <td>1</td>\n",
       "      <td>0</td>\n",
       "      <td>0</td>\n",
       "      <td>img_241_peaceapplecinnamon.jpg</td>\n",
       "      <td>../img/cropped/img_241_peaceapplecinnamon_crop...</td>\n",
       "      <td>[0.53125, 0.937254901961, 0.5]</td>\n",
       "      <td>[231, 244, 247]</td>\n",
       "      <td>white</td>\n",
       "      <td>[0.53125, 0.937254901961, 0.5]</td>\n",
       "      <td>[231, 244, 247]</td>\n",
       "      <td>white</td>\n",
       "      <td>[0.53125, 0.937254901961, 0.5]</td>\n",
       "      <td>[231, 244, 247]</td>\n",
       "      <td>white</td>\n",
       "      <td>(255, 255, 255)</td>\n",
       "      <td>(255, 255, 255)</td>\n",
       "      <td>(255, 255, 255)</td>\n",
       "    </tr>\n",
       "    <tr>\n",
       "      <th>241</th>\n",
       "      <td>1</td>\n",
       "      <td>0</td>\n",
       "      <td>0</td>\n",
       "      <td>img_242_peacewalnutspice.jpg</td>\n",
       "      <td>../img/cropped/img_242_peacewalnutspice_croppe...</td>\n",
       "      <td>[0.52380952381, 0.93137254902, 0.2]</td>\n",
       "      <td>[234, 240, 241]</td>\n",
       "      <td>white</td>\n",
       "      <td>[0.52380952381, 0.93137254902, 0.2]</td>\n",
       "      <td>[234, 240, 241]</td>\n",
       "      <td>white</td>\n",
       "      <td>[0.52380952381, 0.93137254902, 0.2]</td>\n",
       "      <td>[234, 240, 241]</td>\n",
       "      <td>white</td>\n",
       "      <td>(255, 255, 255)</td>\n",
       "      <td>(255, 255, 255)</td>\n",
       "      <td>(255, 255, 255)</td>\n",
       "    </tr>\n",
       "    <tr>\n",
       "      <th>242</th>\n",
       "      <td>0</td>\n",
       "      <td>0</td>\n",
       "      <td>1</td>\n",
       "      <td>img_243_quakercapncrunchpeanutbuttercrunch.jpg</td>\n",
       "      <td>../img/cropped/img_243_quakercapncrunchpeanutb...</td>\n",
       "      <td>[0.0916666666667, 0.345098039216, 0.795454545455]</td>\n",
       "      <td>[158, 95, 18]</td>\n",
       "      <td>brown</td>\n",
       "      <td>[0.0916666666667, 0.345098039216, 0.795454545455]</td>\n",
       "      <td>[158, 95, 18]</td>\n",
       "      <td>brown</td>\n",
       "      <td>[0.0916666666667, 0.345098039216, 0.795454545455]</td>\n",
       "      <td>[158, 95, 18]</td>\n",
       "      <td>brown</td>\n",
       "      <td>(165, 42, 42)</td>\n",
       "      <td>(165, 42, 42)</td>\n",
       "      <td>(165, 42, 42)</td>\n",
       "    </tr>\n",
       "    <tr>\n",
       "      <th>243</th>\n",
       "      <td>0</td>\n",
       "      <td>0</td>\n",
       "      <td>1</td>\n",
       "      <td>img_244_quakercapncrunchwithcrunchberries.jpg</td>\n",
       "      <td>../img/cropped/img_244_quakercapncrunchwithcru...</td>\n",
       "      <td>[0.130044843049, 0.535294117647, 0.940928270042]</td>\n",
       "      <td>[248, 199, 25]</td>\n",
       "      <td>orange</td>\n",
       "      <td>[0.138888888889, 0.925490196078, 0.157894736842]</td>\n",
       "      <td>[239, 238, 233]</td>\n",
       "      <td>white</td>\n",
       "      <td>[0.138888888889, 0.925490196078, 0.157894736842]</td>\n",
       "      <td>[239, 238, 233]</td>\n",
       "      <td>white</td>\n",
       "      <td>(255, 165, 0)</td>\n",
       "      <td>(255, 255, 255)</td>\n",
       "      <td>(255, 255, 255)</td>\n",
       "    </tr>\n",
       "    <tr>\n",
       "      <th>244</th>\n",
       "      <td>0</td>\n",
       "      <td>0</td>\n",
       "      <td>1</td>\n",
       "      <td>img_245_quakercapncrunchregular.jpg</td>\n",
       "      <td>../img/cropped/img_245_quakercapncrunchregular...</td>\n",
       "      <td>[0.25, 0.917647058824, 0.047619047619]</td>\n",
       "      <td>[234, 235, 233]</td>\n",
       "      <td>white</td>\n",
       "      <td>[0.994444444444, 0.478431372549, 0.737704918033]</td>\n",
       "      <td>[212, 32, 38]</td>\n",
       "      <td>brown</td>\n",
       "      <td>[0.994444444444, 0.478431372549, 0.737704918033]</td>\n",
       "      <td>[212, 32, 38]</td>\n",
       "      <td>brown</td>\n",
       "      <td>(255, 255, 255)</td>\n",
       "      <td>(165, 42, 42)</td>\n",
       "      <td>(165, 42, 42)</td>\n",
       "    </tr>\n",
       "    <tr>\n",
       "      <th>245</th>\n",
       "      <td>0</td>\n",
       "      <td>0</td>\n",
       "      <td>1</td>\n",
       "      <td>img_246_quakercapncrunchchocolatecrunch.jpg</td>\n",
       "      <td>../img/cropped/img_246_quakercapncrunchchocola...</td>\n",
       "      <td>[0.0535714285714, 0.235294117647, 0.466666666667]</td>\n",
       "      <td>[88, 50, 32]</td>\n",
       "      <td>brown</td>\n",
       "      <td>[0.0535714285714, 0.235294117647, 0.466666666667]</td>\n",
       "      <td>[88, 50, 32]</td>\n",
       "      <td>brown</td>\n",
       "      <td>[0.0555555555556, 0.141176470588, 0.333333333333]</td>\n",
       "      <td>[48, 32, 24]</td>\n",
       "      <td>black</td>\n",
       "      <td>(165, 42, 42)</td>\n",
       "      <td>(165, 42, 42)</td>\n",
       "      <td>(0, 0, 0)</td>\n",
       "    </tr>\n",
       "    <tr>\n",
       "      <th>246</th>\n",
       "      <td>0</td>\n",
       "      <td>0</td>\n",
       "      <td>1</td>\n",
       "      <td>img_247_quakercapncrunchoopsallberries.jpg</td>\n",
       "      <td>../img/cropped/img_247_quakercapncrunchoopsall...</td>\n",
       "      <td>[0.888888888889, 0.101960784314, 0.115384615385]</td>\n",
       "      <td>[29, 23, 27]</td>\n",
       "      <td>black</td>\n",
       "      <td>[0.277777777778, 0.950980392157, 0.12]</td>\n",
       "      <td>[242, 244, 241]</td>\n",
       "      <td>white</td>\n",
       "      <td>[0.277777777778, 0.950980392157, 0.12]</td>\n",
       "      <td>[242, 244, 241]</td>\n",
       "      <td>white</td>\n",
       "      <td>(0, 0, 0)</td>\n",
       "      <td>(255, 255, 255)</td>\n",
       "      <td>(255, 255, 255)</td>\n",
       "    </tr>\n",
       "    <tr>\n",
       "      <th>247</th>\n",
       "      <td>0</td>\n",
       "      <td>0</td>\n",
       "      <td>1</td>\n",
       "      <td>img_248_quakerlifecinnamon.jpg</td>\n",
       "      <td>../img/cropped/img_248_quakerlifecinnamon_crop...</td>\n",
       "      <td>[0.132616487455, 0.801960784314, 0.920792079208]</td>\n",
       "      <td>[251, 232, 158]</td>\n",
       "      <td>white</td>\n",
       "      <td>[0.132616487455, 0.801960784314, 0.920792079208]</td>\n",
       "      <td>[251, 232, 158]</td>\n",
       "      <td>white</td>\n",
       "      <td>[0.132616487455, 0.801960784314, 0.920792079208]</td>\n",
       "      <td>[251, 232, 158]</td>\n",
       "      <td>white</td>\n",
       "      <td>(255, 255, 255)</td>\n",
       "      <td>(255, 255, 255)</td>\n",
       "      <td>(255, 255, 255)</td>\n",
       "    </tr>\n",
       "    <tr>\n",
       "      <th>248</th>\n",
       "      <td>0</td>\n",
       "      <td>0</td>\n",
       "      <td>1</td>\n",
       "      <td>img_249_quakerlifemaplebrownsugar.jpg</td>\n",
       "      <td>../img/cropped/img_249_quakerlifemaplebrownsug...</td>\n",
       "      <td>[0.0238095238095, 0.278431372549, 0.492957746479]</td>\n",
       "      <td>[106, 46, 36]</td>\n",
       "      <td>brown</td>\n",
       "      <td>[0.0238095238095, 0.278431372549, 0.492957746479]</td>\n",
       "      <td>[106, 46, 36]</td>\n",
       "      <td>brown</td>\n",
       "      <td>[0.0238095238095, 0.278431372549, 0.492957746479]</td>\n",
       "      <td>[106, 46, 36]</td>\n",
       "      <td>brown</td>\n",
       "      <td>(165, 42, 42)</td>\n",
       "      <td>(165, 42, 42)</td>\n",
       "      <td>(165, 42, 42)</td>\n",
       "    </tr>\n",
       "    <tr>\n",
       "      <th>249</th>\n",
       "      <td>0</td>\n",
       "      <td>0</td>\n",
       "      <td>1</td>\n",
       "      <td>img_250_quakerliferegular.jpg</td>\n",
       "      <td>../img/cropped/img_250_quakerliferegular_cropp...</td>\n",
       "      <td>[0.541666666667, 0.874509803922, 0.0625]</td>\n",
       "      <td>[221, 224, 225]</td>\n",
       "      <td>white</td>\n",
       "      <td>[0.541666666667, 0.874509803922, 0.0625]</td>\n",
       "      <td>[221, 224, 225]</td>\n",
       "      <td>white</td>\n",
       "      <td>[0.541666666667, 0.874509803922, 0.0625]</td>\n",
       "      <td>[221, 224, 225]</td>\n",
       "      <td>white</td>\n",
       "      <td>(255, 255, 255)</td>\n",
       "      <td>(255, 255, 255)</td>\n",
       "      <td>(255, 255, 255)</td>\n",
       "    </tr>\n",
       "    <tr>\n",
       "      <th>250</th>\n",
       "      <td>1</td>\n",
       "      <td>0</td>\n",
       "      <td>0</td>\n",
       "      <td>img_251_quakernaturalgranolalowfat.jpg</td>\n",
       "      <td>../img/cropped/img_251_quakernaturalgranolalow...</td>\n",
       "      <td>[0.0, 1.0, 0.0]</td>\n",
       "      <td>[255, 255, 255]</td>\n",
       "      <td>white</td>\n",
       "      <td>[0.166666666667, 0.91568627451, 0.209302325581]</td>\n",
       "      <td>[238, 238, 229]</td>\n",
       "      <td>white</td>\n",
       "      <td>[0.166666666667, 0.91568627451, 0.209302325581]</td>\n",
       "      <td>[238, 238, 229]</td>\n",
       "      <td>white</td>\n",
       "      <td>(255, 255, 255)</td>\n",
       "      <td>(255, 255, 255)</td>\n",
       "      <td>(255, 255, 255)</td>\n",
       "    </tr>\n",
       "    <tr>\n",
       "      <th>251</th>\n",
       "      <td>1</td>\n",
       "      <td>0</td>\n",
       "      <td>0</td>\n",
       "      <td>img_252_quakernaturalgranolaoatshoneyraisins.jpg</td>\n",
       "      <td>../img/cropped/img_252_quakernaturalgranolaoat...</td>\n",
       "      <td>[0.127450980392, 0.943137254902, 0.586206896552]</td>\n",
       "      <td>[249, 245, 232]</td>\n",
       "      <td>white</td>\n",
       "      <td>[0.977941176471, 0.250980392157, 0.53125]</td>\n",
       "      <td>[98, 30, 39]</td>\n",
       "      <td>brown</td>\n",
       "      <td>[0.977941176471, 0.250980392157, 0.53125]</td>\n",
       "      <td>[98, 30, 39]</td>\n",
       "      <td>brown</td>\n",
       "      <td>(255, 255, 255)</td>\n",
       "      <td>(165, 42, 42)</td>\n",
       "      <td>(165, 42, 42)</td>\n",
       "    </tr>\n",
       "    <tr>\n",
       "      <th>252</th>\n",
       "      <td>1</td>\n",
       "      <td>0</td>\n",
       "      <td>0</td>\n",
       "      <td>img_253_quakernaturalgranolaapplecranberryalmo...</td>\n",
       "      <td>../img/cropped/img_253_quakernaturalgranolaapp...</td>\n",
       "      <td>[0.0, 0.941176470588, 0.0]</td>\n",
       "      <td>[240, 240, 240]</td>\n",
       "      <td>white</td>\n",
       "      <td>[0.0, 0.941176470588, 0.0]</td>\n",
       "      <td>[240, 240, 240]</td>\n",
       "      <td>white</td>\n",
       "      <td>[0.0, 0.941176470588, 0.0]</td>\n",
       "      <td>[240, 240, 240]</td>\n",
       "      <td>white</td>\n",
       "      <td>(255, 255, 255)</td>\n",
       "      <td>(255, 255, 255)</td>\n",
       "      <td>(255, 255, 255)</td>\n",
       "    </tr>\n",
       "    <tr>\n",
       "      <th>253</th>\n",
       "      <td>1</td>\n",
       "      <td>0</td>\n",
       "      <td>0</td>\n",
       "      <td>img_254_quakernaturalgranolaoatshoneyalmonds.jpg</td>\n",
       "      <td>../img/cropped/img_254_quakernaturalgranolaoat...</td>\n",
       "      <td>[0.780701754386, 0.166666666667, 0.223529411765]</td>\n",
       "      <td>[46, 33, 52]</td>\n",
       "      <td>black</td>\n",
       "      <td>[0.772222222222, 0.270588235294, 0.217391304348]</td>\n",
       "      <td>[73, 54, 84]</td>\n",
       "      <td>brown</td>\n",
       "      <td>[0.772222222222, 0.270588235294, 0.217391304348]</td>\n",
       "      <td>[73, 54, 84]</td>\n",
       "      <td>brown</td>\n",
       "      <td>(0, 0, 0)</td>\n",
       "      <td>(165, 42, 42)</td>\n",
       "      <td>(165, 42, 42)</td>\n",
       "    </tr>\n",
       "    <tr>\n",
       "      <th>254</th>\n",
       "      <td>1</td>\n",
       "      <td>0</td>\n",
       "      <td>0</td>\n",
       "      <td>img_255_quakeroatbrancoldcereal.jpg</td>\n",
       "      <td>../img/cropped/img_255_quakeroatbrancoldcereal...</td>\n",
       "      <td>[0.0, 1.0, 0.0]</td>\n",
       "      <td>[255, 255, 255]</td>\n",
       "      <td>white</td>\n",
       "      <td>[0.0145413870246, 0.378431372549, 0.772020725389]</td>\n",
       "      <td>[171, 35, 22]</td>\n",
       "      <td>brown</td>\n",
       "      <td>[0.0145413870246, 0.378431372549, 0.772020725389]</td>\n",
       "      <td>[171, 35, 22]</td>\n",
       "      <td>brown</td>\n",
       "      <td>(255, 255, 255)</td>\n",
       "      <td>(165, 42, 42)</td>\n",
       "      <td>(165, 42, 42)</td>\n",
       "    </tr>\n",
       "    <tr>\n",
       "      <th>255</th>\n",
       "      <td>1</td>\n",
       "      <td>0</td>\n",
       "      <td>0</td>\n",
       "      <td>img_256_quakeroatmealsquaresbrownsugar.jpg</td>\n",
       "      <td>../img/cropped/img_256_quakeroatmealsquaresbro...</td>\n",
       "      <td>[0.55023923445, 0.437254901961, 0.937219730942]</td>\n",
       "      <td>[7, 153, 216]</td>\n",
       "      <td>grey</td>\n",
       "      <td>[0.55023923445, 0.437254901961, 0.937219730942]</td>\n",
       "      <td>[7, 153, 216]</td>\n",
       "      <td>grey</td>\n",
       "      <td>[0.55023923445, 0.437254901961, 0.937219730942]</td>\n",
       "      <td>[7, 153, 216]</td>\n",
       "      <td>grey</td>\n",
       "      <td>(128, 128, 128)</td>\n",
       "      <td>(128, 128, 128)</td>\n",
       "      <td>(128, 128, 128)</td>\n",
       "    </tr>\n",
       "    <tr>\n",
       "      <th>256</th>\n",
       "      <td>1</td>\n",
       "      <td>0</td>\n",
       "      <td>0</td>\n",
       "      <td>img_257_quakeroatmealsquarescinnamon.jpg</td>\n",
       "      <td>../img/cropped/img_257_quakeroatmealsquarescin...</td>\n",
       "      <td>[0.0772626931567, 0.621568627451, 0.782383419689]</td>\n",
       "      <td>[234, 153, 83]</td>\n",
       "      <td>orange</td>\n",
       "      <td>[0.0731481481481, 0.564705882353, 0.810810810811]</td>\n",
       "      <td>[234, 133, 54]</td>\n",
       "      <td>orange</td>\n",
       "      <td>[0.0731481481481, 0.564705882353, 0.810810810811]</td>\n",
       "      <td>[234, 133, 54]</td>\n",
       "      <td>orange</td>\n",
       "      <td>(255, 165, 0)</td>\n",
       "      <td>(255, 165, 0)</td>\n",
       "      <td>(255, 165, 0)</td>\n",
       "    </tr>\n",
       "    <tr>\n",
       "      <th>257</th>\n",
       "      <td>1</td>\n",
       "      <td>0</td>\n",
       "      <td>0</td>\n",
       "      <td>img_258_quakeroatmealsquaresgoldenmaple.jpg</td>\n",
       "      <td>../img/cropped/img_258_quakeroatmealsquaresgol...</td>\n",
       "      <td>[0.0810185185185, 0.41568627451, 0.679245283019]</td>\n",
       "      <td>[178, 104, 34]</td>\n",
       "      <td>brown</td>\n",
       "      <td>[0.0810185185185, 0.41568627451, 0.679245283019]</td>\n",
       "      <td>[178, 104, 34]</td>\n",
       "      <td>brown</td>\n",
       "      <td>[0.0810185185185, 0.41568627451, 0.679245283019]</td>\n",
       "      <td>[178, 104, 34]</td>\n",
       "      <td>brown</td>\n",
       "      <td>(165, 42, 42)</td>\n",
       "      <td>(165, 42, 42)</td>\n",
       "      <td>(165, 42, 42)</td>\n",
       "    </tr>\n",
       "    <tr>\n",
       "      <th>258</th>\n",
       "      <td>0</td>\n",
       "      <td>0</td>\n",
       "      <td>1</td>\n",
       "      <td>img_259_quakerlifecrunchtimestrawberry.jpg</td>\n",
       "      <td>../img/cropped/img_259_quakerlifecrunchtimestr...</td>\n",
       "      <td>[0.166666666667, 0.898039215686, 0.0384615384615]</td>\n",
       "      <td>[230, 230, 228]</td>\n",
       "      <td>white</td>\n",
       "      <td>[0.166666666667, 0.898039215686, 0.0384615384615]</td>\n",
       "      <td>[230, 230, 228]</td>\n",
       "      <td>white</td>\n",
       "      <td>[0.166666666667, 0.898039215686, 0.0384615384615]</td>\n",
       "      <td>[230, 230, 228]</td>\n",
       "      <td>white</td>\n",
       "      <td>(255, 255, 255)</td>\n",
       "      <td>(255, 255, 255)</td>\n",
       "      <td>(255, 255, 255)</td>\n",
       "    </tr>\n",
       "    <tr>\n",
       "      <th>259</th>\n",
       "      <td>0</td>\n",
       "      <td>0</td>\n",
       "      <td>1</td>\n",
       "      <td>img_260_quakerlifecrunchtimeapplecinnamon.jpg</td>\n",
       "      <td>../img/cropped/img_260_quakerlifecrunchtimeapp...</td>\n",
       "      <td>[0.0, 0.578431372549, 0.0232558139535]</td>\n",
       "      <td>[150, 145, 145]</td>\n",
       "      <td>grey</td>\n",
       "      <td>[0.149122807018, 0.264705882353, 0.422222222222]</td>\n",
       "      <td>[96, 90, 39]</td>\n",
       "      <td>brown</td>\n",
       "      <td>[0.149122807018, 0.264705882353, 0.422222222222]</td>\n",
       "      <td>[96, 90, 39]</td>\n",
       "      <td>brown</td>\n",
       "      <td>(128, 128, 128)</td>\n",
       "      <td>(165, 42, 42)</td>\n",
       "      <td>(165, 42, 42)</td>\n",
       "    </tr>\n",
       "  </tbody>\n",
       "</table>\n",
       "<p>259 rows × 17 columns</p>\n",
       "</div>"
      ],
      "text/plain": [
       "     Adult  Child  Family                                          file_name  \\\n",
       "0        0      0       1                    img_001_anniesfruitybunnies.jpg   \n",
       "1        0      0       1                     img_002_annieshoneybunnies.jpg   \n",
       "2        0      0       1              img_003_anniescinnamonrollbunnyos.jpg   \n",
       "3        0      0       1                   img_004_anniesorganicbunnyos.jpg   \n",
       "4        0      0       1  img_005_barbarasbakerypuffinspuffscrunchycocoa...   \n",
       "5        0      0       1  img_006_barbarasbakerypuffinspuffsfruitmedley.jpg   \n",
       "6        0      0       1          img_007_barbarasbakerypuffinscinnamon.jpg   \n",
       "7        0      0       1         img_008_barbarasbakerypuffinshoneyrice.jpg   \n",
       "8        0      0       1      img_009_barbarasbakerypuffinspeanutbutter.jpg   \n",
       "9        0      0       1          img_010_barbarasbakerypuffinsoriginal.jpg   \n",
       "10       0      0       1  img_011_barbarasbakerypuffinspeanutbutterchoco...   \n",
       "11       0      0       1        img_012_barbarasbakerypuffinsmultigrain.jpg   \n",
       "12       0      0       1  img_013_barbarasbakeryshreddedoatscinnamoncrun...   \n",
       "13       1      0       0  img_014_barbarasbakeryshreddedoatsvanillaalmon...   \n",
       "14       1      0       0     img_015_barbarasbakeryshreddedoatsoriginal.jpg   \n",
       "15       1      0       0  img_016_barbarasbakeryshreddedspoonfulsmultigr...   \n",
       "16       1      0       0            img_017_barbarasbakeryshreddedwheat.jpg   \n",
       "17       1      0       0  img_018_barbarasbakeryshreddedminisblueberrybu...   \n",
       "18       1      0       0   img_019_barbarasbakeryultimaorganiccranberry.jpg   \n",
       "19       1      0       0  img_020_barbarasbakeryultimaorganicflaxgranola...   \n",
       "20       1      0       0  img_021_barbarasbakeryultimaorganichighfiberor...   \n",
       "21       1      0       0        img_022_barbarasbakeryholenoatshoneynut.jpg   \n",
       "22       1      0       0  img_023_barbarasbakeryholenoatsfruitjuicesweet...   \n",
       "23       1      0       0               img_024_barbarasbakerycornflakes.jpg   \n",
       "24       1      0       0          img_025_barbarasbakerybrownricecrisps.jpg   \n",
       "25       0      0       1                       img_026_cfcinnamoncrunch.jpg   \n",
       "26       0      1       0                       img_027_cfcliffordcrunch.jpg   \n",
       "27       1      0       0                img_028_cfgranolacinnamonraisin.jpg   \n",
       "28       1      0       0                      img_029_cfgranolafruitnut.jpg   \n",
       "29       1      0       0               img_030_cfgranolamaplebrownsugar.jpg   \n",
       "..     ...    ...     ...                                                ...   \n",
       "230      1      0       0                img_231_peacegoldenhoneygranola.jpg   \n",
       "231      1      0       0                      img_232_peacemangopassion.jpg   \n",
       "232      1      0       0                        img_233_peacemaplepecan.jpg   \n",
       "233      1      0       0                    img_234_peacerasberryginger.jpg   \n",
       "234      1      0       0                     img_235_peacevanillaalmond.jpg   \n",
       "235      1      0       0                    img_236_peacewildberrycrisp.jpg   \n",
       "236      1      0       0                      img_237_peacecherryalmond.jpg   \n",
       "237      1      0       0                  img_238_peaceheartyraisinbran.jpg   \n",
       "238      1      0       0                         img_239_peacegojiberry.jpg   \n",
       "239      1      0       0              img_240_peaceblueberrypomegranate.jpg   \n",
       "240      1      0       0                     img_241_peaceapplecinnamon.jpg   \n",
       "241      1      0       0                       img_242_peacewalnutspice.jpg   \n",
       "242      0      0       1     img_243_quakercapncrunchpeanutbuttercrunch.jpg   \n",
       "243      0      0       1      img_244_quakercapncrunchwithcrunchberries.jpg   \n",
       "244      0      0       1                img_245_quakercapncrunchregular.jpg   \n",
       "245      0      0       1        img_246_quakercapncrunchchocolatecrunch.jpg   \n",
       "246      0      0       1         img_247_quakercapncrunchoopsallberries.jpg   \n",
       "247      0      0       1                     img_248_quakerlifecinnamon.jpg   \n",
       "248      0      0       1              img_249_quakerlifemaplebrownsugar.jpg   \n",
       "249      0      0       1                      img_250_quakerliferegular.jpg   \n",
       "250      1      0       0             img_251_quakernaturalgranolalowfat.jpg   \n",
       "251      1      0       0   img_252_quakernaturalgranolaoatshoneyraisins.jpg   \n",
       "252      1      0       0  img_253_quakernaturalgranolaapplecranberryalmo...   \n",
       "253      1      0       0   img_254_quakernaturalgranolaoatshoneyalmonds.jpg   \n",
       "254      1      0       0                img_255_quakeroatbrancoldcereal.jpg   \n",
       "255      1      0       0         img_256_quakeroatmealsquaresbrownsugar.jpg   \n",
       "256      1      0       0           img_257_quakeroatmealsquarescinnamon.jpg   \n",
       "257      1      0       0        img_258_quakeroatmealsquaresgoldenmaple.jpg   \n",
       "258      0      0       1         img_259_quakerlifecrunchtimestrawberry.jpg   \n",
       "259      0      0       1      img_260_quakerlifecrunchtimeapplecinnamon.jpg   \n",
       "\n",
       "                                          cropped_path  \\\n",
       "0    ../img/cropped/img_001_anniesfruitybunnies_cro...   \n",
       "1    ../img/cropped/img_002_annieshoneybunnies_crop...   \n",
       "2    ../img/cropped/img_003_anniescinnamonrollbunny...   \n",
       "3    ../img/cropped/img_004_anniesorganicbunnyos_cr...   \n",
       "4    ../img/cropped/img_005_barbarasbakerypuffinspu...   \n",
       "5    ../img/cropped/img_006_barbarasbakerypuffinspu...   \n",
       "6    ../img/cropped/img_007_barbarasbakerypuffinsci...   \n",
       "7    ../img/cropped/img_008_barbarasbakerypuffinsho...   \n",
       "8    ../img/cropped/img_009_barbarasbakerypuffinspe...   \n",
       "9    ../img/cropped/img_010_barbarasbakerypuffinsor...   \n",
       "10   ../img/cropped/img_011_barbarasbakerypuffinspe...   \n",
       "11   ../img/cropped/img_012_barbarasbakerypuffinsmu...   \n",
       "12   ../img/cropped/img_013_barbarasbakeryshreddedo...   \n",
       "13   ../img/cropped/img_014_barbarasbakeryshreddedo...   \n",
       "14   ../img/cropped/img_015_barbarasbakeryshreddedo...   \n",
       "15   ../img/cropped/img_016_barbarasbakeryshreddeds...   \n",
       "16   ../img/cropped/img_017_barbarasbakeryshreddedw...   \n",
       "17   ../img/cropped/img_018_barbarasbakeryshreddedm...   \n",
       "18   ../img/cropped/img_019_barbarasbakeryultimaorg...   \n",
       "19   ../img/cropped/img_020_barbarasbakeryultimaorg...   \n",
       "20   ../img/cropped/img_021_barbarasbakeryultimaorg...   \n",
       "21   ../img/cropped/img_022_barbarasbakeryholenoats...   \n",
       "22   ../img/cropped/img_023_barbarasbakeryholenoats...   \n",
       "23   ../img/cropped/img_024_barbarasbakerycornflake...   \n",
       "24   ../img/cropped/img_025_barbarasbakerybrownrice...   \n",
       "25   ../img/cropped/img_026_cfcinnamoncrunch_croppe...   \n",
       "26   ../img/cropped/img_027_cfcliffordcrunch_croppe...   \n",
       "27   ../img/cropped/img_028_cfgranolacinnamonraisin...   \n",
       "28   ../img/cropped/img_029_cfgranolafruitnut_cropp...   \n",
       "29   ../img/cropped/img_030_cfgranolamaplebrownsuga...   \n",
       "..                                                 ...   \n",
       "230  ../img/cropped/img_231_peacegoldenhoneygranola...   \n",
       "231  ../img/cropped/img_232_peacemangopassion_cropp...   \n",
       "232  ../img/cropped/img_233_peacemaplepecan_cropped...   \n",
       "233  ../img/cropped/img_234_peacerasberryginger_cro...   \n",
       "234  ../img/cropped/img_235_peacevanillaalmond_crop...   \n",
       "235  ../img/cropped/img_236_peacewildberrycrisp_cro...   \n",
       "236  ../img/cropped/img_237_peacecherryalmond_cropp...   \n",
       "237  ../img/cropped/img_238_peaceheartyraisinbran_c...   \n",
       "238  ../img/cropped/img_239_peacegojiberry_cropped.png   \n",
       "239  ../img/cropped/img_240_peaceblueberrypomegrana...   \n",
       "240  ../img/cropped/img_241_peaceapplecinnamon_crop...   \n",
       "241  ../img/cropped/img_242_peacewalnutspice_croppe...   \n",
       "242  ../img/cropped/img_243_quakercapncrunchpeanutb...   \n",
       "243  ../img/cropped/img_244_quakercapncrunchwithcru...   \n",
       "244  ../img/cropped/img_245_quakercapncrunchregular...   \n",
       "245  ../img/cropped/img_246_quakercapncrunchchocola...   \n",
       "246  ../img/cropped/img_247_quakercapncrunchoopsall...   \n",
       "247  ../img/cropped/img_248_quakerlifecinnamon_crop...   \n",
       "248  ../img/cropped/img_249_quakerlifemaplebrownsug...   \n",
       "249  ../img/cropped/img_250_quakerliferegular_cropp...   \n",
       "250  ../img/cropped/img_251_quakernaturalgranolalow...   \n",
       "251  ../img/cropped/img_252_quakernaturalgranolaoat...   \n",
       "252  ../img/cropped/img_253_quakernaturalgranolaapp...   \n",
       "253  ../img/cropped/img_254_quakernaturalgranolaoat...   \n",
       "254  ../img/cropped/img_255_quakeroatbrancoldcereal...   \n",
       "255  ../img/cropped/img_256_quakeroatmealsquaresbro...   \n",
       "256  ../img/cropped/img_257_quakeroatmealsquarescin...   \n",
       "257  ../img/cropped/img_258_quakeroatmealsquaresgol...   \n",
       "258  ../img/cropped/img_259_quakerlifecrunchtimestr...   \n",
       "259  ../img/cropped/img_260_quakerlifecrunchtimeapp...   \n",
       "\n",
       "                                            color_hls1       color_rgb1  \\\n",
       "0                                      [0.0, 1.0, 0.0]  [255, 255, 255]   \n",
       "1    [0.0451388888889, 0.501960784314, 0.755905511811]    [224, 84, 32]   \n",
       "2     [0.052380952381, 0.427450980392, 0.642201834862]    [179, 83, 39]   \n",
       "3     [0.769662921348, 0.264705882353, 0.659259259259]    [78, 23, 112]   \n",
       "4                [0.103333333333, 0.607843137255, 0.5]  [205, 167, 105]   \n",
       "5      [0.10632183908, 0.776470588235, 0.508771929825]  [227, 206, 169]   \n",
       "6    [0.0913978494624, 0.674509803922, 0.373493975904]  [203, 175, 141]   \n",
       "7    [0.0913978494624, 0.678431372549, 0.378048780488]  [204, 176, 142]   \n",
       "8    [0.0888888888889, 0.674509803922, 0.361445783133]  [202, 174, 142]   \n",
       "9    [0.0890804597701, 0.678431372549, 0.353658536585]  [202, 175, 144]   \n",
       "10   [0.0875706214689, 0.680392156863, 0.361963190184]  [203, 175, 144]   \n",
       "11    [0.090395480226, 0.676470588235, 0.357575757576]  [202, 175, 143]   \n",
       "12   [0.0901639344262, 0.676470588235, 0.369696969697]  [203, 175, 142]   \n",
       "13   [0.0932203389831, 0.676470588235, 0.357575757576]  [202, 176, 143]   \n",
       "14    [0.090395480226, 0.676470588235, 0.357575757576]  [202, 175, 143]   \n",
       "15               [0.1, 0.443137254902, 0.221238938053]   [138, 118, 88]   \n",
       "16   [0.0769230769231, 0.698039215686, 0.337662337662]  [204, 176, 152]   \n",
       "17   [0.0916666666667, 0.678431372549, 0.365853658537]  [203, 176, 143]   \n",
       "18                                     [0.0, 1.0, 0.0]  [255, 255, 255]   \n",
       "19                                     [0.0, 1.0, 0.0]  [255, 255, 255]   \n",
       "20                                     [0.0, 1.0, 0.0]  [255, 255, 255]   \n",
       "21    [0.114457831325, 0.550980392157, 0.362445414847]   [182, 156, 99]   \n",
       "22                                     [0.0, 1.0, 0.0]  [255, 255, 255]   \n",
       "23                                     [0.0, 1.0, 0.0]  [255, 255, 255]   \n",
       "24                                     [0.0, 1.0, 0.0]  [255, 255, 255]   \n",
       "25                                     [0.0, 1.0, 0.0]  [255, 255, 255]   \n",
       "26                                     [0.0, 1.0, 0.0]  [255, 255, 255]   \n",
       "27                                     [0.0, 1.0, 0.0]  [255, 255, 255]   \n",
       "28                                     [0.0, 1.0, 0.0]  [255, 255, 255]   \n",
       "29   [0.458333333333, 0.854901960784, 0.0540540540541]  [216, 220, 219]   \n",
       "..                                                 ...              ...   \n",
       "230                                    [0.0, 1.0, 0.0]  [255, 255, 255]   \n",
       "231                                    [0.0, 1.0, 0.0]  [255, 255, 255]   \n",
       "232                                    [0.0, 1.0, 0.0]  [255, 255, 255]   \n",
       "233                                    [0.0, 1.0, 0.0]  [255, 255, 255]   \n",
       "234                                    [0.0, 1.0, 0.0]  [255, 255, 255]   \n",
       "235   [0.530303030303, 0.927450980392, 0.297297297297]  [231, 240, 242]   \n",
       "236                                    [0.0, 1.0, 0.0]  [255, 255, 255]   \n",
       "237                                    [0.0, 1.0, 0.0]  [255, 255, 255]   \n",
       "238                                    [0.0, 1.0, 0.0]  [255, 255, 255]   \n",
       "239   [0.555555555556, 0.939215686275, 0.483870967742]  [232, 242, 247]   \n",
       "240                     [0.53125, 0.937254901961, 0.5]  [231, 244, 247]   \n",
       "241                [0.52380952381, 0.93137254902, 0.2]  [234, 240, 241]   \n",
       "242  [0.0916666666667, 0.345098039216, 0.795454545455]    [158, 95, 18]   \n",
       "243   [0.130044843049, 0.535294117647, 0.940928270042]   [248, 199, 25]   \n",
       "244             [0.25, 0.917647058824, 0.047619047619]  [234, 235, 233]   \n",
       "245  [0.0535714285714, 0.235294117647, 0.466666666667]     [88, 50, 32]   \n",
       "246   [0.888888888889, 0.101960784314, 0.115384615385]     [29, 23, 27]   \n",
       "247   [0.132616487455, 0.801960784314, 0.920792079208]  [251, 232, 158]   \n",
       "248  [0.0238095238095, 0.278431372549, 0.492957746479]    [106, 46, 36]   \n",
       "249           [0.541666666667, 0.874509803922, 0.0625]  [221, 224, 225]   \n",
       "250                                    [0.0, 1.0, 0.0]  [255, 255, 255]   \n",
       "251   [0.127450980392, 0.943137254902, 0.586206896552]  [249, 245, 232]   \n",
       "252                         [0.0, 0.941176470588, 0.0]  [240, 240, 240]   \n",
       "253   [0.780701754386, 0.166666666667, 0.223529411765]     [46, 33, 52]   \n",
       "254                                    [0.0, 1.0, 0.0]  [255, 255, 255]   \n",
       "255    [0.55023923445, 0.437254901961, 0.937219730942]    [7, 153, 216]   \n",
       "256  [0.0772626931567, 0.621568627451, 0.782383419689]   [234, 153, 83]   \n",
       "257   [0.0810185185185, 0.41568627451, 0.679245283019]   [178, 104, 34]   \n",
       "258  [0.166666666667, 0.898039215686, 0.0384615384615]  [230, 230, 228]   \n",
       "259             [0.0, 0.578431372549, 0.0232558139535]  [150, 145, 145]   \n",
       "\n",
       "    color_rgb_name1                                         color_hls2  \\\n",
       "0             white   [0.997787610619, 0.494117647059, 0.896825396825]   \n",
       "1             brown   [0.113843351548, 0.503921568627, 0.723320158103]   \n",
       "2             brown   [0.052380952381, 0.427450980392, 0.642201834862]   \n",
       "3             brown   [0.766355140187, 0.303921568627, 0.690322580645]   \n",
       "4              grey              [0.103333333333, 0.607843137255, 0.5]   \n",
       "5             white    [0.10632183908, 0.776470588235, 0.508771929825]   \n",
       "6              grey          [0.0928571428571, 0.560784313725, 0.3125]   \n",
       "7              grey  [0.0913978494624, 0.678431372549, 0.378048780488]   \n",
       "8              grey  [0.0888888888889, 0.674509803922, 0.361445783133]   \n",
       "9              grey  [0.0890804597701, 0.678431372549, 0.353658536585]   \n",
       "10             grey  [0.0904761904762, 0.564705882353, 0.315315315315]   \n",
       "11             grey          [0.0928571428571, 0.560784313725, 0.3125]   \n",
       "12             grey  [0.0925925925926, 0.556862745098, 0.318584070796]   \n",
       "13             grey  [0.0925925925926, 0.556862745098, 0.318584070796]   \n",
       "14             grey  [0.0915492957746, 0.558823529412, 0.315555555556]   \n",
       "15             grey              [0.1, 0.443137254902, 0.221238938053]   \n",
       "16             grey  [0.0769230769231, 0.698039215686, 0.337662337662]   \n",
       "17             grey  [0.0917874396135, 0.558823529412, 0.306666666667]   \n",
       "18            white  [0.0875706214689, 0.680392156863, 0.361963190184]   \n",
       "19            white  [0.0919540229885, 0.678431372549, 0.353658536585]   \n",
       "20            white  [0.0890804597701, 0.678431372549, 0.353658536585]   \n",
       "21             grey   [0.114457831325, 0.550980392157, 0.362445414847]   \n",
       "22            white  [0.0913978494624, 0.674509803922, 0.373493975904]   \n",
       "23            white  [0.0919540229885, 0.674509803922, 0.349397590361]   \n",
       "24            white   [0.090395480226, 0.676470588235, 0.357575757576]   \n",
       "25            white            [0.125, 0.945098039216, 0.142857142857]   \n",
       "26            white   [0.166666666667, 0.952941176471, 0.166666666667]   \n",
       "27            white   [0.166666666667, 0.949019607843, 0.153846153846]   \n",
       "28            white             [0.142857142857, 0.950980392157, 0.28]   \n",
       "29            white  [0.458333333333, 0.854901960784, 0.0540540540541]   \n",
       "..              ...                                                ...   \n",
       "230           white           [0.5625, 0.850980392157, 0.105263157895]   \n",
       "231           white  [0.571428571429, 0.852941176471, 0.0933333333333]   \n",
       "232           white   [0.541666666667, 0.941176470588, 0.533333333333]   \n",
       "233           white   [0.530303030303, 0.935294117647, 0.333333333333]   \n",
       "234           white   [0.538461538462, 0.927450980392, 0.351351351351]   \n",
       "235           white   [0.530303030303, 0.927450980392, 0.297297297297]   \n",
       "236           white   [0.552083333333, 0.941176470588, 0.533333333333]   \n",
       "237           white   [0.552083333333, 0.945098039216, 0.571428571429]   \n",
       "238           white   [0.552083333333, 0.945098039216, 0.571428571429]   \n",
       "239           white   [0.555555555556, 0.621568627451, 0.108808290155]   \n",
       "240           white                     [0.53125, 0.937254901961, 0.5]   \n",
       "241           white                [0.52380952381, 0.93137254902, 0.2]   \n",
       "242           brown  [0.0916666666667, 0.345098039216, 0.795454545455]   \n",
       "243          orange   [0.138888888889, 0.925490196078, 0.157894736842]   \n",
       "244           white   [0.994444444444, 0.478431372549, 0.737704918033]   \n",
       "245           brown  [0.0535714285714, 0.235294117647, 0.466666666667]   \n",
       "246           black             [0.277777777778, 0.950980392157, 0.12]   \n",
       "247           white   [0.132616487455, 0.801960784314, 0.920792079208]   \n",
       "248           brown  [0.0238095238095, 0.278431372549, 0.492957746479]   \n",
       "249           white           [0.541666666667, 0.874509803922, 0.0625]   \n",
       "250           white    [0.166666666667, 0.91568627451, 0.209302325581]   \n",
       "251           white          [0.977941176471, 0.250980392157, 0.53125]   \n",
       "252           white                         [0.0, 0.941176470588, 0.0]   \n",
       "253           black   [0.772222222222, 0.270588235294, 0.217391304348]   \n",
       "254           white  [0.0145413870246, 0.378431372549, 0.772020725389]   \n",
       "255            grey    [0.55023923445, 0.437254901961, 0.937219730942]   \n",
       "256          orange  [0.0731481481481, 0.564705882353, 0.810810810811]   \n",
       "257           brown   [0.0810185185185, 0.41568627451, 0.679245283019]   \n",
       "258           white  [0.166666666667, 0.898039215686, 0.0384615384615]   \n",
       "259            grey   [0.149122807018, 0.264705882353, 0.422222222222]   \n",
       "\n",
       "          color_rgb2 color_rgb_name2  \\\n",
       "0      [239, 13, 16]             red   \n",
       "1     [220, 162, 37]          orange   \n",
       "2      [179, 83, 39]           brown   \n",
       "3      [88, 24, 131]            grey   \n",
       "4    [205, 167, 105]            grey   \n",
       "5    [227, 206, 169]           white   \n",
       "6    [178, 147, 108]            grey   \n",
       "7    [204, 176, 142]            grey   \n",
       "8    [202, 174, 142]            grey   \n",
       "9    [202, 175, 144]            grey   \n",
       "10   [179, 147, 109]            grey   \n",
       "11   [178, 147, 108]            grey   \n",
       "12   [178, 146, 106]            grey   \n",
       "13   [178, 146, 106]            grey   \n",
       "14   [178, 146, 107]            grey   \n",
       "15    [138, 118, 88]            grey   \n",
       "16   [204, 176, 152]            grey   \n",
       "17   [177, 146, 108]            grey   \n",
       "18   [203, 175, 144]            grey   \n",
       "19   [202, 176, 144]            grey   \n",
       "20   [202, 175, 144]            grey   \n",
       "21    [182, 156, 99]            grey   \n",
       "22   [203, 175, 141]            grey   \n",
       "23   [201, 175, 143]            grey   \n",
       "24   [202, 175, 143]            grey   \n",
       "25   [243, 242, 239]           white   \n",
       "26   [245, 245, 241]           white   \n",
       "27   [244, 244, 240]           white   \n",
       "28   [246, 245, 239]           white   \n",
       "29   [216, 220, 219]           white   \n",
       "..               ...             ...   \n",
       "230  [213, 218, 221]           white   \n",
       "231  [214, 218, 221]           white   \n",
       "232  [232, 244, 248]           white   \n",
       "233  [233, 242, 244]           white   \n",
       "234  [230, 240, 243]           white   \n",
       "235  [231, 240, 242]           white   \n",
       "236  [232, 243, 248]           white   \n",
       "237  [233, 244, 249]           white   \n",
       "238  [233, 244, 249]           white   \n",
       "239  [148, 162, 169]            grey   \n",
       "240  [231, 244, 247]           white   \n",
       "241  [234, 240, 241]           white   \n",
       "242    [158, 95, 18]           brown   \n",
       "243  [239, 238, 233]           white   \n",
       "244    [212, 32, 38]           brown   \n",
       "245     [88, 50, 32]           brown   \n",
       "246  [242, 244, 241]           white   \n",
       "247  [251, 232, 158]           white   \n",
       "248    [106, 46, 36]           brown   \n",
       "249  [221, 224, 225]           white   \n",
       "250  [238, 238, 229]           white   \n",
       "251     [98, 30, 39]           brown   \n",
       "252  [240, 240, 240]           white   \n",
       "253     [73, 54, 84]           brown   \n",
       "254    [171, 35, 22]           brown   \n",
       "255    [7, 153, 216]            grey   \n",
       "256   [234, 133, 54]          orange   \n",
       "257   [178, 104, 34]           brown   \n",
       "258  [230, 230, 228]           white   \n",
       "259     [96, 90, 39]           brown   \n",
       "\n",
       "                                            color_hls3       color_rgb3  \\\n",
       "0    [0.00563063063063, 0.317647058824, 0.913580246...     [155, 12, 7]   \n",
       "1     [0.068870523416, 0.401960784314, 0.590243902439]    [163, 92, 42]   \n",
       "2               [0.111111111111, 0.952941176471, 0.25]  [246, 244, 240]   \n",
       "3     [0.766355140187, 0.303921568627, 0.690322580645]    [88, 24, 131]   \n",
       "4      [0.105882352941, 0.53137254902, 0.355648535565]   [178, 147, 93]   \n",
       "5            [0.0959595959596, 0.686274509804, 0.4125]  [208, 180, 142]   \n",
       "6     [0.0915032679739, 0.61568627451, 0.520408163265]  [208, 162, 106]   \n",
       "7    [0.0913978494624, 0.678431372549, 0.378048780488]  [204, 176, 142]   \n",
       "8    [0.0888888888889, 0.674509803922, 0.361445783133]  [202, 174, 142]   \n",
       "9            [0.0928571428571, 0.560784313725, 0.3125]  [178, 147, 108]   \n",
       "10   [0.0904761904762, 0.564705882353, 0.315315315315]  [179, 147, 109]   \n",
       "11   [0.0964912280702, 0.613725490196, 0.482233502538]  [204, 164, 109]   \n",
       "12   [0.0925925925926, 0.556862745098, 0.318584070796]  [178, 146, 106]   \n",
       "13   [0.0925925925926, 0.556862745098, 0.318584070796]  [178, 146, 106]   \n",
       "14   [0.0915492957746, 0.558823529412, 0.315555555556]  [178, 146, 107]   \n",
       "15               [0.1, 0.443137254902, 0.221238938053]   [138, 118, 88]   \n",
       "16   [0.0769230769231, 0.698039215686, 0.337662337662]  [204, 176, 152]   \n",
       "17   [0.0917874396135, 0.558823529412, 0.306666666667]  [177, 146, 108]   \n",
       "18   [0.0915492957746, 0.558823529412, 0.315555555556]  [178, 146, 107]   \n",
       "19   [0.0915492957746, 0.558823529412, 0.315555555556]  [178, 146, 107]   \n",
       "20           [0.0928571428571, 0.560784313725, 0.3125]  [178, 147, 108]   \n",
       "21    [0.114457831325, 0.550980392157, 0.362445414847]   [182, 156, 99]   \n",
       "22   [0.0913978494624, 0.674509803922, 0.373493975904]  [203, 175, 141]   \n",
       "23    [0.093137254902, 0.564705882353, 0.306306306306]  [178, 148, 110]   \n",
       "24   [0.0925925925926, 0.560784313725, 0.321428571429]  [179, 147, 107]   \n",
       "25   [0.0892857142857, 0.623529411765, 0.729166666667]   [229, 164, 89]   \n",
       "26    [0.0103578154426, 0.51568627451, 0.716599190283]    [220, 54, 43]   \n",
       "27    [0.132897603486, 0.645098039216, 0.845303867403]   [241, 210, 88]   \n",
       "28     [0.135555555556, 0.51568627451, 0.303643724696]   [169, 155, 94]   \n",
       "29   [0.458333333333, 0.854901960784, 0.0540540540541]  [216, 220, 219]   \n",
       "..                                                 ...              ...   \n",
       "230           [0.5625, 0.850980392157, 0.105263157895]  [213, 218, 221]   \n",
       "231  [0.571428571429, 0.852941176471, 0.0933333333333]  [214, 218, 221]   \n",
       "232   [0.541666666667, 0.941176470588, 0.533333333333]  [232, 244, 248]   \n",
       "233   [0.530303030303, 0.935294117647, 0.333333333333]  [233, 242, 244]   \n",
       "234   [0.538461538462, 0.927450980392, 0.351351351351]  [230, 240, 243]   \n",
       "235   [0.530303030303, 0.927450980392, 0.297297297297]  [231, 240, 242]   \n",
       "236    [0.55303030303, 0.623529411765, 0.114583333333]  [148, 163, 170]   \n",
       "237   [0.552083333333, 0.945098039216, 0.571428571429]  [233, 244, 249]   \n",
       "238   [0.555555555556, 0.621568627451, 0.108808290155]  [148, 162, 169]   \n",
       "239   [0.555555555556, 0.621568627451, 0.108808290155]  [148, 162, 169]   \n",
       "240                     [0.53125, 0.937254901961, 0.5]  [231, 244, 247]   \n",
       "241                [0.52380952381, 0.93137254902, 0.2]  [234, 240, 241]   \n",
       "242  [0.0916666666667, 0.345098039216, 0.795454545455]    [158, 95, 18]   \n",
       "243   [0.138888888889, 0.925490196078, 0.157894736842]  [239, 238, 233]   \n",
       "244   [0.994444444444, 0.478431372549, 0.737704918033]    [212, 32, 38]   \n",
       "245  [0.0555555555556, 0.141176470588, 0.333333333333]     [48, 32, 24]   \n",
       "246             [0.277777777778, 0.950980392157, 0.12]  [242, 244, 241]   \n",
       "247   [0.132616487455, 0.801960784314, 0.920792079208]  [251, 232, 158]   \n",
       "248  [0.0238095238095, 0.278431372549, 0.492957746479]    [106, 46, 36]   \n",
       "249           [0.541666666667, 0.874509803922, 0.0625]  [221, 224, 225]   \n",
       "250    [0.166666666667, 0.91568627451, 0.209302325581]  [238, 238, 229]   \n",
       "251          [0.977941176471, 0.250980392157, 0.53125]     [98, 30, 39]   \n",
       "252                         [0.0, 0.941176470588, 0.0]  [240, 240, 240]   \n",
       "253   [0.772222222222, 0.270588235294, 0.217391304348]     [73, 54, 84]   \n",
       "254  [0.0145413870246, 0.378431372549, 0.772020725389]    [171, 35, 22]   \n",
       "255    [0.55023923445, 0.437254901961, 0.937219730942]    [7, 153, 216]   \n",
       "256  [0.0731481481481, 0.564705882353, 0.810810810811]   [234, 133, 54]   \n",
       "257   [0.0810185185185, 0.41568627451, 0.679245283019]   [178, 104, 34]   \n",
       "258  [0.166666666667, 0.898039215686, 0.0384615384615]  [230, 230, 228]   \n",
       "259   [0.149122807018, 0.264705882353, 0.422222222222]     [96, 90, 39]   \n",
       "\n",
       "    color_rgb_name3   color_rgb_pri1   color_rgb_pri2   color_rgb_pri3  \n",
       "0             brown  (255, 255, 255)      (255, 0, 0)    (165, 42, 42)  \n",
       "1             brown    (165, 42, 42)    (255, 165, 0)    (165, 42, 42)  \n",
       "2             white    (165, 42, 42)    (165, 42, 42)  (255, 255, 255)  \n",
       "3              grey    (165, 42, 42)  (128, 128, 128)  (128, 128, 128)  \n",
       "4              grey  (128, 128, 128)  (128, 128, 128)  (128, 128, 128)  \n",
       "5              grey  (255, 255, 255)  (255, 255, 255)  (128, 128, 128)  \n",
       "6              grey  (128, 128, 128)  (128, 128, 128)  (128, 128, 128)  \n",
       "7              grey  (128, 128, 128)  (128, 128, 128)  (128, 128, 128)  \n",
       "8              grey  (128, 128, 128)  (128, 128, 128)  (128, 128, 128)  \n",
       "9              grey  (128, 128, 128)  (128, 128, 128)  (128, 128, 128)  \n",
       "10             grey  (128, 128, 128)  (128, 128, 128)  (128, 128, 128)  \n",
       "11             grey  (128, 128, 128)  (128, 128, 128)  (128, 128, 128)  \n",
       "12             grey  (128, 128, 128)  (128, 128, 128)  (128, 128, 128)  \n",
       "13             grey  (128, 128, 128)  (128, 128, 128)  (128, 128, 128)  \n",
       "14             grey  (128, 128, 128)  (128, 128, 128)  (128, 128, 128)  \n",
       "15             grey  (128, 128, 128)  (128, 128, 128)  (128, 128, 128)  \n",
       "16             grey  (128, 128, 128)  (128, 128, 128)  (128, 128, 128)  \n",
       "17             grey  (128, 128, 128)  (128, 128, 128)  (128, 128, 128)  \n",
       "18             grey  (255, 255, 255)  (128, 128, 128)  (128, 128, 128)  \n",
       "19             grey  (255, 255, 255)  (128, 128, 128)  (128, 128, 128)  \n",
       "20             grey  (255, 255, 255)  (128, 128, 128)  (128, 128, 128)  \n",
       "21             grey  (128, 128, 128)  (128, 128, 128)  (128, 128, 128)  \n",
       "22             grey  (255, 255, 255)  (128, 128, 128)  (128, 128, 128)  \n",
       "23             grey  (255, 255, 255)  (128, 128, 128)  (128, 128, 128)  \n",
       "24             grey  (255, 255, 255)  (128, 128, 128)  (128, 128, 128)  \n",
       "25           orange  (255, 255, 255)  (255, 255, 255)    (255, 165, 0)  \n",
       "26            brown  (255, 255, 255)  (255, 255, 255)    (165, 42, 42)  \n",
       "27           yellow  (255, 255, 255)  (255, 255, 255)    (255, 255, 0)  \n",
       "28             grey  (255, 255, 255)  (255, 255, 255)  (128, 128, 128)  \n",
       "29            white  (255, 255, 255)  (255, 255, 255)  (255, 255, 255)  \n",
       "..              ...              ...              ...              ...  \n",
       "230           white  (255, 255, 255)  (255, 255, 255)  (255, 255, 255)  \n",
       "231           white  (255, 255, 255)  (255, 255, 255)  (255, 255, 255)  \n",
       "232           white  (255, 255, 255)  (255, 255, 255)  (255, 255, 255)  \n",
       "233           white  (255, 255, 255)  (255, 255, 255)  (255, 255, 255)  \n",
       "234           white  (255, 255, 255)  (255, 255, 255)  (255, 255, 255)  \n",
       "235           white  (255, 255, 255)  (255, 255, 255)  (255, 255, 255)  \n",
       "236            grey  (255, 255, 255)  (255, 255, 255)  (128, 128, 128)  \n",
       "237           white  (255, 255, 255)  (255, 255, 255)  (255, 255, 255)  \n",
       "238            grey  (255, 255, 255)  (255, 255, 255)  (128, 128, 128)  \n",
       "239            grey  (255, 255, 255)  (128, 128, 128)  (128, 128, 128)  \n",
       "240           white  (255, 255, 255)  (255, 255, 255)  (255, 255, 255)  \n",
       "241           white  (255, 255, 255)  (255, 255, 255)  (255, 255, 255)  \n",
       "242           brown    (165, 42, 42)    (165, 42, 42)    (165, 42, 42)  \n",
       "243           white    (255, 165, 0)  (255, 255, 255)  (255, 255, 255)  \n",
       "244           brown  (255, 255, 255)    (165, 42, 42)    (165, 42, 42)  \n",
       "245           black    (165, 42, 42)    (165, 42, 42)        (0, 0, 0)  \n",
       "246           white        (0, 0, 0)  (255, 255, 255)  (255, 255, 255)  \n",
       "247           white  (255, 255, 255)  (255, 255, 255)  (255, 255, 255)  \n",
       "248           brown    (165, 42, 42)    (165, 42, 42)    (165, 42, 42)  \n",
       "249           white  (255, 255, 255)  (255, 255, 255)  (255, 255, 255)  \n",
       "250           white  (255, 255, 255)  (255, 255, 255)  (255, 255, 255)  \n",
       "251           brown  (255, 255, 255)    (165, 42, 42)    (165, 42, 42)  \n",
       "252           white  (255, 255, 255)  (255, 255, 255)  (255, 255, 255)  \n",
       "253           brown        (0, 0, 0)    (165, 42, 42)    (165, 42, 42)  \n",
       "254           brown  (255, 255, 255)    (165, 42, 42)    (165, 42, 42)  \n",
       "255            grey  (128, 128, 128)  (128, 128, 128)  (128, 128, 128)  \n",
       "256          orange    (255, 165, 0)    (255, 165, 0)    (255, 165, 0)  \n",
       "257           brown    (165, 42, 42)    (165, 42, 42)    (165, 42, 42)  \n",
       "258           white  (255, 255, 255)  (255, 255, 255)  (255, 255, 255)  \n",
       "259           brown  (128, 128, 128)    (165, 42, 42)    (165, 42, 42)  \n",
       "\n",
       "[259 rows x 17 columns]"
      ]
     },
     "execution_count": 238,
     "metadata": {},
     "output_type": "execute_result"
    }
   ],
   "source": [
    "X"
   ]
  },
  {
   "cell_type": "code",
   "execution_count": null,
   "metadata": {
    "collapsed": false
   },
   "outputs": [],
   "source": [
    "X = df.drop(['score'], axis=1)\n",
    "y = df['score_label']\n",
    "X = df.ix[:,16:33]\n",
    "F = feature_selection.f_classif(X, y)[0]\n",
    "title = 'Cereal Features with F-Values'\n",
    "plt.figure(figsize=(13, 8))\n",
    "ax = sns.barplot(x=df.columns[16:33],y=F)\n",
    "ax.set_title(title)\n",
    "ax.set(xlabel=\"Features\");"
   ]
  },
  {
   "cell_type": "code",
   "execution_count": null,
   "metadata": {
    "collapsed": true
   },
   "outputs": [],
   "source": []
  },
  {
   "cell_type": "code",
   "execution_count": null,
   "metadata": {
    "collapsed": true
   },
   "outputs": [],
   "source": []
  },
  {
   "cell_type": "code",
   "execution_count": null,
   "metadata": {
    "collapsed": true
   },
   "outputs": [],
   "source": []
  },
  {
   "cell_type": "code",
   "execution_count": null,
   "metadata": {
    "collapsed": true
   },
   "outputs": [],
   "source": []
  },
  {
   "cell_type": "code",
   "execution_count": null,
   "metadata": {
    "collapsed": true
   },
   "outputs": [],
   "source": []
  },
  {
   "cell_type": "code",
   "execution_count": null,
   "metadata": {
    "collapsed": true
   },
   "outputs": [],
   "source": []
  },
  {
   "cell_type": "code",
   "execution_count": null,
   "metadata": {
    "collapsed": true
   },
   "outputs": [],
   "source": []
  },
  {
   "cell_type": "code",
   "execution_count": null,
   "metadata": {
    "collapsed": true
   },
   "outputs": [],
   "source": []
  },
  {
   "cell_type": "code",
   "execution_count": null,
   "metadata": {
    "collapsed": false
   },
   "outputs": [],
   "source": []
  },
  {
   "cell_type": "code",
   "execution_count": null,
   "metadata": {
    "collapsed": false
   },
   "outputs": [],
   "source": []
  },
  {
   "cell_type": "code",
   "execution_count": null,
   "metadata": {
    "collapsed": false
   },
   "outputs": [],
   "source": []
  },
  {
   "cell_type": "code",
   "execution_count": null,
   "metadata": {
    "collapsed": false
   },
   "outputs": [],
   "source": []
  },
  {
   "cell_type": "code",
   "execution_count": null,
   "metadata": {
    "collapsed": false
   },
   "outputs": [],
   "source": []
  },
  {
   "cell_type": "code",
   "execution_count": null,
   "metadata": {
    "collapsed": false
   },
   "outputs": [],
   "source": []
  },
  {
   "cell_type": "code",
   "execution_count": null,
   "metadata": {
    "collapsed": false
   },
   "outputs": [],
   "source": []
  },
  {
   "cell_type": "code",
   "execution_count": null,
   "metadata": {
    "collapsed": false
   },
   "outputs": [],
   "source": []
  },
  {
   "cell_type": "code",
   "execution_count": null,
   "metadata": {
    "collapsed": false
   },
   "outputs": [],
   "source": [
    "zip(*df.head()['rgb_list'])"
   ]
  },
  {
   "cell_type": "code",
   "execution_count": null,
   "metadata": {
    "collapsed": false
   },
   "outputs": [],
   "source": [
    "get_hls_list('../img/cropped/img_001_anniesfruitybunnies_cropped.png', 1)"
   ]
  },
  {
   "cell_type": "code",
   "execution_count": null,
   "metadata": {
    "collapsed": false
   },
   "outputs": [],
   "source": [
    "df['hls_list'] = df.apply(df_get_hls_list, axis=1)\n",
    "\n",
    "#get_rgb_list('../img/cropped/img_001_anniesfruitybunnies_cropped.png', 3)"
   ]
  },
  {
   "cell_type": "code",
   "execution_count": null,
   "metadata": {
    "collapsed": false
   },
   "outputs": [],
   "source": [
    "df['score'].describe()\n"
   ]
  },
  {
   "cell_type": "code",
   "execution_count": null,
   "metadata": {
    "collapsed": false
   },
   "outputs": [],
   "source": [
    "df['h'], df['l'], df['s'] = zip(*df.apply(df_get_hls_list, axis=1))"
   ]
  },
  {
   "cell_type": "code",
   "execution_count": null,
   "metadata": {
    "collapsed": false
   },
   "outputs": [],
   "source": [
    "\n",
    "\n",
    "\n",
    "\n",
    "hls_color = lambda x: hls(x, 2)\n",
    "\n",
    "zip(*df['cropped_path'].map(hls_color))"
   ]
  },
  {
   "cell_type": "code",
   "execution_count": null,
   "metadata": {
    "collapsed": false
   },
   "outputs": [],
   "source": [
    "zip(*df.apply(df_get_hls_list, axis=1))"
   ]
  },
  {
   "cell_type": "code",
   "execution_count": null,
   "metadata": {
    "collapsed": false
   },
   "outputs": [],
   "source": [
    "df[\"hls_list\"].str"
   ]
  },
  {
   "cell_type": "code",
   "execution_count": null,
   "metadata": {
    "collapsed": false
   },
   "outputs": [],
   "source": [
    "df.head()"
   ]
  },
  {
   "cell_type": "code",
   "execution_count": null,
   "metadata": {
    "collapsed": true
   },
   "outputs": [],
   "source": []
  },
  {
   "cell_type": "code",
   "execution_count": null,
   "metadata": {
    "collapsed": true
   },
   "outputs": [],
   "source": []
  },
  {
   "cell_type": "code",
   "execution_count": null,
   "metadata": {
    "collapsed": true
   },
   "outputs": [],
   "source": []
  }
 ],
 "metadata": {
  "kernelspec": {
   "display_name": "Python 2",
   "language": "python",
   "name": "python2"
  },
  "language_info": {
   "codemirror_mode": {
    "name": "ipython",
    "version": 2
   },
   "file_extension": ".py",
   "mimetype": "text/x-python",
   "name": "python",
   "nbconvert_exporter": "python",
   "pygments_lexer": "ipython2",
   "version": "2.7.10"
  }
 },
 "nbformat": 4,
 "nbformat_minor": 0
}
