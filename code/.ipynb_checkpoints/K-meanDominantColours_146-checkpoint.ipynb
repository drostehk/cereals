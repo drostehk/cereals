{
 "cells": [
  {
   "cell_type": "code",
   "execution_count": 1,
   "metadata": {
    "collapsed": true
   },
   "outputs": [],
   "source": [
    "# Ref : http://blog.zeevgilovitz.com/detecting-dominant-colours-in-python/\n",
    "\n",
    "from PIL import Image\n",
    "import random\n",
    "import numpy"
   ]
  },
  {
   "cell_type": "code",
   "execution_count": 2,
   "metadata": {
    "collapsed": true
   },
   "outputs": [],
   "source": [
    "# Class : Cluster\n",
    "\n",
    "class Cluster(object):\n",
    "\n",
    "    def __init__(self):\n",
    "        self.pixels = []\n",
    "        self.centroid = None\n",
    "\n",
    "    def addPoint(self, pixel):\n",
    "        self.pixels.append(pixel)\n",
    "\n",
    "    def setNewCentroid(self):\n",
    "\n",
    "        R = [colour[0] for colour in self.pixels]\n",
    "        G = [colour[1] for colour in self.pixels]\n",
    "        B = [colour[2] for colour in self.pixels]\n",
    "\n",
    "        R = sum(R) / len(R)\n",
    "        G = sum(G) / len(G)\n",
    "        B = sum(B) / len(B)\n",
    "        \n",
    "        self.centroid = (R, G, B)\n",
    "        self.pixels = []\n",
    "\n",
    "        return self.centroid"
   ]
  },
  {
   "cell_type": "code",
   "execution_count": 21,
   "metadata": {
    "collapsed": true
   },
   "outputs": [],
   "source": [
    "# Class : Kmeans\n",
    "\n",
    "class Kmeans(object):\n",
    "\n",
    "    def __init__(self, k=3, max_iterations=5, min_distance=2.0, size=300):\n",
    "        self.k = k\n",
    "        self.max_iterations = max_iterations\n",
    "        self.min_distance = min_distance\n",
    "        self.size = (size, size + 1)\n",
    "\n",
    "    def run(self, image):\n",
    "        self.image = image\n",
    "        self.image.thumbnail(self.size)\n",
    "        self.pixels = numpy.array(image.getdata(), dtype=numpy.uint8)\n",
    "\n",
    "        self.clusters = [None for i in range(self.k)]\n",
    "        self.oldClusters = None\n",
    "\n",
    "        randomPixels = random.sample(self.pixels, self.k)\n",
    "\n",
    "        for idx in range(self.k):\n",
    "            self.clusters[idx] = Cluster()\n",
    "            self.clusters[idx].centroid = randomPixels[idx]\n",
    "\n",
    "        iterations = 0\n",
    "\n",
    "        while self.shouldExit(iterations) is False:\n",
    "\n",
    "            self.oldClusters = [cluster.centroid for cluster in self.clusters]\n",
    "\n",
    "            print iterations\n",
    "\n",
    "            for pixel in self.pixels:\n",
    "                self.assignClusters(pixel)\n",
    "\n",
    "            for cluster in self.clusters:\n",
    "                cluster.setNewCentroid()\n",
    "\n",
    "            iterations += 1\n",
    "\n",
    "        return [cluster.centroid for cluster in self.clusters]\n",
    "\n",
    "    def assignClusters(self, pixel):\n",
    "        shortest = float('Inf')\n",
    "        for cluster in self.clusters:\n",
    "            distance = self.calcDistance(cluster.centroid, pixel)\n",
    "            if distance < shortest:\n",
    "                shortest = distance\n",
    "                nearest = cluster\n",
    "\n",
    "        nearest.addPoint(pixel)\n",
    "\n",
    "    def calcDistance(self, a, b):\n",
    "\n",
    "        result = numpy.sqrt(sum((a - b) ** 2))\n",
    "        return result\n",
    "\n",
    "    def shouldExit(self, iterations):\n",
    "\n",
    "        if self.oldClusters is None:\n",
    "            return False\n",
    "\n",
    "        for idx in range(self.k):\n",
    "            dist = self.calcDistance(\n",
    "                numpy.array(self.clusters[idx].centroid),\n",
    "                numpy.array(self.oldClusters[idx])\n",
    "            )\n",
    "            if dist < self.min_distance:\n",
    "                return True\n",
    "\n",
    "        if iterations <= self.max_iterations:\n",
    "            return False\n",
    "\n",
    "        return True\n",
    "\n",
    "    # The remaining methods are used for debugging\n",
    "    \n",
    "    def showImage(self):\n",
    "        self.image.show()\n",
    "\n",
    "    def showCentroidColours(self):\n",
    "\n",
    "        for cluster in self.clusters:\n",
    "            image = Image.new(\"RGB\", (200, 200), cluster.centroid)\n",
    "            image.show()\n",
    "\n",
    "    def showClustering(self):\n",
    "\n",
    "        localPixels = [None] * len(self.image.getdata())\n",
    "\n",
    "        for idx, pixel in enumerate(self.pixels):\n",
    "                shortest = float('Inf')\n",
    "                for cluster in self.clusters:\n",
    "                    distance = self.calcDistance(\n",
    "                        cluster.centroid,\n",
    "                        pixel\n",
    "                    )\n",
    "                    if distance < shortest:\n",
    "                        shortest = distance\n",
    "                        nearest = cluster\n",
    "\n",
    "                localPixels[idx] = nearest.centroid\n",
    "\n",
    "        w, h = self.image.size\n",
    "        localPixels = numpy.asarray(localPixels)\\\n",
    "            .astype('uint8')\\\n",
    "            .reshape((h, w, 3))\n",
    "\n",
    "        colourMap = Image.fromarray(localPixels)\n",
    "        colourMap.show()\n",
    "        \n",
    "    def printCentroidColoursHexCode(self):\n",
    "        hexcodes = []\n",
    "        for cluster in self.clusters:\n",
    "            hexcode = '#'+''.join(map(chr, cluster.centroid)).encode('hex')\n",
    "            hexcodes.append(hexcode)\n",
    "            print cluster.centroid, hexcode\n",
    "        \n",
    "        return hexcodes"
   ]
  },
  {
   "cell_type": "code",
   "execution_count": 22,
   "metadata": {
    "collapsed": true
   },
   "outputs": [],
   "source": [
    "img = Image.open('../img/img_146_kelloggspecialkproteinplus.jpg')"
   ]
  },
  {
   "cell_type": "code",
   "execution_count": 23,
   "metadata": {
    "collapsed": true
   },
   "outputs": [],
   "source": [
    "k = Kmeans()"
   ]
  },
  {
   "cell_type": "code",
   "execution_count": 24,
   "metadata": {
    "collapsed": false
   },
   "outputs": [
    {
     "name": "stdout",
     "output_type": "stream",
     "text": [
      "0\n",
      "1\n",
      "2\n"
     ]
    }
   ],
   "source": [
    "result = k.run(img)"
   ]
  },
  {
   "cell_type": "code",
   "execution_count": 25,
   "metadata": {
    "collapsed": true
   },
   "outputs": [],
   "source": [
    "# k.showImage()"
   ]
  },
  {
   "cell_type": "code",
   "execution_count": 26,
   "metadata": {
    "collapsed": true
   },
   "outputs": [],
   "source": [
    "# k.showCentroidColours()"
   ]
  },
  {
   "cell_type": "code",
   "execution_count": 27,
   "metadata": {
    "collapsed": true
   },
   "outputs": [],
   "source": [
    "k.showClustering()"
   ]
  },
  {
   "cell_type": "code",
   "execution_count": 28,
   "metadata": {
    "collapsed": false
   },
   "outputs": [
    {
     "name": "stdout",
     "output_type": "stream",
     "text": [
      "(200, 86, 67) #c85643\n",
      "(231, 237, 242) #e7edf2\n",
      "(97, 168, 207) #61a8cf\n"
     ]
    },
    {
     "data": {
      "text/plain": [
       "['#c85643', '#e7edf2', '#61a8cf']"
      ]
     },
     "execution_count": 28,
     "metadata": {},
     "output_type": "execute_result"
    }
   ],
   "source": [
    "k.printCentroidColoursHexCode()"
   ]
  },
  {
   "cell_type": "code",
   "execution_count": null,
   "metadata": {
    "collapsed": false,
    "scrolled": true
   },
   "outputs": [],
   "source": []
  }
 ],
 "metadata": {
  "kernelspec": {
   "display_name": "Python 2",
   "language": "python",
   "name": "python2"
  },
  "language_info": {
   "codemirror_mode": {
    "name": "ipython",
    "version": 2
   },
   "file_extension": ".py",
   "mimetype": "text/x-python",
   "name": "python",
   "nbconvert_exporter": "python",
   "pygments_lexer": "ipython2",
   "version": "2.7.10"
  }
 },
 "nbformat": 4,
 "nbformat_minor": 0
}
