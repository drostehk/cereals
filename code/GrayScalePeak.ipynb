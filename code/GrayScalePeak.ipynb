{
 "cells": [
  {
   "cell_type": "code",
   "execution_count": 2,
   "metadata": {
    "collapsed": false
   },
   "outputs": [
    {
     "name": "stdout",
     "output_type": "stream",
     "text": [
      "OpenCV Version : 2.4.9 \n"
     ]
    }
   ],
   "source": [
    "import cv2\n",
    "import numpy as np\n",
    "import pandas as pd\n",
    "from PIL import Image\n",
    "import matplotlib.pyplot as plt\n",
    "%matplotlib inline\n",
    "print \"OpenCV Version : %s \" % cv2.__version__"
   ]
  },
  {
   "cell_type": "code",
   "execution_count": 3,
   "metadata": {
    "collapsed": false
   },
   "outputs": [
    {
     "data": {
      "text/html": [
       "<div>\n",
       "<table border=\"1\" class=\"dataframe\">\n",
       "  <thead>\n",
       "    <tr style=\"text-align: right;\">\n",
       "      <th></th>\n",
       "      <th>target_market</th>\n",
       "      <th>score</th>\n",
       "      <th>cover_image</th>\n",
       "      <th>sugar_result</th>\n",
       "      <th>fiber_result</th>\n",
       "      <th>sodium_result</th>\n",
       "      <th>sugar_per_serving</th>\n",
       "      <th>fiber_per_serving</th>\n",
       "      <th>sodium_per_serving</th>\n",
       "      <th>calories_per_serving</th>\n",
       "      <th>serving_size</th>\n",
       "      <th>index</th>\n",
       "      <th>url</th>\n",
       "    </tr>\n",
       "  </thead>\n",
       "  <tbody>\n",
       "    <tr>\n",
       "      <th>0</th>\n",
       "      <td>Family</td>\n",
       "      <td>50</td>\n",
       "      <td>http://cerealfacts.org/media/cereal_images/Ann...</td>\n",
       "      <td>24%</td>\n",
       "      <td>3%</td>\n",
       "      <td>293</td>\n",
       "      <td>7</td>\n",
       "      <td>1</td>\n",
       "      <td>85</td>\n",
       "      <td>120</td>\n",
       "      <td>29</td>\n",
       "      <td>1</td>\n",
       "      <td>http://cerealfacts.org/cereal_nutrition_scores...</td>\n",
       "    </tr>\n",
       "    <tr>\n",
       "      <th>1</th>\n",
       "      <td>Family</td>\n",
       "      <td>52</td>\n",
       "      <td>http://cerealfacts.org/media/cereal_images/Ann...</td>\n",
       "      <td>24%</td>\n",
       "      <td>3%</td>\n",
       "      <td>310</td>\n",
       "      <td>7</td>\n",
       "      <td>1</td>\n",
       "      <td>90</td>\n",
       "      <td>110</td>\n",
       "      <td>29</td>\n",
       "      <td>2</td>\n",
       "      <td>http://cerealfacts.org/cereal_nutrition_scores...</td>\n",
       "    </tr>\n",
       "    <tr>\n",
       "      <th>2</th>\n",
       "      <td>Family</td>\n",
       "      <td>50</td>\n",
       "      <td>http://cerealfacts.org/media/cereal_images/Ann...</td>\n",
       "      <td>24%</td>\n",
       "      <td>3%</td>\n",
       "      <td>293</td>\n",
       "      <td>7</td>\n",
       "      <td>1</td>\n",
       "      <td>85</td>\n",
       "      <td>120</td>\n",
       "      <td>29</td>\n",
       "      <td>3</td>\n",
       "      <td>http://cerealfacts.org/cereal_nutrition_scores...</td>\n",
       "    </tr>\n",
       "    <tr>\n",
       "      <th>3</th>\n",
       "      <td>Family</td>\n",
       "      <td>64</td>\n",
       "      <td>http://cerealfacts.org/media/cereal_images/Ann...</td>\n",
       "      <td>7%</td>\n",
       "      <td>3%</td>\n",
       "      <td>379</td>\n",
       "      <td>2</td>\n",
       "      <td>1</td>\n",
       "      <td>110</td>\n",
       "      <td>120</td>\n",
       "      <td>29</td>\n",
       "      <td>4</td>\n",
       "      <td>http://cerealfacts.org/cereal_nutrition_scores...</td>\n",
       "    </tr>\n",
       "    <tr>\n",
       "      <th>4</th>\n",
       "      <td>Family</td>\n",
       "      <td>58</td>\n",
       "      <td>http://cerealfacts.org/media/cereal_images/Bar...</td>\n",
       "      <td>23%</td>\n",
       "      <td>10%</td>\n",
       "      <td>267</td>\n",
       "      <td>7</td>\n",
       "      <td>3</td>\n",
       "      <td>80</td>\n",
       "      <td>120</td>\n",
       "      <td>30</td>\n",
       "      <td>5</td>\n",
       "      <td>http://cerealfacts.org/cereal_nutrition_scores...</td>\n",
       "    </tr>\n",
       "  </tbody>\n",
       "</table>\n",
       "</div>"
      ],
      "text/plain": [
       "  target_market  score                                        cover_image  \\\n",
       "0        Family     50  http://cerealfacts.org/media/cereal_images/Ann...   \n",
       "1        Family     52  http://cerealfacts.org/media/cereal_images/Ann...   \n",
       "2        Family     50  http://cerealfacts.org/media/cereal_images/Ann...   \n",
       "3        Family     64  http://cerealfacts.org/media/cereal_images/Ann...   \n",
       "4        Family     58  http://cerealfacts.org/media/cereal_images/Bar...   \n",
       "\n",
       "  sugar_result fiber_result  sodium_result  sugar_per_serving  \\\n",
       "0          24%           3%            293                  7   \n",
       "1          24%           3%            310                  7   \n",
       "2          24%           3%            293                  7   \n",
       "3           7%           3%            379                  2   \n",
       "4          23%          10%            267                  7   \n",
       "\n",
       "   fiber_per_serving  sodium_per_serving  calories_per_serving  serving_size  \\\n",
       "0                  1                  85                   120            29   \n",
       "1                  1                  90                   110            29   \n",
       "2                  1                  85                   120            29   \n",
       "3                  1                 110                   120            29   \n",
       "4                  3                  80                   120            30   \n",
       "\n",
       "   index                                                url  \n",
       "0      1  http://cerealfacts.org/cereal_nutrition_scores...  \n",
       "1      2  http://cerealfacts.org/cereal_nutrition_scores...  \n",
       "2      3  http://cerealfacts.org/cereal_nutrition_scores...  \n",
       "3      4  http://cerealfacts.org/cereal_nutrition_scores...  \n",
       "4      5  http://cerealfacts.org/cereal_nutrition_scores...  "
      ]
     },
     "execution_count": 3,
     "metadata": {},
     "output_type": "execute_result"
    }
   ],
   "source": [
    "df = pd.read_csv('../data/data.csv')\n",
    "df.head()"
   ]
  },
  {
   "cell_type": "code",
   "execution_count": 4,
   "metadata": {
    "collapsed": true
   },
   "outputs": [],
   "source": [
    "def gen_file_name(row):\n",
    "    file_name = row.cover_image.split('/')[len(row.cover_image.split('/'))-1]\n",
    "    file_name = 'img_' + str(row['index']).zfill (3) + '_' + (file_name).lower()[:-4] + '_cropped.png'\n",
    "    return(file_name)"
   ]
  },
  {
   "cell_type": "code",
   "execution_count": 5,
   "metadata": {
    "collapsed": false
   },
   "outputs": [
    {
     "data": {
      "text/html": [
       "<div>\n",
       "<table border=\"1\" class=\"dataframe\">\n",
       "  <thead>\n",
       "    <tr style=\"text-align: right;\">\n",
       "      <th></th>\n",
       "      <th>target_market</th>\n",
       "      <th>score</th>\n",
       "      <th>cover_image</th>\n",
       "      <th>sugar_result</th>\n",
       "      <th>fiber_result</th>\n",
       "      <th>sodium_result</th>\n",
       "      <th>sugar_per_serving</th>\n",
       "      <th>fiber_per_serving</th>\n",
       "      <th>sodium_per_serving</th>\n",
       "      <th>calories_per_serving</th>\n",
       "      <th>serving_size</th>\n",
       "      <th>index</th>\n",
       "      <th>url</th>\n",
       "      <th>file_name_cropped</th>\n",
       "    </tr>\n",
       "  </thead>\n",
       "  <tbody>\n",
       "    <tr>\n",
       "      <th>0</th>\n",
       "      <td>Family</td>\n",
       "      <td>50</td>\n",
       "      <td>http://cerealfacts.org/media/cereal_images/Ann...</td>\n",
       "      <td>24%</td>\n",
       "      <td>3%</td>\n",
       "      <td>293</td>\n",
       "      <td>7</td>\n",
       "      <td>1</td>\n",
       "      <td>85</td>\n",
       "      <td>120</td>\n",
       "      <td>29</td>\n",
       "      <td>1</td>\n",
       "      <td>http://cerealfacts.org/cereal_nutrition_scores...</td>\n",
       "      <td>img_001_anniesfruitybunnies_cropped.png</td>\n",
       "    </tr>\n",
       "    <tr>\n",
       "      <th>1</th>\n",
       "      <td>Family</td>\n",
       "      <td>52</td>\n",
       "      <td>http://cerealfacts.org/media/cereal_images/Ann...</td>\n",
       "      <td>24%</td>\n",
       "      <td>3%</td>\n",
       "      <td>310</td>\n",
       "      <td>7</td>\n",
       "      <td>1</td>\n",
       "      <td>90</td>\n",
       "      <td>110</td>\n",
       "      <td>29</td>\n",
       "      <td>2</td>\n",
       "      <td>http://cerealfacts.org/cereal_nutrition_scores...</td>\n",
       "      <td>img_002_annieshoneybunnies_cropped.png</td>\n",
       "    </tr>\n",
       "    <tr>\n",
       "      <th>2</th>\n",
       "      <td>Family</td>\n",
       "      <td>50</td>\n",
       "      <td>http://cerealfacts.org/media/cereal_images/Ann...</td>\n",
       "      <td>24%</td>\n",
       "      <td>3%</td>\n",
       "      <td>293</td>\n",
       "      <td>7</td>\n",
       "      <td>1</td>\n",
       "      <td>85</td>\n",
       "      <td>120</td>\n",
       "      <td>29</td>\n",
       "      <td>3</td>\n",
       "      <td>http://cerealfacts.org/cereal_nutrition_scores...</td>\n",
       "      <td>img_003_anniescinnamonrollbunnyos_cropped.png</td>\n",
       "    </tr>\n",
       "    <tr>\n",
       "      <th>3</th>\n",
       "      <td>Family</td>\n",
       "      <td>64</td>\n",
       "      <td>http://cerealfacts.org/media/cereal_images/Ann...</td>\n",
       "      <td>7%</td>\n",
       "      <td>3%</td>\n",
       "      <td>379</td>\n",
       "      <td>2</td>\n",
       "      <td>1</td>\n",
       "      <td>110</td>\n",
       "      <td>120</td>\n",
       "      <td>29</td>\n",
       "      <td>4</td>\n",
       "      <td>http://cerealfacts.org/cereal_nutrition_scores...</td>\n",
       "      <td>img_004_anniesorganicbunnyos_cropped.png</td>\n",
       "    </tr>\n",
       "    <tr>\n",
       "      <th>4</th>\n",
       "      <td>Family</td>\n",
       "      <td>58</td>\n",
       "      <td>http://cerealfacts.org/media/cereal_images/Bar...</td>\n",
       "      <td>23%</td>\n",
       "      <td>10%</td>\n",
       "      <td>267</td>\n",
       "      <td>7</td>\n",
       "      <td>3</td>\n",
       "      <td>80</td>\n",
       "      <td>120</td>\n",
       "      <td>30</td>\n",
       "      <td>5</td>\n",
       "      <td>http://cerealfacts.org/cereal_nutrition_scores...</td>\n",
       "      <td>img_005_barbarasbakerypuffinspuffscrunchycocoa...</td>\n",
       "    </tr>\n",
       "  </tbody>\n",
       "</table>\n",
       "</div>"
      ],
      "text/plain": [
       "  target_market  score                                        cover_image  \\\n",
       "0        Family     50  http://cerealfacts.org/media/cereal_images/Ann...   \n",
       "1        Family     52  http://cerealfacts.org/media/cereal_images/Ann...   \n",
       "2        Family     50  http://cerealfacts.org/media/cereal_images/Ann...   \n",
       "3        Family     64  http://cerealfacts.org/media/cereal_images/Ann...   \n",
       "4        Family     58  http://cerealfacts.org/media/cereal_images/Bar...   \n",
       "\n",
       "  sugar_result fiber_result  sodium_result  sugar_per_serving  \\\n",
       "0          24%           3%            293                  7   \n",
       "1          24%           3%            310                  7   \n",
       "2          24%           3%            293                  7   \n",
       "3           7%           3%            379                  2   \n",
       "4          23%          10%            267                  7   \n",
       "\n",
       "   fiber_per_serving  sodium_per_serving  calories_per_serving  serving_size  \\\n",
       "0                  1                  85                   120            29   \n",
       "1                  1                  90                   110            29   \n",
       "2                  1                  85                   120            29   \n",
       "3                  1                 110                   120            29   \n",
       "4                  3                  80                   120            30   \n",
       "\n",
       "   index                                                url  \\\n",
       "0      1  http://cerealfacts.org/cereal_nutrition_scores...   \n",
       "1      2  http://cerealfacts.org/cereal_nutrition_scores...   \n",
       "2      3  http://cerealfacts.org/cereal_nutrition_scores...   \n",
       "3      4  http://cerealfacts.org/cereal_nutrition_scores...   \n",
       "4      5  http://cerealfacts.org/cereal_nutrition_scores...   \n",
       "\n",
       "                                   file_name_cropped  \n",
       "0            img_001_anniesfruitybunnies_cropped.png  \n",
       "1             img_002_annieshoneybunnies_cropped.png  \n",
       "2      img_003_anniescinnamonrollbunnyos_cropped.png  \n",
       "3           img_004_anniesorganicbunnyos_cropped.png  \n",
       "4  img_005_barbarasbakerypuffinspuffscrunchycocoa...  "
      ]
     },
     "execution_count": 5,
     "metadata": {},
     "output_type": "execute_result"
    }
   ],
   "source": [
    "df['file_name_cropped'] = df.apply(gen_file_name, axis=1)\n",
    "df.head()"
   ]
  },
  {
   "cell_type": "code",
   "execution_count": 6,
   "metadata": {
    "collapsed": false
   },
   "outputs": [
    {
     "name": "stdout",
     "output_type": "stream",
     "text": [
      "<type 'str'>\n",
      "0              img_001_anniesfruitybunnies_cropped.png\n",
      "1               img_002_annieshoneybunnies_cropped.png\n",
      "2        img_003_anniescinnamonrollbunnyos_cropped.png\n",
      "3             img_004_anniesorganicbunnyos_cropped.png\n",
      "4    img_005_barbarasbakerypuffinspuffscrunchycocoa...\n",
      "Name: file_name_cropped, dtype: object\n",
      "260\n"
     ]
    }
   ],
   "source": [
    "cropped_img_name = df['file_name_cropped']\n",
    "print type(cropped_img_name[0])\n",
    "print cropped_img_name.head()\n",
    "print len(cropped_img_name)"
   ]
  },
  {
   "cell_type": "code",
   "execution_count": 7,
   "metadata": {
    "collapsed": true
   },
   "outputs": [],
   "source": [
    "# Return number of pixels with alpha channel = 0 (background)\n",
    "def getAlphaPixel(alpha_img):\n",
    "    count = 0\n",
    "    for i in range(alpha_img.shape[0]):\n",
    "        for j in range(alpha_img.shape[1]):\n",
    "            if(alpha_img[i][j][3] == 0):\n",
    "                count += 1\n",
    "    return count"
   ]
  },
  {
   "cell_type": "code",
   "execution_count": 8,
   "metadata": {
    "collapsed": true
   },
   "outputs": [],
   "source": [
    "def getPeakIndex(hist):\n",
    "    peak = hist[0]\n",
    "    peakIdx = 0\n",
    "    for i in range(256):\n",
    "        if(hist[i] > peak):\n",
    "            peak = hist[i]\n",
    "            peakIdx = i\n",
    "    return peakIdx"
   ]
  },
  {
   "cell_type": "code",
   "execution_count": 9,
   "metadata": {
    "collapsed": true
   },
   "outputs": [],
   "source": [
    "gray_peak = []\n",
    "\n",
    "for i in range(260):\n",
    "    img_name = '../img/kelvin_cropped/' + cropped_img_name[i]\n",
    "    \n",
    "    #Read the image\n",
    "    alpha_img = cv2.imread(img_name, cv2.IMREAD_UNCHANGED)\n",
    "    gray = cv2.imread(img_name, 0)\n",
    "    \n",
    "    # Calculate the histogram\n",
    "    hist = cv2.calcHist([gray], [0], None, [256], [0, 256])\n",
    "    \n",
    "    # Compute the number of background pixels and subtract it from hist[-1]\n",
    "    AlphaNum = getAlphaPixel(alpha_img)\n",
    "    hist[-1] = hist[-1] - AlphaNum\n",
    "    \n",
    "    # Store the peak value of grayscale histogram of each images into gray_peak\n",
    "    gray_peak.append(getPeakIndex(hist))"
   ]
  },
  {
   "cell_type": "code",
   "execution_count": 11,
   "metadata": {
    "collapsed": false,
    "scrolled": true
   },
   "outputs": [
    {
     "name": "stdout",
     "output_type": "stream",
     "text": [
      "001: 95\n",
      "002: 115\n",
      "003: 114\n",
      "004: 51\n",
      "005: 171\n",
      "006: 182\n",
      "007: 167\n",
      "008: 167\n",
      "009: 167\n",
      "010: 167\n"
     ]
    }
   ],
   "source": [
    "# Print grayscale peak of first 10 images\n",
    "for i in range(10):\n",
    "    print str(i + 1).zfill(3) + ': ' + str(gray_peak[i])"
   ]
  },
  {
   "cell_type": "code",
   "execution_count": 12,
   "metadata": {
    "collapsed": true
   },
   "outputs": [],
   "source": [
    "def genGrayPeak(row):\n",
    "    return gray_peak[row['index'] - 1]"
   ]
  },
  {
   "cell_type": "code",
   "execution_count": 13,
   "metadata": {
    "collapsed": true
   },
   "outputs": [],
   "source": [
    "df['gray_peak'] = df.apply(genGrayPeak, axis = 1)"
   ]
  },
  {
   "cell_type": "code",
   "execution_count": 14,
   "metadata": {
    "collapsed": false
   },
   "outputs": [
    {
     "data": {
      "text/html": [
       "<div>\n",
       "<table border=\"1\" class=\"dataframe\">\n",
       "  <thead>\n",
       "    <tr style=\"text-align: right;\">\n",
       "      <th></th>\n",
       "      <th>target_market</th>\n",
       "      <th>score</th>\n",
       "      <th>cover_image</th>\n",
       "      <th>sugar_result</th>\n",
       "      <th>fiber_result</th>\n",
       "      <th>sodium_result</th>\n",
       "      <th>sugar_per_serving</th>\n",
       "      <th>fiber_per_serving</th>\n",
       "      <th>sodium_per_serving</th>\n",
       "      <th>calories_per_serving</th>\n",
       "      <th>serving_size</th>\n",
       "      <th>index</th>\n",
       "      <th>url</th>\n",
       "      <th>file_name_cropped</th>\n",
       "      <th>gray_peak</th>\n",
       "    </tr>\n",
       "  </thead>\n",
       "  <tbody>\n",
       "    <tr>\n",
       "      <th>0</th>\n",
       "      <td>Family</td>\n",
       "      <td>50</td>\n",
       "      <td>http://cerealfacts.org/media/cereal_images/Ann...</td>\n",
       "      <td>24%</td>\n",
       "      <td>3%</td>\n",
       "      <td>293</td>\n",
       "      <td>7</td>\n",
       "      <td>1</td>\n",
       "      <td>85</td>\n",
       "      <td>120</td>\n",
       "      <td>29</td>\n",
       "      <td>1</td>\n",
       "      <td>http://cerealfacts.org/cereal_nutrition_scores...</td>\n",
       "      <td>img_001_anniesfruitybunnies_cropped.png</td>\n",
       "      <td>95</td>\n",
       "    </tr>\n",
       "    <tr>\n",
       "      <th>1</th>\n",
       "      <td>Family</td>\n",
       "      <td>52</td>\n",
       "      <td>http://cerealfacts.org/media/cereal_images/Ann...</td>\n",
       "      <td>24%</td>\n",
       "      <td>3%</td>\n",
       "      <td>310</td>\n",
       "      <td>7</td>\n",
       "      <td>1</td>\n",
       "      <td>90</td>\n",
       "      <td>110</td>\n",
       "      <td>29</td>\n",
       "      <td>2</td>\n",
       "      <td>http://cerealfacts.org/cereal_nutrition_scores...</td>\n",
       "      <td>img_002_annieshoneybunnies_cropped.png</td>\n",
       "      <td>115</td>\n",
       "    </tr>\n",
       "    <tr>\n",
       "      <th>2</th>\n",
       "      <td>Family</td>\n",
       "      <td>50</td>\n",
       "      <td>http://cerealfacts.org/media/cereal_images/Ann...</td>\n",
       "      <td>24%</td>\n",
       "      <td>3%</td>\n",
       "      <td>293</td>\n",
       "      <td>7</td>\n",
       "      <td>1</td>\n",
       "      <td>85</td>\n",
       "      <td>120</td>\n",
       "      <td>29</td>\n",
       "      <td>3</td>\n",
       "      <td>http://cerealfacts.org/cereal_nutrition_scores...</td>\n",
       "      <td>img_003_anniescinnamonrollbunnyos_cropped.png</td>\n",
       "      <td>114</td>\n",
       "    </tr>\n",
       "    <tr>\n",
       "      <th>3</th>\n",
       "      <td>Family</td>\n",
       "      <td>64</td>\n",
       "      <td>http://cerealfacts.org/media/cereal_images/Ann...</td>\n",
       "      <td>7%</td>\n",
       "      <td>3%</td>\n",
       "      <td>379</td>\n",
       "      <td>2</td>\n",
       "      <td>1</td>\n",
       "      <td>110</td>\n",
       "      <td>120</td>\n",
       "      <td>29</td>\n",
       "      <td>4</td>\n",
       "      <td>http://cerealfacts.org/cereal_nutrition_scores...</td>\n",
       "      <td>img_004_anniesorganicbunnyos_cropped.png</td>\n",
       "      <td>51</td>\n",
       "    </tr>\n",
       "    <tr>\n",
       "      <th>4</th>\n",
       "      <td>Family</td>\n",
       "      <td>58</td>\n",
       "      <td>http://cerealfacts.org/media/cereal_images/Bar...</td>\n",
       "      <td>23%</td>\n",
       "      <td>10%</td>\n",
       "      <td>267</td>\n",
       "      <td>7</td>\n",
       "      <td>3</td>\n",
       "      <td>80</td>\n",
       "      <td>120</td>\n",
       "      <td>30</td>\n",
       "      <td>5</td>\n",
       "      <td>http://cerealfacts.org/cereal_nutrition_scores...</td>\n",
       "      <td>img_005_barbarasbakerypuffinspuffscrunchycocoa...</td>\n",
       "      <td>171</td>\n",
       "    </tr>\n",
       "  </tbody>\n",
       "</table>\n",
       "</div>"
      ],
      "text/plain": [
       "  target_market  score                                        cover_image  \\\n",
       "0        Family     50  http://cerealfacts.org/media/cereal_images/Ann...   \n",
       "1        Family     52  http://cerealfacts.org/media/cereal_images/Ann...   \n",
       "2        Family     50  http://cerealfacts.org/media/cereal_images/Ann...   \n",
       "3        Family     64  http://cerealfacts.org/media/cereal_images/Ann...   \n",
       "4        Family     58  http://cerealfacts.org/media/cereal_images/Bar...   \n",
       "\n",
       "  sugar_result fiber_result  sodium_result  sugar_per_serving  \\\n",
       "0          24%           3%            293                  7   \n",
       "1          24%           3%            310                  7   \n",
       "2          24%           3%            293                  7   \n",
       "3           7%           3%            379                  2   \n",
       "4          23%          10%            267                  7   \n",
       "\n",
       "   fiber_per_serving  sodium_per_serving  calories_per_serving  serving_size  \\\n",
       "0                  1                  85                   120            29   \n",
       "1                  1                  90                   110            29   \n",
       "2                  1                  85                   120            29   \n",
       "3                  1                 110                   120            29   \n",
       "4                  3                  80                   120            30   \n",
       "\n",
       "   index                                                url  \\\n",
       "0      1  http://cerealfacts.org/cereal_nutrition_scores...   \n",
       "1      2  http://cerealfacts.org/cereal_nutrition_scores...   \n",
       "2      3  http://cerealfacts.org/cereal_nutrition_scores...   \n",
       "3      4  http://cerealfacts.org/cereal_nutrition_scores...   \n",
       "4      5  http://cerealfacts.org/cereal_nutrition_scores...   \n",
       "\n",
       "                                   file_name_cropped  gray_peak  \n",
       "0            img_001_anniesfruitybunnies_cropped.png         95  \n",
       "1             img_002_annieshoneybunnies_cropped.png        115  \n",
       "2      img_003_anniescinnamonrollbunnyos_cropped.png        114  \n",
       "3           img_004_anniesorganicbunnyos_cropped.png         51  \n",
       "4  img_005_barbarasbakerypuffinspuffscrunchycocoa...        171  "
      ]
     },
     "execution_count": 14,
     "metadata": {},
     "output_type": "execute_result"
    }
   ],
   "source": [
    "df.head()"
   ]
  },
  {
   "cell_type": "code",
   "execution_count": 15,
   "metadata": {
    "collapsed": true
   },
   "outputs": [],
   "source": [
    "df.to_csv('../data/data_updated.csv')"
   ]
  },
  {
   "cell_type": "code",
   "execution_count": null,
   "metadata": {
    "collapsed": true
   },
   "outputs": [],
   "source": [
    "new_df = pd."
   ]
  }
 ],
 "metadata": {
  "kernelspec": {
   "display_name": "Python 2",
   "language": "python",
   "name": "python2"
  },
  "language_info": {
   "codemirror_mode": {
    "name": "ipython",
    "version": 2
   },
   "file_extension": ".py",
   "mimetype": "text/x-python",
   "name": "python",
   "nbconvert_exporter": "python",
   "pygments_lexer": "ipython2",
   "version": "2.7.10"
  }
 },
 "nbformat": 4,
 "nbformat_minor": 0
}
