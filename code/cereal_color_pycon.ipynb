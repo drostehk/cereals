{
 "cells": [
  {
   "cell_type": "code",
   "execution_count": 38,
   "metadata": {
    "collapsed": false,
    "scrolled": true
   },
   "outputs": [],
   "source": [
    "import pandas as pd\n",
    "import numpy as np\n",
    "import operator as op\n",
    "import os\n",
    "import urllib\n",
    "import string\n",
    "from ggplot import *\n",
    "from IPython.display import IFrame\n",
    "from PIL import Image\n",
    "import colorsys\n",
    "from sklearn import feature_selection\n",
    "import seaborn as sns\n",
    "import webcolors\n",
    "from __future__ import unicode_literals\n",
    "import itertools\n",
    "\n",
    "%matplotlib inline"
   ]
  },
  {
   "cell_type": "markdown",
   "metadata": {},
   "source": [
    "We used Kimono to help and get the cereal data from CerealFacts.com"
   ]
  },
  {
   "cell_type": "code",
   "execution_count": null,
   "metadata": {
    "collapsed": false
   },
   "outputs": [],
   "source": [
    "IFrame('http://cerealfacts.org/', width=1024, height=850)"
   ]
  },
  {
   "cell_type": "markdown",
   "metadata": {},
   "source": [
    "<img src=\"../assets/3027659-poster-p-kimono.jpg\">"
   ]
  },
  {
   "cell_type": "markdown",
   "metadata": {},
   "source": [
    "### Let's begin!"
   ]
  },
  {
   "cell_type": "code",
   "execution_count": 39,
   "metadata": {
    "collapsed": false
   },
   "outputs": [],
   "source": [
    "## Load in the dataset\n",
    "df = pd.read_csv('../data/data.csv')"
   ]
  },
  {
   "cell_type": "code",
   "execution_count": 40,
   "metadata": {
    "collapsed": false
   },
   "outputs": [
    {
     "data": {
      "text/html": [
       "<div>\n",
       "<table border=\"1\" class=\"dataframe\">\n",
       "  <thead>\n",
       "    <tr style=\"text-align: right;\">\n",
       "      <th></th>\n",
       "      <th>score</th>\n",
       "      <th>sodium_result</th>\n",
       "      <th>sugar_per_serving</th>\n",
       "      <th>fiber_per_serving</th>\n",
       "      <th>sodium_per_serving</th>\n",
       "      <th>calories_per_serving</th>\n",
       "      <th>serving_size</th>\n",
       "      <th>index</th>\n",
       "    </tr>\n",
       "  </thead>\n",
       "  <tbody>\n",
       "    <tr>\n",
       "      <th>count</th>\n",
       "      <td>260.000000</td>\n",
       "      <td>260.000000</td>\n",
       "      <td>260.000000</td>\n",
       "      <td>260.000000</td>\n",
       "      <td>260.000000</td>\n",
       "      <td>260.000000</td>\n",
       "      <td>260.000000</td>\n",
       "      <td>260.000000</td>\n",
       "    </tr>\n",
       "    <tr>\n",
       "      <th>mean</th>\n",
       "      <td>55.623077</td>\n",
       "      <td>390.165385</td>\n",
       "      <td>9.130769</td>\n",
       "      <td>3.911538</td>\n",
       "      <td>144.596154</td>\n",
       "      <td>150.480769</td>\n",
       "      <td>40.342308</td>\n",
       "      <td>130.500000</td>\n",
       "    </tr>\n",
       "    <tr>\n",
       "      <th>std</th>\n",
       "      <td>11.464072</td>\n",
       "      <td>195.988829</td>\n",
       "      <td>3.960009</td>\n",
       "      <td>2.757206</td>\n",
       "      <td>70.477757</td>\n",
       "      <td>48.265870</td>\n",
       "      <td>12.519411</td>\n",
       "      <td>75.199734</td>\n",
       "    </tr>\n",
       "    <tr>\n",
       "      <th>min</th>\n",
       "      <td>26.000000</td>\n",
       "      <td>0.000000</td>\n",
       "      <td>0.000000</td>\n",
       "      <td>0.000000</td>\n",
       "      <td>0.000000</td>\n",
       "      <td>60.000000</td>\n",
       "      <td>19.000000</td>\n",
       "      <td>1.000000</td>\n",
       "    </tr>\n",
       "    <tr>\n",
       "      <th>25%</th>\n",
       "      <td>48.000000</td>\n",
       "      <td>258.000000</td>\n",
       "      <td>6.000000</td>\n",
       "      <td>2.000000</td>\n",
       "      <td>110.000000</td>\n",
       "      <td>110.000000</td>\n",
       "      <td>30.000000</td>\n",
       "      <td>65.750000</td>\n",
       "    </tr>\n",
       "    <tr>\n",
       "      <th>50%</th>\n",
       "      <td>54.000000</td>\n",
       "      <td>400.000000</td>\n",
       "      <td>9.000000</td>\n",
       "      <td>3.000000</td>\n",
       "      <td>140.000000</td>\n",
       "      <td>120.000000</td>\n",
       "      <td>32.000000</td>\n",
       "      <td>130.500000</td>\n",
       "    </tr>\n",
       "    <tr>\n",
       "      <th>75%</th>\n",
       "      <td>58.000000</td>\n",
       "      <td>545.500000</td>\n",
       "      <td>12.000000</td>\n",
       "      <td>5.250000</td>\n",
       "      <td>190.000000</td>\n",
       "      <td>200.000000</td>\n",
       "      <td>55.000000</td>\n",
       "      <td>195.250000</td>\n",
       "    </tr>\n",
       "    <tr>\n",
       "      <th>max</th>\n",
       "      <td>82.000000</td>\n",
       "      <td>889.000000</td>\n",
       "      <td>19.000000</td>\n",
       "      <td>14.000000</td>\n",
       "      <td>360.000000</td>\n",
       "      <td>250.000000</td>\n",
       "      <td>62.000000</td>\n",
       "      <td>260.000000</td>\n",
       "    </tr>\n",
       "  </tbody>\n",
       "</table>\n",
       "</div>"
      ],
      "text/plain": [
       "            score  sodium_result  sugar_per_serving  fiber_per_serving  \\\n",
       "count  260.000000     260.000000         260.000000         260.000000   \n",
       "mean    55.623077     390.165385           9.130769           3.911538   \n",
       "std     11.464072     195.988829           3.960009           2.757206   \n",
       "min     26.000000       0.000000           0.000000           0.000000   \n",
       "25%     48.000000     258.000000           6.000000           2.000000   \n",
       "50%     54.000000     400.000000           9.000000           3.000000   \n",
       "75%     58.000000     545.500000          12.000000           5.250000   \n",
       "max     82.000000     889.000000          19.000000          14.000000   \n",
       "\n",
       "       sodium_per_serving  calories_per_serving  serving_size       index  \n",
       "count          260.000000            260.000000    260.000000  260.000000  \n",
       "mean           144.596154            150.480769     40.342308  130.500000  \n",
       "std             70.477757             48.265870     12.519411   75.199734  \n",
       "min              0.000000             60.000000     19.000000    1.000000  \n",
       "25%            110.000000            110.000000     30.000000   65.750000  \n",
       "50%            140.000000            120.000000     32.000000  130.500000  \n",
       "75%            190.000000            200.000000     55.000000  195.250000  \n",
       "max            360.000000            250.000000     62.000000  260.000000  "
      ]
     },
     "execution_count": 40,
     "metadata": {},
     "output_type": "execute_result"
    }
   ],
   "source": [
    "df.describe()"
   ]
  },
  {
   "cell_type": "code",
   "execution_count": 41,
   "metadata": {
    "collapsed": false
   },
   "outputs": [
    {
     "data": {
      "text/plain": [
       "Adult     152\n",
       "Family     73\n",
       "Child      34\n",
       "None        1\n",
       "dtype: int64"
      ]
     },
     "execution_count": 41,
     "metadata": {},
     "output_type": "execute_result"
    }
   ],
   "source": [
    "df.target_market.value_counts()"
   ]
  },
  {
   "cell_type": "code",
   "execution_count": 42,
   "metadata": {
    "collapsed": false
   },
   "outputs": [
    {
     "data": {
      "text/html": [
       "<div>\n",
       "<table border=\"1\" class=\"dataframe\">\n",
       "  <thead>\n",
       "    <tr style=\"text-align: right;\">\n",
       "      <th></th>\n",
       "      <th>target_market</th>\n",
       "      <th>score</th>\n",
       "      <th>cover_image</th>\n",
       "      <th>sugar_result</th>\n",
       "      <th>fiber_result</th>\n",
       "      <th>sodium_result</th>\n",
       "      <th>sugar_per_serving</th>\n",
       "      <th>fiber_per_serving</th>\n",
       "      <th>sodium_per_serving</th>\n",
       "      <th>calories_per_serving</th>\n",
       "      <th>serving_size</th>\n",
       "      <th>index</th>\n",
       "      <th>url</th>\n",
       "    </tr>\n",
       "  </thead>\n",
       "  <tbody>\n",
       "    <tr>\n",
       "      <th>0</th>\n",
       "      <td>Family</td>\n",
       "      <td>50</td>\n",
       "      <td>http://cerealfacts.org/media/cereal_images/Ann...</td>\n",
       "      <td>24%</td>\n",
       "      <td>3%</td>\n",
       "      <td>293</td>\n",
       "      <td>7</td>\n",
       "      <td>1</td>\n",
       "      <td>85</td>\n",
       "      <td>120</td>\n",
       "      <td>29</td>\n",
       "      <td>1</td>\n",
       "      <td>http://cerealfacts.org/cereal_nutrition_scores...</td>\n",
       "    </tr>\n",
       "    <tr>\n",
       "      <th>1</th>\n",
       "      <td>Family</td>\n",
       "      <td>52</td>\n",
       "      <td>http://cerealfacts.org/media/cereal_images/Ann...</td>\n",
       "      <td>24%</td>\n",
       "      <td>3%</td>\n",
       "      <td>310</td>\n",
       "      <td>7</td>\n",
       "      <td>1</td>\n",
       "      <td>90</td>\n",
       "      <td>110</td>\n",
       "      <td>29</td>\n",
       "      <td>2</td>\n",
       "      <td>http://cerealfacts.org/cereal_nutrition_scores...</td>\n",
       "    </tr>\n",
       "    <tr>\n",
       "      <th>2</th>\n",
       "      <td>Family</td>\n",
       "      <td>50</td>\n",
       "      <td>http://cerealfacts.org/media/cereal_images/Ann...</td>\n",
       "      <td>24%</td>\n",
       "      <td>3%</td>\n",
       "      <td>293</td>\n",
       "      <td>7</td>\n",
       "      <td>1</td>\n",
       "      <td>85</td>\n",
       "      <td>120</td>\n",
       "      <td>29</td>\n",
       "      <td>3</td>\n",
       "      <td>http://cerealfacts.org/cereal_nutrition_scores...</td>\n",
       "    </tr>\n",
       "    <tr>\n",
       "      <th>3</th>\n",
       "      <td>Family</td>\n",
       "      <td>64</td>\n",
       "      <td>http://cerealfacts.org/media/cereal_images/Ann...</td>\n",
       "      <td>7%</td>\n",
       "      <td>3%</td>\n",
       "      <td>379</td>\n",
       "      <td>2</td>\n",
       "      <td>1</td>\n",
       "      <td>110</td>\n",
       "      <td>120</td>\n",
       "      <td>29</td>\n",
       "      <td>4</td>\n",
       "      <td>http://cerealfacts.org/cereal_nutrition_scores...</td>\n",
       "    </tr>\n",
       "    <tr>\n",
       "      <th>4</th>\n",
       "      <td>Family</td>\n",
       "      <td>58</td>\n",
       "      <td>http://cerealfacts.org/media/cereal_images/Bar...</td>\n",
       "      <td>23%</td>\n",
       "      <td>10%</td>\n",
       "      <td>267</td>\n",
       "      <td>7</td>\n",
       "      <td>3</td>\n",
       "      <td>80</td>\n",
       "      <td>120</td>\n",
       "      <td>30</td>\n",
       "      <td>5</td>\n",
       "      <td>http://cerealfacts.org/cereal_nutrition_scores...</td>\n",
       "    </tr>\n",
       "  </tbody>\n",
       "</table>\n",
       "</div>"
      ],
      "text/plain": [
       "  target_market  score                                        cover_image  \\\n",
       "0        Family     50  http://cerealfacts.org/media/cereal_images/Ann...   \n",
       "1        Family     52  http://cerealfacts.org/media/cereal_images/Ann...   \n",
       "2        Family     50  http://cerealfacts.org/media/cereal_images/Ann...   \n",
       "3        Family     64  http://cerealfacts.org/media/cereal_images/Ann...   \n",
       "4        Family     58  http://cerealfacts.org/media/cereal_images/Bar...   \n",
       "\n",
       "  sugar_result fiber_result  sodium_result  sugar_per_serving  \\\n",
       "0          24%           3%            293                  7   \n",
       "1          24%           3%            310                  7   \n",
       "2          24%           3%            293                  7   \n",
       "3           7%           3%            379                  2   \n",
       "4          23%          10%            267                  7   \n",
       "\n",
       "   fiber_per_serving  sodium_per_serving  calories_per_serving  serving_size  \\\n",
       "0                  1                  85                   120            29   \n",
       "1                  1                  90                   110            29   \n",
       "2                  1                  85                   120            29   \n",
       "3                  1                 110                   120            29   \n",
       "4                  3                  80                   120            30   \n",
       "\n",
       "   index                                                url  \n",
       "0      1  http://cerealfacts.org/cereal_nutrition_scores...  \n",
       "1      2  http://cerealfacts.org/cereal_nutrition_scores...  \n",
       "2      3  http://cerealfacts.org/cereal_nutrition_scores...  \n",
       "3      4  http://cerealfacts.org/cereal_nutrition_scores...  \n",
       "4      5  http://cerealfacts.org/cereal_nutrition_scores...  "
      ]
     },
     "execution_count": 42,
     "metadata": {},
     "output_type": "execute_result"
    }
   ],
   "source": [
    "df.head()"
   ]
  },
  {
   "cell_type": "code",
   "execution_count": 43,
   "metadata": {
    "collapsed": false
   },
   "outputs": [
    {
     "data": {
      "image/png": "[encoded data removed]",
      "text/plain": [
       "<matplotlib.figure.Figure at 0x7f9162db4dd0>"
      ]
     },
     "metadata": {},
     "output_type": "display_data"
    }
   ],
   "source": [
    "df.score.hist();"
   ]
  },
  {
   "cell_type": "markdown",
   "metadata": {},
   "source": [
    "### Data pre-processing"
   ]
  },
  {
   "cell_type": "code",
   "execution_count": 44,
   "metadata": {
    "collapsed": false
   },
   "outputs": [],
   "source": [
    "pd.set_option(\"display.max_columns\", 50)"
   ]
  },
  {
   "cell_type": "code",
   "execution_count": 45,
   "metadata": {
    "collapsed": false
   },
   "outputs": [],
   "source": [
    "df['sugar_result_perc'] = df.sugar_result.str.replace('%','').astype(int)\n",
    "df['fiber_result_perc'] = df.fiber_result.str.replace('%','').astype(int)\n",
    "df['calories_result_ratio'] = df.calories_per_serving / df.serving_size "
   ]
  },
  {
   "cell_type": "code",
   "execution_count": 46,
   "metadata": {
    "collapsed": false
   },
   "outputs": [
    {
     "data": {
      "image/png": "[encoded data removed]",
      "text/plain": [
       "<matplotlib.figure.Figure at 0x7f9162adf450>"
      ]
     },
     "metadata": {},
     "output_type": "display_data"
    }
   ],
   "source": [
    "df.sugar_result_perc.hist();"
   ]
  },
  {
   "cell_type": "code",
   "execution_count": 47,
   "metadata": {
    "collapsed": false
   },
   "outputs": [
    {
     "data": {
      "image/png": "[encoded data removed]",
      "text/plain": [
       "<matplotlib.figure.Figure at 0x7f9162a06a10>"
      ]
     },
     "metadata": {},
     "output_type": "display_data"
    }
   ],
   "source": [
    "df.fiber_result_perc.hist();"
   ]
  },
  {
   "cell_type": "code",
   "execution_count": 48,
   "metadata": {
    "collapsed": false
   },
   "outputs": [
    {
     "data": {
      "image/png": "[encoded data removed]",
      "text/plain": [
       "<matplotlib.figure.Figure at 0x7f91629bca90>"
      ]
     },
     "metadata": {},
     "output_type": "display_data"
    }
   ],
   "source": [
    "df.serving_size.hist();"
   ]
  },
  {
   "cell_type": "code",
   "execution_count": 49,
   "metadata": {
    "collapsed": false
   },
   "outputs": [
    {
     "data": {
      "image/png": "[encoded data removed]",
      "text/plain": [
       "<matplotlib.figure.Figure at 0x7f91628ad2d0>"
      ]
     },
     "metadata": {},
     "output_type": "display_data"
    }
   ],
   "source": [
    "df.calories_result_ratio.hist();"
   ]
  },
  {
   "cell_type": "code",
   "execution_count": 50,
   "metadata": {
    "collapsed": false
   },
   "outputs": [
    {
     "data": {
      "text/html": [
       "<div>\n",
       "<table border=\"1\" class=\"dataframe\">\n",
       "  <thead>\n",
       "    <tr style=\"text-align: right;\">\n",
       "      <th></th>\n",
       "      <th>sugar_result_perc</th>\n",
       "      <th>fiber_result_perc</th>\n",
       "      <th>calories_result_ratio</th>\n",
       "    </tr>\n",
       "  </thead>\n",
       "  <tbody>\n",
       "    <tr>\n",
       "      <th>count</th>\n",
       "      <td>260.000000</td>\n",
       "      <td>260.000000</td>\n",
       "      <td>260.000000</td>\n",
       "    </tr>\n",
       "    <tr>\n",
       "      <th>mean</th>\n",
       "      <td>23.350000</td>\n",
       "      <td>9.323077</td>\n",
       "      <td>3.734876</td>\n",
       "    </tr>\n",
       "    <tr>\n",
       "      <th>std</th>\n",
       "      <td>9.734536</td>\n",
       "      <td>6.290540</td>\n",
       "      <td>0.330563</td>\n",
       "    </tr>\n",
       "    <tr>\n",
       "      <th>min</th>\n",
       "      <td>0.000000</td>\n",
       "      <td>0.000000</td>\n",
       "      <td>2.000000</td>\n",
       "    </tr>\n",
       "    <tr>\n",
       "      <th>25%</th>\n",
       "      <td>18.000000</td>\n",
       "      <td>5.750000</td>\n",
       "      <td>3.571429</td>\n",
       "    </tr>\n",
       "    <tr>\n",
       "      <th>50%</th>\n",
       "      <td>23.000000</td>\n",
       "      <td>8.500000</td>\n",
       "      <td>3.728814</td>\n",
       "    </tr>\n",
       "    <tr>\n",
       "      <th>75%</th>\n",
       "      <td>30.000000</td>\n",
       "      <td>11.000000</td>\n",
       "      <td>4.000000</td>\n",
       "    </tr>\n",
       "    <tr>\n",
       "      <th>max</th>\n",
       "      <td>56.000000</td>\n",
       "      <td>47.000000</td>\n",
       "      <td>4.385965</td>\n",
       "    </tr>\n",
       "  </tbody>\n",
       "</table>\n",
       "</div>"
      ],
      "text/plain": [
       "       sugar_result_perc  fiber_result_perc  calories_result_ratio\n",
       "count         260.000000         260.000000             260.000000\n",
       "mean           23.350000           9.323077               3.734876\n",
       "std             9.734536           6.290540               0.330563\n",
       "min             0.000000           0.000000               2.000000\n",
       "25%            18.000000           5.750000               3.571429\n",
       "50%            23.000000           8.500000               3.728814\n",
       "75%            30.000000          11.000000               4.000000\n",
       "max            56.000000          47.000000               4.385965"
      ]
     },
     "execution_count": 50,
     "metadata": {},
     "output_type": "execute_result"
    }
   ],
   "source": [
    "df.iloc[:,-3:].describe()"
   ]
  },
  {
   "cell_type": "code",
   "execution_count": null,
   "metadata": {
    "collapsed": false
   },
   "outputs": [],
   "source": [
    "df['target_market'].value_counts()"
   ]
  },
  {
   "cell_type": "code",
   "execution_count": null,
   "metadata": {
    "collapsed": true
   },
   "outputs": [],
   "source": [
    "df = df[df.target_market  != \"None\"]"
   ]
  },
  {
   "cell_type": "code",
   "execution_count": null,
   "metadata": {
    "collapsed": false
   },
   "outputs": [],
   "source": [
    "df['target_market'].value_counts()"
   ]
  },
  {
   "cell_type": "code",
   "execution_count": null,
   "metadata": {
    "collapsed": false
   },
   "outputs": [],
   "source": [
    "pd.get_dummies(df['target_market']).head()"
   ]
  },
  {
   "cell_type": "code",
   "execution_count": null,
   "metadata": {
    "collapsed": false
   },
   "outputs": [],
   "source": [
    "df = pd.concat([df, pd.get_dummies(df['target_market'])], axis=1)"
   ]
  },
  {
   "cell_type": "code",
   "execution_count": 82,
   "metadata": {
    "collapsed": false
   },
   "outputs": [],
   "source": [
    "df.to_csv('cleaned.csv')"
   ]
  },
  {
   "cell_type": "code",
   "execution_count": 53,
   "metadata": {
    "collapsed": true
   },
   "outputs": [],
   "source": [
    "## \n",
    "def gen_file_name(row):\n",
    "    file_name = row.cover_image.split('/')[len(row.cover_image.split('/'))-1]\n",
    "    file_name = 'img_' + str(row['index']).zfill (3) + '_' + (file_name).lower()\n",
    "    #print('Processing ' + str(row['index']))\n",
    "    return(file_name)\n",
    "\n",
    "## \n",
    "def gen_cropped_file_path(row):\n",
    "    file_name = row.file_name\n",
    "    path_name = '../img/cropped/' + string.replace(file_name, '.jpg', '_cropped.png')\n",
    "    return(path_name)\n",
    "    #file_name = 'img_' + str(row['index']).zfill (3) + '_' + (file_name).lower()\n",
    "    #print('Processing ' + str(row['index']))\n",
    "    #return(file_name)"
   ]
  },
  {
   "cell_type": "code",
   "execution_count": 54,
   "metadata": {
    "collapsed": true
   },
   "outputs": [],
   "source": [
    "df['file_name'] = df.apply(gen_file_name, axis=1)\n",
    "df['cropped_path'] = df.apply(gen_cropped_file_path, axis=1)"
   ]
  },
  {
   "cell_type": "code",
   "execution_count": null,
   "metadata": {
    "collapsed": false,
    "scrolled": true
   },
   "outputs": [],
   "source": [
    "df.head()"
   ]
  },
  {
   "cell_type": "code",
   "execution_count": null,
   "metadata": {
    "collapsed": true
   },
   "outputs": [],
   "source": []
  },
  {
   "cell_type": "code",
   "execution_count": null,
   "metadata": {
    "collapsed": false
   },
   "outputs": [],
   "source": [
    "## The following code download the image with the URL privedes in the csv\n",
    "'''\n",
    "for name, url in zip(df.file_name, df.cover_image):\n",
    "    if (os.path.isfile('../img/' + name) == False):\n",
    "        resource = urllib.urlopen(url)\n",
    "        output = open('../img/' + name, 'wb')\n",
    "        output.write(resource.read())\n",
    "        output.close()\n",
    "'''"
   ]
  },
  {
   "cell_type": "code",
   "execution_count": null,
   "metadata": {
    "collapsed": true
   },
   "outputs": [],
   "source": [
    "for file_name in df.file_name:\n",
    "    if not (os.path.isfile('../img/cropped/' + string.replace(file_name, '.jpg', '_cropped.png'))):\n",
    "        img = Image.open('../img/' + file_name)\n",
    "        img = img.convert(\"RGBA\")\n",
    "        pixdata = img.load()\n",
    "        for y in xrange(img.size[1]):\n",
    "            for x in xrange(img.size[0]):\n",
    "                if pixdata[x, y] == (255, 255, 255, 255):\n",
    "                    pixdata[x, y] = (255, 255, 255, 0)\n",
    "        img.save('../img/cropped/' + string.replace(file_name, '.jpg', '_cropped.png'), \"PNG\")"
   ]
  },
  {
   "cell_type": "markdown",
   "metadata": {},
   "source": [
    "## Cropping whitespace"
   ]
  },
  {
   "cell_type": "code",
   "execution_count": 56,
   "metadata": {
    "collapsed": false
   },
   "outputs": [
    {
     "data": {
      "text/plain": [
       "u'img_002_annieshoneybunnies.jpg'"
      ]
     },
     "execution_count": 56,
     "metadata": {},
     "output_type": "execute_result"
    }
   ],
   "source": [
    "df.ix[1,'file_name']"
   ]
  },
  {
   "cell_type": "code",
   "execution_count": 68,
   "metadata": {
    "collapsed": false
   },
   "outputs": [
    {
     "data": {
      "image/png": "[encoded data removed]",
      "text/plain": [
       "<matplotlib.figure.Figure at 0x7f9162cee990>"
      ]
     },
     "metadata": {},
     "output_type": "display_data"
    }
   ],
   "source": [
    "from skimage import io, img_as_float\n",
    "import matplotlib.pyplot as plt\n",
    "import numpy as np\n",
    "\n",
    "\n",
    "image = img_as_float(io.imread('../img/' + df.ix[130,'file_name']))\n",
    "\n",
    "# Select all pixels almost equal to white\n",
    "# (almost, because there are some edge effects in jpegs\n",
    "# so the boundaries may not be exactly white)\n",
    "white = np.array([1, 1, 1])\n",
    "mask = np.abs(image - white).sum(axis=2) < 0.05\n",
    "\n",
    "# Find the bounding box of those pixels\n",
    "coords = np.array(np.nonzero(~mask))\n",
    "top_left = np.min(coords, axis=1)\n",
    "bottom_right = np.max(coords, axis=1)\n",
    "\n",
    "out = image[top_left[0]:bottom_right[0],\n",
    "            top_left[1]:bottom_right[1]]\n",
    "\n",
    "plt.imshow(out)\n",
    "plt.show()"
   ]
  },
  {
   "cell_type": "code",
   "execution_count": 77,
   "metadata": {
    "collapsed": false
   },
   "outputs": [],
   "source": [
    "from PIL import Image, ImageChops\n",
    "\n",
    "def trim(im):\n",
    "    bg = Image.new(im.mode, im.size, im.getpixel((0,0)))\n",
    "    diff = ImageChops.difference(im, bg)\n",
    "    diff = ImageChops.add(diff, diff, 2.0, -100)\n",
    "    bbox = diff.getbbox()\n",
    "    if bbox:\n",
    "        return im.crop(bbox)\n",
    "\n",
    "im = Image.open('../img/' + df.ix[130,'file_name'])\n",
    "im = trim(im)\n",
    "im.show()"
   ]
  },
  {
   "cell_type": "code",
   "execution_count": 74,
   "metadata": {
    "collapsed": false
   },
   "outputs": [
    {
     "data": {
      "text/plain": [
       "array([16, 96])"
      ]
     },
     "execution_count": 74,
     "metadata": {},
     "output_type": "execute_result"
    }
   ],
   "source": [
    "top_left"
   ]
  },
  {
   "cell_type": "code",
   "execution_count": 75,
   "metadata": {
    "collapsed": false
   },
   "outputs": [
    {
     "name": "stdout",
     "output_type": "stream",
     "text": [
      "AxesImage(60,40;372x248)\n",
      "AxesImage(60,40;372x248)\n"
     ]
    },
    {
     "data": {
      "image/png": "[encoded data removed]",
      "text/plain": [
       "<matplotlib.figure.Figure at 0x7f9162d1be90>"
      ]
     },
     "metadata": {},
     "output_type": "display_data"
    }
   ],
   "source": [
    "print plt.imshow(out);\n",
    "print plt.imshow(image);"
   ]
  },
  {
   "cell_type": "code",
   "execution_count": 85,
   "metadata": {
    "collapsed": false
   },
   "outputs": [
    {
     "data": {
      "image/png": "[encoded data removed]",
      "text/plain": [
       "<matplotlib.figure.Figure at 0x7f9160886350>"
      ]
     },
     "metadata": {},
     "output_type": "display_data"
    }
   ],
   "source": [
    "import numpy as np\n",
    "import matplotlib.pyplot as plt\n",
    "from scipy import ndimage as ndi\n",
    "\n",
    "from skimage import feature\n",
    "from skimage.color import rgb2grey\n",
    "\n",
    "# Generate noisy image of a square\n",
    "im = np.zeros((128, 128))\n",
    "im[32:-32, 32:-32] = 1\n",
    "\n",
    "im = ndi.rotate(im, 15, mode='constant')\n",
    "im = ndi.gaussian_filter(im, 4)\n",
    "im += 0.2 * np.random.random(im.shape)\n",
    "\n",
    "im = rgb2grey(img_as_float(io.imread('../img/' + df.ix[130,'file_name'])))\n",
    "\n",
    "# Compute the Canny filter for two values of sigma\n",
    "edges1 = feature.canny(im)\n",
    "edges2 = feature.canny(im, sigma=3)\n",
    "\n",
    "# display results\n",
    "fig, (ax1, ax2, ax3) = plt.subplots(nrows=1, ncols=3, figsize=(8, 3))\n",
    "\n",
    "ax1.imshow(im, cmap=plt.cm.jet)\n",
    "ax1.axis('off')\n",
    "ax1.set_title('noisy image', fontsize=20)\n",
    "\n",
    "ax2.imshow(edges1, cmap=plt.cm.gray)\n",
    "ax2.axis('off')\n",
    "ax2.set_title('Canny filter, $\\sigma=1$', fontsize=20)\n",
    "\n",
    "ax3.imshow(edges2, cmap=plt.cm.gray)\n",
    "ax3.axis('off')\n",
    "ax3.set_title('Canny filter, $\\sigma=3$', fontsize=20)\n",
    "\n",
    "fig.subplots_adjust(wspace=0.02, hspace=0.02, top=0.9,\n",
    "                    bottom=0.02, left=0.02, right=0.98)\n",
    "\n",
    "plt.show()"
   ]
  },
  {
   "cell_type": "markdown",
   "metadata": {},
   "source": []
  },
  {
   "cell_type": "code",
   "execution_count": null,
   "metadata": {
    "collapsed": true
   },
   "outputs": [],
   "source": [
    "http://blog.yhathq.com/posts/image-processing-with-scikit-image.html"
   ]
  },
  {
   "cell_type": "code",
   "execution_count": null,
   "metadata": {
    "collapsed": true
   },
   "outputs": [],
   "source": [
    "## Helper function to get the RGB and HSL\n",
    "\n",
    "def open_convert_image(input_img_file, numcolors=1):\n",
    "    image = Image.open(input_img_file)\n",
    "    result = image.convert('P', palette=Image.ADAPTIVE, colors=numcolors)\n",
    "    result.putalpha(0)\n",
    "    return(result)\n",
    "\n",
    "def get_list_color(input_img_file, numcolors=1):\n",
    "    return(open_convert_image(input_img_file, numcolors).getcolors())\n",
    "\n",
    "def get_rgb_list(input_img_file, numcolors=2):\n",
    "    colors_list = get_list_color(input_img_file, numcolors)\n",
    "    result = []\n",
    "    for color in colors_list:\n",
    "        result.append(list(color[1][0:3]))\n",
    "    return(result)\n",
    "\n",
    "def df_get_rgb_list(row, numcolors=3):\n",
    "    return(get_rgb_list(row.cropped_path, numcolors))\n",
    "\n",
    "def get_hls_list(input_img_file, numcolors=1):\n",
    "    result = []\n",
    "    for rgb_set in get_rgb_list(input_img_file, numcolors):\n",
    "        result.append(list(colorsys.rgb_to_hls(*[x/255.0 for x in rgb_set])))\n",
    "    return(result)\n",
    "\n",
    "def df_get_hls_list(row, numcolors=1):\n",
    "    return(list(get_hls_list(row.cropped_path, numcolors))[numcolors - 1])\n",
    "\n",
    "def df_get_h(row):\n",
    "    return(list(get_hls_list(row.cropped_path, numcolors)[0]))\n",
    "\n",
    "def hls(row, numcolors=1):\n",
    "    return(list(get_hls_list(row, numcolors))[numcolors - 1])\n",
    "\n",
    "def rgb(row, numcolors=1):\n",
    "    return(get_rgb_list(row, numcolors)[numcolors - 1])\n",
    "\n",
    "def closest_colour(requested_colour):\n",
    "    pri_color = ['Red', 'Orange', 'Yellow', 'Green', 'Blue', 'Violet', 'Brown', 'Black', 'Grey', 'White']\n",
    "    pri_color = [x.lower() for x in pri_color]\n",
    "    min_colours = {}\n",
    "    #for key, name in webcolors.css3_hex_to_names.items():\n",
    "    for key, name in [x for x in itertools.ifilter(lambda x: x[1]  in pri_color, webcolors.css3_hex_to_names.items())]:\n",
    "        r_c, g_c, b_c = webcolors.hex_to_rgb(key)\n",
    "        rd = (r_c - requested_colour[0]) ** 2\n",
    "        gd = (g_c - requested_colour[1]) ** 2\n",
    "        bd = (b_c - requested_colour[2]) ** 2\n",
    "        min_colours[(rd + gd + bd)] = name\n",
    "    return min_colours[min(min_colours.keys())]\n",
    "\n",
    "def get_colour_name(requested_colour, result_act = False):\n",
    "    try:\n",
    "        closest_name = actual_name = webcolors.rgb_to_name(requested_colour)\n",
    "    except ValueError:\n",
    "        closest_name = closest_colour(requested_colour)\n",
    "        actual_name = None\n",
    "    if result_act:\n",
    "        return actual_name, closest_name\n",
    "    return closest_name"
   ]
  },
  {
   "cell_type": "code",
   "execution_count": null,
   "metadata": {
    "collapsed": false
   },
   "outputs": [],
   "source": [
    "rgb(df.iloc[0,:].cropped_path, 2)"
   ]
  },
  {
   "cell_type": "code",
   "execution_count": null,
   "metadata": {
    "collapsed": false
   },
   "outputs": [],
   "source": [
    "hls(df.iloc[0,:].cropped_path, 2)"
   ]
  },
  {
   "cell_type": "code",
   "execution_count": null,
   "metadata": {
    "collapsed": false
   },
   "outputs": [],
   "source": [
    "for num in range(1, 4):\n",
    "    hls_color = lambda x: hls(x, num)\n",
    "    rgb_color = lambda x: rgb(x, num)\n",
    "    rgb_name = lambda x: get_colour_name(x)\n",
    "    pri_rgb_color = lambda x: webcolors.name_to_rgb(x)\n",
    "    \n",
    "    df['color_org_h' + str(num)], df['color_org_l' + str(num)], df['color_org_s' + str(num)] = zip(*df['cropped_path'].map(hls_color))\n",
    "    #df['color_r' + str(num)], df['color_g' + str(num)], df['color_b' + str(num)] = zip(*df['cropped_path'].map(rgb_color))\n",
    "    df['color_hls' + str(num)] = df['cropped_path'].map(hls_color)\n",
    "    df['color_rgb' + str(num)] = df['cropped_path'].map(rgb_color)\n",
    "    df['color_rgb_name' + str(num)] = df['color_rgb' + str(num)].map(rgb_name)\n",
    "    df['color_rgb_pri' + str(num)] = df['color_rgb_name' + str(num)].map(pri_rgb_color)\n",
    "    df['color_r' + str(num)], df['color_g' + str(num)], df['color_b' + str(num)] = zip(*df['color_rgb_name' + str(num)].map(pri_rgb_color))"
   ]
  },
  {
   "cell_type": "code",
   "execution_count": null,
   "metadata": {
    "collapsed": true
   },
   "outputs": [],
   "source": [
    "for num in range(1, 4):\n",
    "    df_dummy = pd.get_dummies(df['color_rgb_name' + str(num)])\n",
    "    df_dummy.columns = ['color_' + str(num) + '_' + x for x in list(df_dummy.columns.values)]\n",
    "    df = pd.concat([df, df_dummy], axis=1)"
   ]
  },
  {
   "cell_type": "code",
   "execution_count": null,
   "metadata": {
    "collapsed": false
   },
   "outputs": [],
   "source": [
    "df.head()"
   ]
  },
  {
   "cell_type": "code",
   "execution_count": null,
   "metadata": {
    "collapsed": true
   },
   "outputs": [],
   "source": []
  },
  {
   "cell_type": "code",
   "execution_count": null,
   "metadata": {
    "collapsed": false
   },
   "outputs": [],
   "source": [
    "pd.concat([df, pd.get_dummies(df['color_rgb_name1'], prefix_sep = ['color_1_'])], axis=1)"
   ]
  },
  {
   "cell_type": "code",
   "execution_count": null,
   "metadata": {
    "collapsed": true
   },
   "outputs": [],
   "source": []
  },
  {
   "cell_type": "code",
   "execution_count": null,
   "metadata": {
    "collapsed": true
   },
   "outputs": [],
   "source": []
  },
  {
   "cell_type": "code",
   "execution_count": null,
   "metadata": {
    "collapsed": false
   },
   "outputs": [],
   "source": [
    "min(abs(0.45 - 0.50), abs(0.65 - 0.50), abs(0.51 - 0.50))"
   ]
  },
  {
   "cell_type": "code",
   "execution_count": null,
   "metadata": {
    "collapsed": false
   },
   "outputs": [],
   "source": [
    "#plus = lambda x: hls(x, num)\n",
    "(pd.concat([(df['color_org_s1'] * df['color_org_l1'] - 0.5).abs(), (df['color_org_s2'] * df['color_org_l2'] - 0.5).abs(), (df['color_org_s3'] * df['color_org_l3'] - 0.5).abs()], axis=1).min(axis=1))\n"
   ]
  },
  {
   "cell_type": "code",
   "execution_count": null,
   "metadata": {
    "collapsed": false
   },
   "outputs": [],
   "source": [
    "df[\"color_diff\"] = pd.concat([(df['color_org_s1'] * df['color_org_l1'] - 0.5).abs(), (df['color_org_s2'] * df['color_org_l2'] - 0.5).abs(), (df['color_org_s3'] * df['color_org_l3'] - 0.5).abs()], axis=1).std(axis=1)\n",
    "df[\"color_diff\"] = pd.concat([(df['color_org_s1'] * df['color_org_l1'] - 0.5).abs(), (df['color_org_s2'] * df['color_org_l2'] - 0.5).abs(), (df['color_org_s3'] * df['color_org_l3'] - 0.5).abs()], axis=1).std(axis=1)"
   ]
  },
  {
   "cell_type": "code",
   "execution_count": null,
   "metadata": {
    "collapsed": false
   },
   "outputs": [],
   "source": [
    "pd.concat([(df['color_org_s1'] * df['color_org_l1'] - 0.5).abs(), (df['color_org_s2'] * df['color_org_l2'] - 0.5).abs(), (df['color_org_s3'] * df['color_org_l3'] - 0.5).abs()], axis=1).std(axis=1).describe()"
   ]
  },
  {
   "cell_type": "code",
   "execution_count": null,
   "metadata": {
    "collapsed": false
   },
   "outputs": [],
   "source": [
    "from sklearn.cross_validation import cross_val_score\n",
    "from sklearn.datasets import make_blobs\n",
    "from sklearn.ensemble import RandomForestClassifier\n",
    "from sklearn.ensemble import ExtraTreesClassifier\n",
    "from sklearn.tree import DecisionTreeClassifier"
   ]
  },
  {
   "cell_type": "code",
   "execution_count": null,
   "metadata": {
    "collapsed": false
   },
   "outputs": [],
   "source": [
    "col_list = list(df.columns.values)"
   ]
  },
  {
   "cell_type": "code",
   "execution_count": null,
   "metadata": {
    "collapsed": false
   },
   "outputs": [],
   "source": [
    "col_list = col_list[16:]"
   ]
  },
  {
   "cell_type": "code",
   "execution_count": null,
   "metadata": {
    "collapsed": false
   },
   "outputs": [],
   "source": [
    "col_list"
   ]
  },
  {
   "cell_type": "code",
   "execution_count": null,
   "metadata": {
    "collapsed": false
   },
   "outputs": [],
   "source": [
    "'''\n",
    "col_list.remove('target_market')\n",
    "col_list.remove('cover_image')\n",
    "col_list.remove('url')\n",
    "col_list.remove('score')\n",
    "col_list.remove('index')\n",
    "'''\n",
    "col_list.remove('cropped_path')\n",
    "col_list.remove('file_name')\n",
    "col_list.remove('color_rgb_name1')\n",
    "col_list.remove('color_rgb_name2')\n",
    "col_list.remove('color_rgb_name3')\n",
    "col_list.remove('color_hls1') \n",
    "col_list.remove('color_rgb1')\n",
    "col_list.remove('color_hls2') \n",
    "col_list.remove('color_rgb2')\n",
    "col_list.remove('color_hls3') \n",
    "col_list.remove('color_rgb3')\n",
    "col_list.remove('color_rgb_pri1')\n",
    "col_list.remove('color_rgb_pri2')\n",
    "col_list.remove('color_rgb_pri3')"
   ]
  },
  {
   "cell_type": "code",
   "execution_count": null,
   "metadata": {
    "collapsed": false
   },
   "outputs": [],
   "source": [
    "df[col_list].head()"
   ]
  },
  {
   "cell_type": "code",
   "execution_count": null,
   "metadata": {
    "collapsed": true
   },
   "outputs": [],
   "source": []
  },
  {
   "cell_type": "code",
   "execution_count": null,
   "metadata": {
    "collapsed": true
   },
   "outputs": [],
   "source": []
  },
  {
   "cell_type": "code",
   "execution_count": null,
   "metadata": {
    "collapsed": false
   },
   "outputs": [],
   "source": [
    "X = df[col_list]\n",
    "#y = df.sugar_result_perc\n",
    "y = df.fiber_result_perc"
   ]
  },
  {
   "cell_type": "code",
   "execution_count": null,
   "metadata": {
    "collapsed": false
   },
   "outputs": [],
   "source": [
    "clf = DecisionTreeClassifier(max_depth=None, min_samples_split=1,\n",
    "       random_state=0)\n",
    "scores = cross_val_score(clf, X, y)\n",
    "print \"DecisionTreeClassifier:\", scores.mean()\n",
    "\n",
    "## RandomForestClassifier\n",
    "clf = RandomForestClassifier(n_estimators=100, max_depth=None,\n",
    "     min_samples_split=1, random_state=0)\n",
    "scores = cross_val_score(clf, X, y)\n",
    "print \"RandomForestClassifier:\", scores.mean()\n",
    "\n",
    "## ExtraTreesClassifier\n",
    "clf = ExtraTreesClassifier(n_estimators=100, max_depth=None,\n",
    "    min_samples_split=1, random_state=0)\n",
    "scores = cross_val_score(clf, X, y)\n",
    "print \"ExtraTreesClassifier:  \", scores.mean()"
   ]
  },
  {
   "cell_type": "code",
   "execution_count": null,
   "metadata": {
    "collapsed": false,
    "scrolled": false
   },
   "outputs": [],
   "source": [
    "## RandomForestClassifier\n",
    "clf = RandomForestClassifier(n_estimators=100, max_depth=None,\n",
    "     min_samples_split=1, random_state=0)\n",
    "scores = cross_val_score(clf, X, y)\n",
    "print \"RandomForestClassifier:\", scores.mean()\n",
    "\n",
    "## ExtraTreesClassifier\n",
    "clf = ExtraTreesClassifier(n_estimators=100, max_depth=None,\n",
    "    min_samples_split=1, random_state=0)\n",
    "scores = cross_val_score(clf, X, y)\n",
    "print \"ExtraTreesClassifier:  \", scores.mean()"
   ]
  },
  {
   "cell_type": "code",
   "execution_count": null,
   "metadata": {
    "collapsed": false
   },
   "outputs": [],
   "source": [
    "df.fiber_result_perc.describe()"
   ]
  },
  {
   "cell_type": "code",
   "execution_count": null,
   "metadata": {
    "collapsed": false
   },
   "outputs": [],
   "source": [
    "df.sugar_result_perc.describe()"
   ]
  },
  {
   "cell_type": "code",
   "execution_count": null,
   "metadata": {
    "collapsed": false
   },
   "outputs": [],
   "source": [
    "def setFiber(fiber):\n",
    "    result = \"\"\n",
    "    if fiber >= 11:\n",
    "        result = \"Good\"\n",
    "    elif fiber <= 6:\n",
    "        #result = \"Bad\"\n",
    "        result = \"Average\"\n",
    "    else:\n",
    "        result = \"Average\"\n",
    "    return(result)\n",
    "set_fiber = lambda x: setFiber(x)\n",
    "\n",
    "def setSugar(sugar):\n",
    "    result = \"\"\n",
    "    if sugar >= 30:\n",
    "        #result = \"Bad\"\n",
    "        result = \"Average\"\n",
    "    elif sugar <= 18:\n",
    "        result = \"Good\"\n",
    "    else:\n",
    "        result = \"Average\"\n",
    "    return(result)\n",
    "set_sugar = lambda x: setSugar(x)\n",
    "\n",
    "df['fiber_label'] = df['fiber_result_perc'].map(set_fiber)\n",
    "df['sugar_label'] = df['sugar_result_perc'].map(set_sugar)"
   ]
  },
  {
   "cell_type": "code",
   "execution_count": null,
   "metadata": {
    "collapsed": false
   },
   "outputs": [],
   "source": [
    "##balance the class\n",
    "import random\n",
    "print(df.fiber_label.value_counts())\n",
    "#random.sample(df[df.fiber_label == 'Good'].index, 180)\n",
    "idx_good = [random.choice(df[df.fiber_label == 'Good'].index) for _ in range(200)]\n",
    "idx_average = [random.choice(df[df.fiber_label == 'Average'].index) for _ in range(200)]\n",
    "idx = idx_good + idx_average"
   ]
  },
  {
   "cell_type": "code",
   "execution_count": null,
   "metadata": {
    "collapsed": false
   },
   "outputs": [],
   "source": [
    "X = df[col_list]\n",
    "X = X[idx:]\n",
    "#y = df.sugar_result_perc\n",
    "y = df.fiber_label\n",
    "\n",
    "## RandomForestClassifier\n",
    "clf = RandomForestClassifier(n_estimators=100, max_depth=None,\n",
    "     min_samples_split=10, random_state=0)\n",
    "scores = cross_val_score(clf, X, y, cv = 5)\n",
    "print \"RandomForestClassifier:\", scores.mean()\n",
    "\n",
    "## ExtraTreesClassifier\n",
    "clf = ExtraTreesClassifier(n_estimators=100, max_depth=None,\n",
    "    min_samples_split=10, random_state=0)\n",
    "scores = cross_val_score(clf, X, y, cv = 5)\n",
    "print \"ExtraTreesClassifier:  \", scores.mean()"
   ]
  },
  {
   "cell_type": "code",
   "execution_count": null,
   "metadata": {
    "collapsed": false
   },
   "outputs": [],
   "source": [
    "X = df[col_list]\n",
    "#y = df.sugar_result_perc\n",
    "y = df.sugar_label\n",
    "\n",
    "## RandomForestClassifier\n",
    "clf = RandomForestClassifier(n_estimators=100, max_depth=None,\n",
    "     min_samples_split=10, random_state=0)\n",
    "scores = cross_val_score(clf, X, y, cv = 5)\n",
    "print \"RandomForestClassifier:\", scores.mean()\n",
    "\n",
    "## ExtraTreesClassifier\n",
    "clf = ExtraTreesClassifier(n_estimators=100, max_depth=None,\n",
    "    min_samples_split=10)\n",
    "scores = cross_val_score(clf, X, y, cv = 5)\n",
    "print \"ExtraTreesClassifier:  \", scores.mean()"
   ]
  },
  {
   "cell_type": "code",
   "execution_count": null,
   "metadata": {
    "collapsed": false
   },
   "outputs": [],
   "source": [
    "from sklearn.metrics import confusion_matrix\n",
    "from sklearn.cross_validation import train_test_split\n",
    "\n",
    "clf.fit(X, y)\n",
    "confusion_matrix(y, clf.predict(X))"
   ]
  },
  {
   "cell_type": "code",
   "execution_count": null,
   "metadata": {
    "collapsed": false
   },
   "outputs": [],
   "source": [
    "from sklearn.metrics import classification_report \n",
    "print(classification_report(y, clf.predict(X)))"
   ]
  },
  {
   "cell_type": "code",
   "execution_count": null,
   "metadata": {
    "collapsed": false
   },
   "outputs": [],
   "source": [
    "from sklearn.cross_validation import train_test_split\n",
    "x_train, x_test, y_train, y_test = train_test_split(X, y, test_size=0.2, random_state=42)\n",
    "clf.fit(x_train, y_train)\n",
    "\n",
    "print(confusion_matrix(y_test, clf.predict(x_test)))\n",
    "print(classification_report(y_test, clf.predict(x_test)))"
   ]
  },
  {
   "cell_type": "code",
   "execution_count": null,
   "metadata": {
    "collapsed": true
   },
   "outputs": [],
   "source": []
  },
  {
   "cell_type": "code",
   "execution_count": null,
   "metadata": {
    "collapsed": true
   },
   "outputs": [],
   "source": []
  },
  {
   "cell_type": "code",
   "execution_count": null,
   "metadata": {
    "collapsed": true
   },
   "outputs": [],
   "source": []
  },
  {
   "cell_type": "code",
   "execution_count": null,
   "metadata": {
    "collapsed": false
   },
   "outputs": [],
   "source": [
    "df['color_rgb_name1'].value_counts()"
   ]
  },
  {
   "cell_type": "code",
   "execution_count": null,
   "metadata": {
    "collapsed": false
   },
   "outputs": [],
   "source": [
    "df['color_rgb_name2'].value_counts()"
   ]
  },
  {
   "cell_type": "code",
   "execution_count": null,
   "metadata": {
    "collapsed": false
   },
   "outputs": [],
   "source": [
    "df['color_rgb_name3'].value_counts()"
   ]
  },
  {
   "cell_type": "code",
   "execution_count": null,
   "metadata": {
    "collapsed": false
   },
   "outputs": [],
   "source": [
    "from scipy.spatial import distance\n",
    "\n",
    "the_max_dist = 0\n",
    "for each_comb in [x for x in itertools.combinations('012', 2)]:\n",
    "    a = df['color_rgb1'][1][int(each_comb[0])]\n",
    "    b = df['color_rgb1'][1][int(each_comb[1])]\n",
    "    dst = distance.euclidean(a,b)\n",
    "    the_max_dist = max(dst, the_max_dist)\n",
    "\n",
    "print(the_max_dist)\n",
    "\n"
   ]
  },
  {
   "cell_type": "code",
   "execution_count": null,
   "metadata": {
    "collapsed": false
   },
   "outputs": [],
   "source": [
    "[x for x in itertools.combinations('012', 2)][1][0]"
   ]
  },
  {
   "cell_type": "code",
   "execution_count": null,
   "metadata": {
    "collapsed": false
   },
   "outputs": [],
   "source": [
    "df['color_rgb1'][1]"
   ]
  },
  {
   "cell_type": "code",
   "execution_count": null,
   "metadata": {
    "collapsed": false
   },
   "outputs": [],
   "source": [
    "webcolors.css3_hex_to_names.items()[1][1]"
   ]
  },
  {
   "cell_type": "code",
   "execution_count": null,
   "metadata": {
    "collapsed": false
   },
   "outputs": [],
   "source": [
    "3 in [1, 2, 3]"
   ]
  },
  {
   "cell_type": "code",
   "execution_count": null,
   "metadata": {
    "collapsed": false
   },
   "outputs": [],
   "source": [
    "\n"
   ]
  },
  {
   "cell_type": "code",
   "execution_count": null,
   "metadata": {
    "collapsed": false
   },
   "outputs": [],
   "source": [
    "len(df['color_rgb_name2'].value_counts())"
   ]
  },
  {
   "cell_type": "code",
   "execution_count": null,
   "metadata": {
    "collapsed": false
   },
   "outputs": [],
   "source": [
    "len(df['color_rgb_name3'].value_counts())"
   ]
  },
  {
   "cell_type": "code",
   "execution_count": null,
   "metadata": {
    "collapsed": false
   },
   "outputs": [],
   "source": []
  },
  {
   "cell_type": "code",
   "execution_count": null,
   "metadata": {
    "collapsed": false
   },
   "outputs": [],
   "source": []
  },
  {
   "cell_type": "code",
   "execution_count": null,
   "metadata": {
    "collapsed": false
   },
   "outputs": [],
   "source": [
    "rgb_name = lambda x: get_colour_name(x)\n",
    "#df['color_rgb1_name'] = df['color_rgb1'].map(rgb_name)\n",
    "df['color_rgb1'].map(rgb_name)"
   ]
  },
  {
   "cell_type": "code",
   "execution_count": null,
   "metadata": {
    "collapsed": false
   },
   "outputs": [],
   "source": [
    "requested_colour = (119, 172, 152)\n",
    "closest_name = get_colour_name(requested_colour)\n",
    "\n",
    "print \"Closest colour name:\", closest_name"
   ]
  },
  {
   "cell_type": "code",
   "execution_count": null,
   "metadata": {
    "collapsed": true
   },
   "outputs": [],
   "source": []
  },
  {
   "cell_type": "code",
   "execution_count": null,
   "metadata": {
    "collapsed": true
   },
   "outputs": [],
   "source": []
  },
  {
   "cell_type": "code",
   "execution_count": null,
   "metadata": {
    "collapsed": false,
    "scrolled": true
   },
   "outputs": [],
   "source": [
    "df.loc[140,]"
   ]
  },
  {
   "cell_type": "code",
   "execution_count": null,
   "metadata": {
    "collapsed": false
   },
   "outputs": [],
   "source": []
  },
  {
   "cell_type": "code",
   "execution_count": null,
   "metadata": {
    "collapsed": false
   },
   "outputs": [],
   "source": [
    "\n",
    "\n",
    "ggplot(df, aes(x='sugar_result', y='serving_size', color='target_market ')) +\\\n",
    "    geom_point(position = \"jitter\") +\\\n",
    "    scale_color_brewer(type='qual') +\\\n",
    "    xlab(\"Sugar Per Serving\") + ylab(\"Serving Size\") + ggtitle(\"Cereal (Sugar)\") +\\\n",
    "    facet_wrap(\"target_market\", scales=\"free_x\")"
   ]
  },
  {
   "cell_type": "code",
   "execution_count": null,
   "metadata": {
    "collapsed": true
   },
   "outputs": [],
   "source": []
  },
  {
   "cell_type": "markdown",
   "metadata": {},
   "source": [
    "###EDA"
   ]
  },
  {
   "cell_type": "markdown",
   "metadata": {},
   "source": [
    "Suger Per Serving\n",
    " - Interesting to see larger serving size does not have a hight correlation to the sugar\n",
    " - Is unstandable to see cereal which have child as targeted market has smaller serving size\n",
    " - Interesting to see cereal which have adult as targeted market has two culster of serving size\n",
    " - There seems to be a data point missing target_market "
   ]
  },
  {
   "cell_type": "code",
   "execution_count": null,
   "metadata": {
    "collapsed": false,
    "scrolled": false
   },
   "outputs": [],
   "source": [
    "ggplot(df, aes(x='sugar_per_serving', y='serving_size', color='target_market ')) +\\\n",
    "    geom_point(position = \"jitter\") +\\\n",
    "    scale_color_brewer(type='qual') +\\\n",
    "    xlab(\"Sugar Per Serving\") + ylab(\"Serving Size\") + ggtitle(\"Cereal (Sugar)\") +\\\n",
    "    facet_wrap(\"target_market\", scales=\"free_x\")"
   ]
  },
  {
   "cell_type": "markdown",
   "metadata": {},
   "source": [
    "* * * * *"
   ]
  },
  {
   "cell_type": "markdown",
   "metadata": {},
   "source": [
    "Let's remove those has no target market"
   ]
  },
  {
   "cell_type": "code",
   "execution_count": null,
   "metadata": {
    "collapsed": false
   },
   "outputs": [],
   "source": [
    "df = df[df.target_market  != \"None\"]"
   ]
  },
  {
   "cell_type": "markdown",
   "metadata": {},
   "source": [
    "* * * * *"
   ]
  },
  {
   "cell_type": "markdown",
   "metadata": {
    "collapsed": true
   },
   "source": [
    "Fiber Per Serving\n",
    " - Only Family cereal has a strong corelation to the serving size"
   ]
  },
  {
   "cell_type": "code",
   "execution_count": null,
   "metadata": {
    "collapsed": false
   },
   "outputs": [],
   "source": [
    "ggplot(df, aes(x='fiber_per_serving', y='serving_size', color='target_market ')) +\\\n",
    "    geom_point(position = \"jitter\") +\\\n",
    "    scale_color_brewer(type='qual') +\\\n",
    "    xlab(\"Fiber Per Serving\") + ylab(\"Serving Size\") + ggtitle(\"Cereal (Fiber)\") +\\\n",
    "    facet_wrap(\"target_market\", scales=\"free_x\")"
   ]
  },
  {
   "cell_type": "code",
   "execution_count": null,
   "metadata": {
    "collapsed": false
   },
   "outputs": [],
   "source": [
    "sns.set(style=\"ticks\")\n",
    "\n",
    "# Show the results of a linear regression within each dataset\n",
    "sns.lmplot(x=\"fiber_per_serving\", y=\"serving_size\", col=\"target_market\", hue=\"target_market\", col_wrap=3\n",
    "           , data=df)"
   ]
  },
  {
   "cell_type": "markdown",
   "metadata": {},
   "source": [
    "* * * * *"
   ]
  },
  {
   "cell_type": "markdown",
   "metadata": {},
   "source": [
    "Sodium Per Serving\n",
    " - Interesting to see only Adult and Family offer ZERO sodium cereal"
   ]
  },
  {
   "cell_type": "code",
   "execution_count": null,
   "metadata": {
    "collapsed": false
   },
   "outputs": [],
   "source": [
    "ggplot(df, aes(x='sodium_per_serving ', y='serving_size', color='target_market ')) +\\\n",
    "    geom_point(position = \"jitter\") +\\\n",
    "    scale_color_brewer(type='qual') +\\\n",
    "    xlab(\"Sodium Per Serving\") + ylab(\"Serving Size\") + ggtitle(\"Cereal (Sodium)\") +\\\n",
    "    facet_wrap(\"target_market\", scales=\"free_x\")"
   ]
  },
  {
   "cell_type": "markdown",
   "metadata": {
    "collapsed": false
   },
   "source": [
    "* * * * *"
   ]
  },
  {
   "cell_type": "markdown",
   "metadata": {
    "collapsed": true
   },
   "source": [
    "Calories Per Serving\n",
    " - Is safe to say that the bigger serving it is, the more calories it has. No exception"
   ]
  },
  {
   "cell_type": "code",
   "execution_count": null,
   "metadata": {
    "collapsed": false
   },
   "outputs": [],
   "source": [
    "ggplot(df, aes(x='calories_per_serving  ', y='serving_size', color='target_market ')) +\\\n",
    "    geom_point(position = \"jitter\") +\\\n",
    "    scale_color_brewer(type='qual') +\\\n",
    "    xlab(\"Calories Per Serving\") + ylab(\"Serving Size\") + ggtitle(\"Cereal (Calories)\") +\\\n",
    "    facet_wrap(\"target_market\", scales=\"free_x\")"
   ]
  },
  {
   "cell_type": "code",
   "execution_count": null,
   "metadata": {
    "collapsed": false
   },
   "outputs": [],
   "source": [
    "sns.set(style=\"ticks\")\n",
    "\n",
    "# Show the results of a linear regression within each dataset\n",
    "sns.lmplot(x=\"calories_per_serving\", y=\"serving_size\", col=\"target_market\", hue=\"target_market\", col_wrap=3\n",
    "           , data=df)"
   ]
  },
  {
   "cell_type": "code",
   "execution_count": null,
   "metadata": {
    "collapsed": true
   },
   "outputs": [],
   "source": []
  },
  {
   "cell_type": "code",
   "execution_count": null,
   "metadata": {
    "collapsed": false
   },
   "outputs": [],
   "source": [
    "import numpy as np\n",
    "import matplotlib.pyplot as plt\n",
    "rs = np.random.RandomState(10)\n",
    "\n",
    "# Set up the matplotlib figure\n",
    "sns.despine(left=True)\n",
    "\n",
    "# Generate a random univariate dataset\n",
    "d = rs.normal(size=100)\n",
    "\n",
    "# Plot a historgram and kernel density estimate\n",
    "sns.distplot(df.calories_per_serving, color=\"m\")\n",
    "\n",
    "plt.tight_layout()"
   ]
  },
  {
   "cell_type": "code",
   "execution_count": null,
   "metadata": {
    "collapsed": true
   },
   "outputs": [],
   "source": []
  },
  {
   "cell_type": "code",
   "execution_count": null,
   "metadata": {
    "collapsed": false
   },
   "outputs": [],
   "source": [
    "import seaborn as sns\n",
    "sns.set()\n",
    "\n",
    "sns.pairplot(df, hue=\"target_market\")"
   ]
  },
  {
   "cell_type": "code",
   "execution_count": null,
   "metadata": {
    "collapsed": false
   },
   "outputs": [],
   "source": [
    "import seaborn as sns\n",
    "sns.set()\n",
    "\n",
    "sns.pairplot(df, hue=\"score\")"
   ]
  },
  {
   "cell_type": "markdown",
   "metadata": {
    "collapsed": true
   },
   "source": [
    "Features =]"
   ]
  },
  {
   "cell_type": "code",
   "execution_count": null,
   "metadata": {
    "collapsed": true
   },
   "outputs": [],
   "source": [
    "## \n",
    "def gen_file_name(row):\n",
    "    file_name = row.cover_image.split('/')[len(row.cover_image.split('/'))-1]\n",
    "    file_name = 'img_' + str(row['index']).zfill (3) + '_' + (file_name).lower()\n",
    "    #print('Processing ' + str(row['index']))\n",
    "    return(file_name)\n",
    "\n",
    "## \n",
    "def gen_cropped_file_path(row):\n",
    "    file_name = row.file_name\n",
    "    path_name = '../img/cropped/' + string.replace(file_name, '.jpg', '_cropped.png')\n",
    "    return(path_name)\n",
    "    #file_name = 'img_' + str(row['index']).zfill (3) + '_' + (file_name).lower()\n",
    "    #print('Processing ' + str(row['index']))\n",
    "    #return(file_name)"
   ]
  },
  {
   "cell_type": "code",
   "execution_count": null,
   "metadata": {
    "collapsed": true
   },
   "outputs": [],
   "source": [
    "df['file_name'] = df.apply(gen_file_name, axis=1)\n",
    "df['cropped_path'] = df.apply(gen_cropped_file_path, axis=1)"
   ]
  },
  {
   "cell_type": "code",
   "execution_count": null,
   "metadata": {
    "collapsed": false
   },
   "outputs": [],
   "source": [
    "df.head()"
   ]
  },
  {
   "cell_type": "code",
   "execution_count": null,
   "metadata": {
    "collapsed": true
   },
   "outputs": [],
   "source": [
    "for name, url in zip(df.file_name, df.cover_image):\n",
    "    if (os.path.isfile('../img/' + name) == False):\n",
    "        resource = urllib.urlopen(url)\n",
    "        output = open('../img/' + name, 'wb')\n",
    "        output.write(resource.read())\n",
    "        output.close()"
   ]
  },
  {
   "cell_type": "code",
   "execution_count": null,
   "metadata": {
    "collapsed": true
   },
   "outputs": [],
   "source": [
    "for file_name in df.file_name:\n",
    "    if (os.path.isfile('../img/cropped/' + string.replace(file_name, '.jpg', '_cropped.png')) == False):\n",
    "        img = Image.open('../img/' + file_name)\n",
    "        img = img.convert(\"RGBA\")\n",
    "        pixdata = img.load()\n",
    "        for y in xrange(img.size[1]):\n",
    "            for x in xrange(img.size[0]):\n",
    "                if pixdata[x, y] == (255, 255, 255, 255):\n",
    "                    pixdata[x, y] = (255, 255, 255, 0)\n",
    "        img.save('../img/cropped/' + string.replace(file_name, '.jpg', '_cropped.png'), \"PNG\")"
   ]
  },
  {
   "cell_type": "code",
   "execution_count": null,
   "metadata": {
    "collapsed": true
   },
   "outputs": [],
   "source": [
    "## Helper function to get the RGB and HSL\n",
    "\n",
    "def open_convert_image(input_img_file, numcolors=1):\n",
    "    image = Image.open(input_img_file)\n",
    "    result = image.convert('P', palette=Image.ADAPTIVE, colors=numcolors)\n",
    "    result.putalpha(0)\n",
    "    return(result)\n",
    "\n",
    "def get_list_color(input_img_file, numcolors=1):\n",
    "    return(open_convert_image(input_img_file, numcolors).getcolors())\n",
    "\n",
    "def get_rgb_list(input_img_file, numcolors=2):\n",
    "    colors_list = get_list_color(input_img_file, numcolors)\n",
    "    result = []\n",
    "    for color in colors_list:\n",
    "        result.append(list(color[1][0:3]))\n",
    "    return(result)\n",
    "\n",
    "def df_get_rgb_list(row, numcolors=3):\n",
    "    return(get_rgb_list(row.cropped_path, numcolors))\n",
    "\n",
    "def get_hls_list(input_img_file, numcolors=1):\n",
    "    result = []\n",
    "    for rgb_set in get_rgb_list(input_img_file, numcolors):\n",
    "        result.append(list(colorsys.rgb_to_hls(*[x/255.0 for x in rgb_set])))\n",
    "    return(result)\n",
    "\n",
    "def df_get_hls_list(row, numcolors=1):\n",
    "    return(list(get_hls_list(row.cropped_path, numcolors))[numcolors - 1])\n",
    "\n",
    "def df_get_h(row):\n",
    "    return(list(get_hls_list(row.cropped_path, numcolors)[0]))\n",
    "\n",
    "def hls(row, numcolors=1):\n",
    "    return(list(get_hls_list(row, numcolors))[numcolors - 1])\n",
    "\n",
    "def rgb(row, numcolors=1):\n",
    "    return(get_rgb_list(row, numcolors)[numcolors - 1])\n",
    "\n"
   ]
  },
  {
   "cell_type": "code",
   "execution_count": null,
   "metadata": {
    "collapsed": true
   },
   "outputs": [],
   "source": [
    "for num in range(1, 4):\n",
    "    hls_color = lambda x: hls(x, num)\n",
    "    rgb_color = lambda x: rgb(x, num)\n",
    "\n",
    "    df['color_h' + str(num)], df['color_l' + str(num)], df['color_s' + str(num)] = zip(*df['cropped_path'].map(hls_color))\n",
    "    df['color_r' + str(num)], df['color_g' + str(num)], df['color_b' + str(num)] = zip(*df['cropped_path'].map(rgb_color))"
   ]
  },
  {
   "cell_type": "code",
   "execution_count": null,
   "metadata": {
    "collapsed": true
   },
   "outputs": [],
   "source": [
    "def setScore(score):\n",
    "    result = \"\"\n",
    "    if score >= 58:\n",
    "        result = \"Good\"\n",
    "    elif score < 48:\n",
    "        result = \"Bad\"\n",
    "    else:\n",
    "        result = \"Average\"\n",
    "    return(result)\n",
    "set_score = lambda x: setScore(x)\n",
    "\n",
    "df['score_label'] = df['score'].map(set_score)\n",
    "\n"
   ]
  },
  {
   "cell_type": "code",
   "execution_count": null,
   "metadata": {
    "collapsed": false
   },
   "outputs": [],
   "source": [
    "df['score_label']"
   ]
  },
  {
   "cell_type": "code",
   "execution_count": null,
   "metadata": {
    "collapsed": false
   },
   "outputs": [],
   "source": [
    "import seaborn as sns\n",
    "sns.set()\n",
    "\n",
    "sns.pairplot(df, hue=\"score_label\")"
   ]
  },
  {
   "cell_type": "code",
   "execution_count": null,
   "metadata": {
    "collapsed": false
   },
   "outputs": [],
   "source": [
    "df.corr().fiber_per_serving "
   ]
  },
  {
   "cell_type": "code",
   "execution_count": null,
   "metadata": {
    "collapsed": false
   },
   "outputs": [],
   "source": [
    "g = sns.PairGrid(df, vars=[\"color_h1\", \"color_l1\", \"color_s1\"],\n",
    "                 hue=\"score_label\", aspect=1, size=5)\n",
    "g.map(plt.scatter)"
   ]
  },
  {
   "cell_type": "code",
   "execution_count": null,
   "metadata": {
    "collapsed": false
   },
   "outputs": [],
   "source": [
    "g = sns.PairGrid(df, vars=[\"color_r1\", \"color_g1\", \"color_b1\"],\n",
    "                 hue=\"score_label\", aspect=1, size=5)\n",
    "g.map(plt.scatter)"
   ]
  },
  {
   "cell_type": "code",
   "execution_count": null,
   "metadata": {
    "collapsed": false
   },
   "outputs": [],
   "source": [
    "np.log(df.color_r1)"
   ]
  },
  {
   "cell_type": "code",
   "execution_count": null,
   "metadata": {
    "collapsed": false
   },
   "outputs": [],
   "source": [
    "df_log = np.log(df[s for s in list(df.columns.values) if 'color' in s])"
   ]
  },
  {
   "cell_type": "code",
   "execution_count": null,
   "metadata": {
    "collapsed": false
   },
   "outputs": [],
   "source": [
    "[s for s in list(df.columns.values) if 'color' in s]"
   ]
  },
  {
   "cell_type": "code",
   "execution_count": null,
   "metadata": {
    "collapsed": true
   },
   "outputs": [],
   "source": [
    "df_log = np.log(df.loc[:, [s for s in list(df.columns.values) if 'color' in s]])"
   ]
  },
  {
   "cell_type": "code",
   "execution_count": null,
   "metadata": {
    "collapsed": false
   },
   "outputs": [],
   "source": [
    "df_log = np.log(df.loc[:,'color_h1':'color_b3'])"
   ]
  },
  {
   "cell_type": "code",
   "execution_count": null,
   "metadata": {
    "collapsed": false
   },
   "outputs": [],
   "source": [
    "df_log['score_label'] = df.score_label"
   ]
  },
  {
   "cell_type": "code",
   "execution_count": null,
   "metadata": {
    "collapsed": false
   },
   "outputs": [],
   "source": [
    "df_log.head()"
   ]
  },
  {
   "cell_type": "code",
   "execution_count": null,
   "metadata": {
    "collapsed": false
   },
   "outputs": [],
   "source": [
    "g = sns.PairGrid(df_log, vars=[\"color_r1\", \"color_g1\", \"color_b1\"],\n",
    "                 hue=\"score_label\", aspect=1, size=5)\n",
    "g.map(plt.scatter)"
   ]
  },
  {
   "cell_type": "code",
   "execution_count": null,
   "metadata": {
    "collapsed": true
   },
   "outputs": [],
   "source": []
  },
  {
   "cell_type": "code",
   "execution_count": null,
   "metadata": {
    "collapsed": true
   },
   "outputs": [],
   "source": []
  },
  {
   "cell_type": "code",
   "execution_count": null,
   "metadata": {
    "collapsed": true
   },
   "outputs": [],
   "source": []
  },
  {
   "cell_type": "code",
   "execution_count": null,
   "metadata": {
    "collapsed": true
   },
   "outputs": [],
   "source": []
  },
  {
   "cell_type": "code",
   "execution_count": null,
   "metadata": {
    "collapsed": true
   },
   "outputs": [],
   "source": []
  },
  {
   "cell_type": "code",
   "execution_count": null,
   "metadata": {
    "collapsed": true
   },
   "outputs": [],
   "source": []
  },
  {
   "cell_type": "code",
   "execution_count": null,
   "metadata": {
    "collapsed": true
   },
   "outputs": [],
   "source": []
  },
  {
   "cell_type": "code",
   "execution_count": null,
   "metadata": {
    "collapsed": false
   },
   "outputs": [],
   "source": [
    "df.corr().score"
   ]
  },
  {
   "cell_type": "code",
   "execution_count": null,
   "metadata": {
    "collapsed": false
   },
   "outputs": [],
   "source": [
    "df.corr().sugar_per_serving"
   ]
  },
  {
   "cell_type": "code",
   "execution_count": null,
   "metadata": {
    "collapsed": false
   },
   "outputs": [],
   "source": [
    "df.corr().fiber_per_serving"
   ]
  },
  {
   "cell_type": "code",
   "execution_count": null,
   "metadata": {
    "collapsed": true
   },
   "outputs": [],
   "source": []
  },
  {
   "cell_type": "code",
   "execution_count": null,
   "metadata": {
    "collapsed": false
   },
   "outputs": [],
   "source": [
    "corr = df.corr()\n",
    "fig, ax = plt.subplots(figsize=(20, 20))\n",
    "ax.matshow(corr)\n",
    "plt.xticks(range(len(corr.columns)), corr.columns);\n",
    "plt.yticks(range(len(corr.columns)), corr.columns);"
   ]
  },
  {
   "cell_type": "code",
   "execution_count": null,
   "metadata": {
    "collapsed": true
   },
   "outputs": [],
   "source": []
  },
  {
   "cell_type": "code",
   "execution_count": null,
   "metadata": {
    "collapsed": true
   },
   "outputs": [],
   "source": []
  },
  {
   "cell_type": "code",
   "execution_count": null,
   "metadata": {
    "collapsed": true
   },
   "outputs": [],
   "source": []
  },
  {
   "cell_type": "code",
   "execution_count": null,
   "metadata": {
    "collapsed": false,
    "scrolled": true
   },
   "outputs": [],
   "source": [
    "X = df.drop(['score'], axis=1)\n",
    "y = df['score']"
   ]
  },
  {
   "cell_type": "code",
   "execution_count": null,
   "metadata": {
    "collapsed": false
   },
   "outputs": [],
   "source": [
    "X = df.ix[:,16:33]"
   ]
  },
  {
   "cell_type": "code",
   "execution_count": null,
   "metadata": {
    "collapsed": false
   },
   "outputs": [],
   "source": [
    "X.head()"
   ]
  },
  {
   "cell_type": "code",
   "execution_count": null,
   "metadata": {
    "collapsed": false
   },
   "outputs": [],
   "source": [
    "F = feature_selection.f_classif(X, y)[0]\n",
    "title = 'Cereal Features with F-Values'\n",
    "plt.figure(figsize=(13, 8))\n",
    "ax = sns.barplot(x=df.columns[16:33],y=F)\n",
    "ax.set_title(title)\n",
    "ax.set(xlabel=\"Features\");\n"
   ]
  },
  {
   "cell_type": "code",
   "execution_count": null,
   "metadata": {
    "collapsed": false
   },
   "outputs": [],
   "source": [
    "X = df.drop(['score'], axis=1)\n",
    "y = df['score_label']\n",
    "X = df.ix[:,16:33]\n",
    "F = feature_selection.f_classif(X, y)[0]\n",
    "title = 'Cereal Features with F-Values'\n",
    "plt.figure(figsize=(13, 8))\n",
    "ax = sns.barplot(x=df.columns[16:33],y=F)\n",
    "ax.set_title(title)\n",
    "ax.set(xlabel=\"Features\");"
   ]
  },
  {
   "cell_type": "code",
   "execution_count": null,
   "metadata": {
    "collapsed": false
   },
   "outputs": [],
   "source": []
  },
  {
   "cell_type": "code",
   "execution_count": null,
   "metadata": {
    "collapsed": true
   },
   "outputs": [],
   "source": [
    "X = df.ix[:,16:33]"
   ]
  },
  {
   "cell_type": "code",
   "execution_count": null,
   "metadata": {
    "collapsed": false
   },
   "outputs": [],
   "source": [
    "X"
   ]
  },
  {
   "cell_type": "code",
   "execution_count": null,
   "metadata": {
    "collapsed": false
   },
   "outputs": [],
   "source": [
    "X = df.drop(['score'], axis=1)\n",
    "y = df['score_label']\n",
    "X = df.ix[:,16:33]\n",
    "F = feature_selection.f_classif(X, y)[0]\n",
    "title = 'Cereal Features with F-Values'\n",
    "plt.figure(figsize=(13, 8))\n",
    "ax = sns.barplot(x=df.columns[16:33],y=F)\n",
    "ax.set_title(title)\n",
    "ax.set(xlabel=\"Features\");"
   ]
  },
  {
   "cell_type": "code",
   "execution_count": null,
   "metadata": {
    "collapsed": true
   },
   "outputs": [],
   "source": []
  },
  {
   "cell_type": "code",
   "execution_count": null,
   "metadata": {
    "collapsed": true
   },
   "outputs": [],
   "source": []
  },
  {
   "cell_type": "code",
   "execution_count": null,
   "metadata": {
    "collapsed": true
   },
   "outputs": [],
   "source": []
  },
  {
   "cell_type": "code",
   "execution_count": null,
   "metadata": {
    "collapsed": true
   },
   "outputs": [],
   "source": []
  },
  {
   "cell_type": "code",
   "execution_count": null,
   "metadata": {
    "collapsed": true
   },
   "outputs": [],
   "source": []
  },
  {
   "cell_type": "code",
   "execution_count": null,
   "metadata": {
    "collapsed": true
   },
   "outputs": [],
   "source": []
  },
  {
   "cell_type": "code",
   "execution_count": null,
   "metadata": {
    "collapsed": true
   },
   "outputs": [],
   "source": []
  },
  {
   "cell_type": "code",
   "execution_count": null,
   "metadata": {
    "collapsed": true
   },
   "outputs": [],
   "source": []
  },
  {
   "cell_type": "code",
   "execution_count": null,
   "metadata": {
    "collapsed": false
   },
   "outputs": [],
   "source": []
  },
  {
   "cell_type": "code",
   "execution_count": null,
   "metadata": {
    "collapsed": false
   },
   "outputs": [],
   "source": []
  },
  {
   "cell_type": "code",
   "execution_count": null,
   "metadata": {
    "collapsed": false
   },
   "outputs": [],
   "source": []
  },
  {
   "cell_type": "code",
   "execution_count": null,
   "metadata": {
    "collapsed": false
   },
   "outputs": [],
   "source": []
  },
  {
   "cell_type": "code",
   "execution_count": null,
   "metadata": {
    "collapsed": false
   },
   "outputs": [],
   "source": []
  },
  {
   "cell_type": "code",
   "execution_count": null,
   "metadata": {
    "collapsed": false
   },
   "outputs": [],
   "source": []
  },
  {
   "cell_type": "code",
   "execution_count": null,
   "metadata": {
    "collapsed": false
   },
   "outputs": [],
   "source": []
  },
  {
   "cell_type": "code",
   "execution_count": null,
   "metadata": {
    "collapsed": false
   },
   "outputs": [],
   "source": []
  },
  {
   "cell_type": "code",
   "execution_count": null,
   "metadata": {
    "collapsed": false
   },
   "outputs": [],
   "source": [
    "zip(*df.head()['rgb_list'])"
   ]
  },
  {
   "cell_type": "code",
   "execution_count": null,
   "metadata": {
    "collapsed": false
   },
   "outputs": [],
   "source": [
    "get_hls_list('../img/cropped/img_001_anniesfruitybunnies_cropped.png', 1)"
   ]
  },
  {
   "cell_type": "code",
   "execution_count": null,
   "metadata": {
    "collapsed": false
   },
   "outputs": [],
   "source": [
    "df['hls_list'] = df.apply(df_get_hls_list, axis=1)\n",
    "\n",
    "#get_rgb_list('../img/cropped/img_001_anniesfruitybunnies_cropped.png', 3)"
   ]
  },
  {
   "cell_type": "code",
   "execution_count": null,
   "metadata": {
    "collapsed": false
   },
   "outputs": [],
   "source": [
    "df['score'].describe()\n"
   ]
  },
  {
   "cell_type": "code",
   "execution_count": null,
   "metadata": {
    "collapsed": false
   },
   "outputs": [],
   "source": [
    "df['h'], df['l'], df['s'] = zip(*df.apply(df_get_hls_list, axis=1))"
   ]
  },
  {
   "cell_type": "code",
   "execution_count": null,
   "metadata": {
    "collapsed": false
   },
   "outputs": [],
   "source": [
    "\n",
    "\n",
    "\n",
    "\n",
    "hls_color = lambda x: hls(x, 2)\n",
    "\n",
    "zip(*df['cropped_path'].map(hls_color))"
   ]
  },
  {
   "cell_type": "code",
   "execution_count": null,
   "metadata": {
    "collapsed": false
   },
   "outputs": [],
   "source": [
    "zip(*df.apply(df_get_hls_list, axis=1))"
   ]
  },
  {
   "cell_type": "code",
   "execution_count": null,
   "metadata": {
    "collapsed": false
   },
   "outputs": [],
   "source": [
    "df[\"hls_list\"].str"
   ]
  },
  {
   "cell_type": "code",
   "execution_count": null,
   "metadata": {
    "collapsed": false
   },
   "outputs": [],
   "source": [
    "df.head()"
   ]
  },
  {
   "cell_type": "code",
   "execution_count": null,
   "metadata": {
    "collapsed": true
   },
   "outputs": [],
   "source": []
  },
  {
   "cell_type": "code",
   "execution_count": null,
   "metadata": {
    "collapsed": true
   },
   "outputs": [],
   "source": []
  },
  {
   "cell_type": "code",
   "execution_count": null,
   "metadata": {
    "collapsed": true
   },
   "outputs": [],
   "source": []
  }
 ],
 "metadata": {
  "kernelspec": {
   "display_name": "Python 2",
   "language": "python",
   "name": "python2"
  },
  "language_info": {
   "codemirror_mode": {
    "name": "ipython",
    "version": 2
   },
   "file_extension": ".py",
   "mimetype": "text/x-python",
   "name": "python",
   "nbconvert_exporter": "python",
   "pygments_lexer": "ipython2",
   "version": "2.7.10"
  }
 },
 "nbformat": 4,
 "nbformat_minor": 0
}
