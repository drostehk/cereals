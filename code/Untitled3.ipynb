{
 "cells": [
  {
   "cell_type": "code",
   "execution_count": 30,
   "metadata": {
    "collapsed": true
   },
   "outputs": [],
   "source": [
    "from PIL import Image\n",
    "# Convert jpg to png\n",
    "name = 'img_077_gmfiberoneraisinbranclusters_cropped'\n",
    "img_name = '../img/kelvin_cropped/' + name + '.jpg'\n",
    "img_jpg = Image.open(img_name)\n",
    "img_png = img_jpg.convert(\"RGBA\")\n",
    "png_name = '../img/kelvin_cropped/' + name + '.png'\n",
    "img_png.save(png_name, \"PNG\")\n"
   ]
  }
 ],
 "metadata": {
  "kernelspec": {
   "display_name": "Python 2",
   "language": "python",
   "name": "python2"
  },
  "language_info": {
   "codemirror_mode": {
    "name": "ipython",
    "version": 2
   },
   "file_extension": ".py",
   "mimetype": "text/x-python",
   "name": "python",
   "nbconvert_exporter": "python",
   "pygments_lexer": "ipython2",
   "version": "2.7.10"
  }
 },
 "nbformat": 4,
 "nbformat_minor": 0
}
