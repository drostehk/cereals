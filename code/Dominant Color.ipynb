{
 "cells": [
  {
   "cell_type": "code",
   "execution_count": 3,
   "metadata": {
    "collapsed": true
   },
   "outputs": [],
   "source": [
    "import Image, ImageDraw\n",
    "from PIL import Image\n",
    "from sklearn.cluster import KMeans\n",
    "import matplotlib.pyplot as plt\n",
    "import argparse\n",
    "import utils\n",
    "import cv2\n",
    "import os\n",
    "import sys\n",
    "import string\n",
    "import colorsys\n",
    "import numpy as np"
   ]
  },
  {
   "cell_type": "code",
   "execution_count": 2,
   "metadata": {
    "collapsed": true
   },
   "outputs": [],
   "source": [
    "#Open an image and convert it t\n",
    "def open_convert_image(input_img_file, numcolors=1):\n",
    "    image = Image.open(input_img_file)\n",
    "    result = image.convert('P', palette=Image.ADAPTIVE, colors=numcolors)\n",
    "    result.putalpha(0)\n",
    "    return(result)"
   ]
  },
  {
   "cell_type": "code",
   "execution_count": null,
   "metadata": {
    "collapsed": true
   },
   "outputs": [],
   "source": [
    "def get_list_color(input_img_file, numcolors=1):\n",
    "    return(open_convert_image(input_img_file, numcolors).getcolors())"
   ]
  },
  {
   "cell_type": "code",
   "execution_count": null,
   "metadata": {
    "collapsed": true
   },
   "outputs": [],
   "source": [
    "def get_rgb_list(input_img_file, numcolors=1):\n",
    "    colors_list = get_list_color(input_img_file, numcolors)\n",
    "    result = []\n",
    "    for color in colors_list:\n",
    "        result.append(list(color[1][0:3]))\n",
    "    return(result)"
   ]
  },
  {
   "cell_type": "code",
   "execution_count": null,
   "metadata": {
    "collapsed": true
   },
   "outputs": [],
   "source": [
    "def get_hls_list(rgb_list):\n",
    "    result = []\n",
    "    for rgb_set in rgb_list:\n",
    "        result.append((colorsys.rgb_to_hls(*[x/255.0 for x in rgb_set])))\n",
    "    return(result)    "
   ]
  },
  {
   "cell_type": "code",
   "execution_count": null,
   "metadata": {
    "collapsed": true
   },
   "outputs": [],
   "source": [
    "def gen_dominant_color_img(input_img_file, export_img_file = None, numcolors=1, swatchsize=20):\n",
    "\n",
    "    colors = get_list_color(input_img_file, numcolors)\n",
    "\n",
    "    # Save colors to file\n",
    "\n",
    "    pal = Image.new('RGB', (swatchsize*numcolors, swatchsize))\n",
    "    draw = ImageDraw.Draw(pal)\n",
    "\n",
    "    posx = 0\n",
    "    for count, col in colors:\n",
    "        draw.rectangle([posx, 0, posx+swatchsize, swatchsize], fill=col)\n",
    "        posx = posx + swatchsize\n",
    "\n",
    "    del draw\n",
    "    if export_img_file == None:\n",
    "        pal.save(string.replace(input_img_file, 'jpg', 'png'), \"PNG\")\n",
    "    else:\n",
    "        pal.save(string.replace(export_img_file, 'jpg', 'png'), \"PNG\")"
   ]
  },
  {
   "cell_type": "code",
   "execution_count": null,
   "metadata": {
    "collapsed": true
   },
   "outputs": [],
   "source": [
    "counter = 1\n",
    "for image in [s for s in os.listdir('../img/') if 'jpg' in s]:\n",
    "    #gen_dominant_color_img('../img/' + image, '../img/dominant_color/' + image, 3)\n",
    "    #print(\"Processing: \" + str(counter))\n",
    "    counter = counter + 1"
   ]
  },
  {
   "cell_type": "code",
   "execution_count": null,
   "metadata": {
    "collapsed": true
   },
   "outputs": [],
   "source": []
  },
  {
   "cell_type": "code",
   "execution_count": null,
   "metadata": {
    "collapsed": true
   },
   "outputs": [],
   "source": []
  },
  {
   "cell_type": "code",
   "execution_count": null,
   "metadata": {
    "collapsed": true
   },
   "outputs": [],
   "source": []
  },
  {
   "cell_type": "code",
   "execution_count": null,
   "metadata": {
    "collapsed": true
   },
   "outputs": [],
   "source": []
  }
 ],
 "metadata": {
  "kernelspec": {
   "display_name": "Python 2",
   "language": "python",
   "name": "python2"
  },
  "language_info": {
   "codemirror_mode": {
    "name": "ipython",
    "version": 2
   },
   "file_extension": ".py",
   "mimetype": "text/x-python",
   "name": "python",
   "nbconvert_exporter": "python",
   "pygments_lexer": "ipython2",
   "version": "2.7.10"
  }
 },
 "nbformat": 4,
 "nbformat_minor": 0
}
